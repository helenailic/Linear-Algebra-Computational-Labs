{
 "cells": [
  {
   "cell_type": "code",
   "execution_count": 1,
   "metadata": {},
   "outputs": [
    {
     "name": "stderr",
     "output_type": "stream",
     "text": [
      "Matplotlib created a temporary config/cache directory at /tmp/matplotlib-jfxel02v because the default path (/tmp/cache/matplotlib) is not a writable directory; it is highly recommended to set the MPLCONFIGDIR environment variable to a writable directory, in particular to speed up the import of Matplotlib and to better support multiprocessing.\n"
     ]
    }
   ],
   "source": [
    "import numpy as np\n",
    "import numpy.linalg as la\n",
    "import matplotlib.pyplot as plt\n",
    "import graph"
   ]
  },
  {
   "cell_type": "markdown",
   "metadata": {},
   "source": [
    "<div class=\"alert alert-info\">\n",
    "    \n",
    "<img src=\"graph-example.png\" style=\"width: 16%; float:right;margin-left:4em; clear:both;\">\n",
    "    \n",
    "<h1>Graphs</h1>\n",
    "\n",
    "<p>In graph theory, a graph is a set of nodes (\"vertices\") that are connected to one another with edges. This first example is a graph with 4 nodes and 5 edges.\n",
    "</p>\n",
    "    \n",
    "    \n",
    "<p>\n",
    "Graphs are general enough to be used in many different applications: they can represent connections between friends on social networks or roads and intersections when looking at maps (calculating turn-by-turn directions involves <a href=\"https://blogs.cornell.edu/info2040/2011/09/14/google-maps-its-just-one-big-graph/\">solving a graph problem!)</a>.</p>\n",
    "    \n",
    "    \n",
    "<h2>Adjacency Matrix</h2>\n",
    "\n",
    "    \n",
    "<p>As almost everything else in Linear Algebra, we can represent a graph using a matrix.  For an undirected graph with $n$ nodes, the adjacency matrix ${\\bf A} \\in \\mathbb{R}^{n \\times n}$ is such that:  </p>\n",
    "    \n",
    "$${\\bf A}_{i,j} = \\begin{cases} 1 & \\text{if nodes } i \\text{ and } j \\text { share a common edge} \\\\ 0 & \\text{otherwise} \\end{cases}$$\n",
    "    \n",
    "    \n",
    "<p>More generally, for a directed graph with $n$ nodes, the adjacency matrix ${\\bf A} \\in \\mathbb{R}^{n \\times n}$ is such that:  </p>\n",
    "    \n",
    "$${\\bf A}_{i,j} = \\begin{cases} 1 & \\text{if } G \\text{ contains an edge from node } j \\text{ to node } i \\\\ 0 & \\text{otherwise} \\end{cases}$$\n",
    "  \n",
    "    \n",
    "<br/>   \n",
    "\n",
    "<p>\n",
    "    We must have some strict ordering on the nodes in order to create the adjacency matrix.\n",
    "    We may think of the columns of ${\\bf A}$ as the outgoing edges and the rows of ${\\bf A}$ as the incoming edges. For example, ${\\bf A}_{0,2}$ stores whether there is an edge from node $2$ to node $0$.</p>\n",
    "\n",
    "  \n",
    "</div>\n"
   ]
  },
  {
   "cell_type": "markdown",
   "metadata": {},
   "source": [
    "## Example 1:\n",
    "\n",
    "**Check your answers:**\n",
    "\n",
    "Write the adjacency matrix that generates the undirected graph illustrated above. Store the matrix as a 2d numpy array of integers and assign it to the variable `A`."
   ]
  },
  {
   "cell_type": "code",
   "execution_count": 2,
   "metadata": {},
   "outputs": [],
   "source": [
    "#grade (enter your code in this cell - DO NOT DELETE THIS LINE) \n",
    "\n",
    "A = np.array([[0,1,1,0],[1,1,1,0],[1,1,0,1],[0,0,1,0]])"
   ]
  },
  {
   "cell_type": "markdown",
   "metadata": {},
   "source": [
    "You can use the function `graph.draw_matrix` to make the graph from a given adjacency matrix:"
   ]
  },
  {
   "cell_type": "code",
   "execution_count": 3,
   "metadata": {},
   "outputs": [
    {
     "data": {
      "image/svg+xml": [
       "<svg xmlns=\"http://www.w3.org/2000/svg\" xmlns:xlink=\"http://www.w3.org/1999/xlink\" width=\"98pt\" height=\"260pt\" viewBox=\"0.00 0.00 98.00 260.00\">\n",
       "<g id=\"graph0\" class=\"graph\" transform=\"scale(1 1) rotate(0) translate(4 256)\">\n",
       "<polygon fill=\"white\" stroke=\"transparent\" points=\"-4,4 -4,-256 94,-256 94,4 -4,4\"/>\n",
       "<!-- 0 -->\n",
       "<g id=\"node1\" class=\"node\">\n",
       "<title>0</title>\n",
       "<ellipse fill=\"none\" stroke=\"black\" cx=\"63\" cy=\"-234\" rx=\"27\" ry=\"18\"/>\n",
       "<text text-anchor=\"middle\" x=\"63\" y=\"-230.3\" font-family=\"Times,serif\" font-size=\"14.00\">0</text>\n",
       "</g>\n",
       "<!-- 1 -->\n",
       "<g id=\"node2\" class=\"node\">\n",
       "<title>1</title>\n",
       "<ellipse fill=\"none\" stroke=\"black\" cx=\"27\" cy=\"-162\" rx=\"27\" ry=\"18\"/>\n",
       "<text text-anchor=\"middle\" x=\"27\" y=\"-158.3\" font-family=\"Times,serif\" font-size=\"14.00\">1</text>\n",
       "</g>\n",
       "<!-- 0&#45;&#45;1 -->\n",
       "<g id=\"edge1\" class=\"edge\">\n",
       "<title>0--1</title>\n",
       "<path fill=\"none\" stroke=\"black\" d=\"M54.65,-216.76C48.84,-205.46 41.11,-190.44 35.3,-179.15\"/>\n",
       "</g>\n",
       "<!-- 2 -->\n",
       "<g id=\"node3\" class=\"node\">\n",
       "<title>2</title>\n",
       "<ellipse fill=\"none\" stroke=\"black\" cx=\"63\" cy=\"-90\" rx=\"27\" ry=\"18\"/>\n",
       "<text text-anchor=\"middle\" x=\"63\" y=\"-86.3\" font-family=\"Times,serif\" font-size=\"14.00\">2</text>\n",
       "</g>\n",
       "<!-- 0&#45;&#45;2 -->\n",
       "<g id=\"edge2\" class=\"edge\">\n",
       "<title>0--2</title>\n",
       "<path fill=\"none\" stroke=\"black\" d=\"M70.29,-216.18C74.33,-205.94 78.94,-192.46 81,-180 83.61,-164.21 83.61,-159.79 81,-144 78.94,-131.54 74.33,-118.06 70.29,-107.82\"/>\n",
       "</g>\n",
       "<!-- 1&#45;&#45;1 -->\n",
       "<g id=\"edge3\" class=\"edge\">\n",
       "<title>1--1</title>\n",
       "<path fill=\"none\" stroke=\"black\" d=\"M46.9,-174.43C59.69,-177.68 72,-173.53 72,-162 72,-150.47 59.69,-146.32 46.9,-149.57\"/>\n",
       "</g>\n",
       "<!-- 1&#45;&#45;2 -->\n",
       "<g id=\"edge4\" class=\"edge\">\n",
       "<title>1--2</title>\n",
       "<path fill=\"none\" stroke=\"black\" d=\"M35.35,-144.76C41.16,-133.46 48.89,-118.44 54.7,-107.15\"/>\n",
       "</g>\n",
       "<!-- 3 -->\n",
       "<g id=\"node4\" class=\"node\">\n",
       "<title>3</title>\n",
       "<ellipse fill=\"none\" stroke=\"black\" cx=\"63\" cy=\"-18\" rx=\"27\" ry=\"18\"/>\n",
       "<text text-anchor=\"middle\" x=\"63\" y=\"-14.3\" font-family=\"Times,serif\" font-size=\"14.00\">3</text>\n",
       "</g>\n",
       "<!-- 2&#45;&#45;3 -->\n",
       "<g id=\"edge5\" class=\"edge\">\n",
       "<title>2--3</title>\n",
       "<path fill=\"none\" stroke=\"black\" d=\"M63,-71.7C63,-60.85 63,-46.92 63,-36.1\"/>\n",
       "</g>\n",
       "</g>\n",
       "</svg>"
      ],
      "text/plain": [
       "<IPython.core.display.SVG object>"
      ]
     },
     "metadata": {},
     "output_type": "display_data"
    }
   ],
   "source": [
    "graph.draw_matrix(A, show_weights=False)"
   ]
  },
  {
   "cell_type": "markdown",
   "metadata": {},
   "source": [
    "Note that any nonzero value along the main diagonal results in a *self loop*.\n",
    "\n",
    "In this example, the graph is undirected, so its edges do not have direction. The adjacency matrix ${\\bf A}$ of an undirected graph is always *symmetric*; that is, ${\\bf A}^T = {\\bf A}$.\n"
   ]
  },
  {
   "cell_type": "markdown",
   "metadata": {},
   "source": [
    "## Graph Walks"
   ]
  },
  {
   "cell_type": "markdown",
   "metadata": {},
   "source": [
    "A **walk of length $k$** is a sequence of $k+1$ vertices and $k$ edges between two nodes (including the start and end) that *may* repeat. "
   ]
  },
  {
   "cell_type": "markdown",
   "metadata": {},
   "source": [
    "**Note that the adjacency matrix gives the number of walks of length 1 between every pair of nodes.**\n",
    "In the previous example, there is a single walk of length 1 from node 0 to node 1 since $A_{1,0} = 1$; similarly there is a single walk of length 1 from node 1 to itself since $A_{1,1} = 1$. Essentially, the adjacency matrix tells you if you can walk from one node to another in one step."
   ]
  },
  {
   "cell_type": "markdown",
   "metadata": {},
   "source": [
    "**Discuss with your group:** Trace the edges and count the number of **walks of length k** between the following nodes. \n",
    "\n",
    "a) node 2 to node 3: <u> &nbsp;&nbsp;   X &nbsp;&nbsp; </u>&nbsp; walks of length 2\n",
    "\n",
    "b) node 2 to node 2: <u> &nbsp;&nbsp;   Y &nbsp;&nbsp; </u>&nbsp; walks of length 3\n",
    "\n",
    "c) node 1 to node 3: <u> &nbsp;&nbsp;   Z &nbsp;&nbsp; </u>&nbsp; walks of length 2\n",
    "\n",
    "d) node 3 to node 1: <u> &nbsp;&nbsp;   W &nbsp;&nbsp; </u>&nbsp; walks of length 3\n",
    "\n",
    "\n",
    "**Check your answers:**\n",
    "\n",
    "Enter your results in the grade cell below. \n",
    "For example, question a) asks for in how many distinct ways can one move from node 2 to node 3 in two steps. Store the values as `X`, `Y`, `Z`, and `W`, respectively"
   ]
  },
  {
   "cell_type": "code",
   "execution_count": 4,
   "metadata": {},
   "outputs": [],
   "source": [
    "#grade (enter your code in this cell - DO NOT DELETE THIS LINE) \n",
    "X = 0\n",
    "Y = 3\n",
    "Z = 1\n",
    "W = 2"
   ]
  },
  {
   "cell_type": "markdown",
   "metadata": {},
   "source": [
    "**Try this!** \n",
    "\n",
    "Since the adjacency matrix ${\\bf A}$ tells us which node pairs we can move between via a walk of length 1, what does the matrix product ${\\bf A A}$ tell us? Define the variable `A2` as this product."
   ]
  },
  {
   "cell_type": "code",
   "execution_count": 5,
   "metadata": {},
   "outputs": [],
   "source": [
    "#grade (enter your code in this cell - DO NOT DELETE THIS LINE) \n",
    "A2 = A @ A"
   ]
  },
  {
   "cell_type": "markdown",
   "metadata": {},
   "source": [
    "Indeed, the entry $\\left({\\bf A}^2\\right)_{i,j}$ represents how many ways we can move from node $j$ to node $i$ via a walk of length 2 (i.e. in two steps).\n",
    "\n",
    "**Try this!** \n",
    "\n",
    "Discuss the following questions with your group:\n",
    "\n",
    "1. Use `A2` to check if your answers from questions a) and c) above were correct.\n",
    "\n",
    "2. What would you need to do to verify your answers from questions b) and d)?\n",
    "\n",
    "3. Use the given function `graph.draw_matrix` to plot `A2`. You can use the attribute `show_weights=True`. How does this depiction reflect your previous answers?"
   ]
  },
  {
   "cell_type": "code",
   "execution_count": 6,
   "metadata": {},
   "outputs": [
    {
     "data": {
      "image/svg+xml": [
       "<svg xmlns=\"http://www.w3.org/2000/svg\" xmlns:xlink=\"http://www.w3.org/1999/xlink\" width=\"213pt\" height=\"218pt\" viewBox=\"0.00 0.00 213.00 218.00\">\n",
       "<g id=\"graph0\" class=\"graph\" transform=\"scale(1 1) rotate(0) translate(4 214)\">\n",
       "<polygon fill=\"white\" stroke=\"transparent\" points=\"-4,4 -4,-214 209,-214 209,4 -4,4\"/>\n",
       "<!-- 0 -->\n",
       "<g id=\"node1\" class=\"node\">\n",
       "<title>0</title>\n",
       "<ellipse fill=\"none\" stroke=\"black\" cx=\"70\" cy=\"-192\" rx=\"27\" ry=\"18\"/>\n",
       "<text text-anchor=\"middle\" x=\"70\" y=\"-188.3\" font-family=\"Times,serif\" font-size=\"14.00\">0</text>\n",
       "</g>\n",
       "<!-- 0&#45;&#45;0 -->\n",
       "<g id=\"edge1\" class=\"edge\">\n",
       "<title>0--0</title>\n",
       "<path fill=\"none\" stroke=\"black\" d=\"M94.53,-199.75C105.51,-200.49 115,-197.91 115,-192 115,-186.09 105.51,-183.51 94.53,-184.25\"/>\n",
       "<text text-anchor=\"middle\" x=\"120\" y=\"-188.3\" font-family=\"Times,serif\" font-size=\"14.00\">2</text>\n",
       "</g>\n",
       "<!-- 1 -->\n",
       "<g id=\"node2\" class=\"node\">\n",
       "<title>1</title>\n",
       "<ellipse fill=\"none\" stroke=\"black\" cx=\"70\" cy=\"-105\" rx=\"27\" ry=\"18\"/>\n",
       "<text text-anchor=\"middle\" x=\"70\" y=\"-101.3\" font-family=\"Times,serif\" font-size=\"14.00\">1</text>\n",
       "</g>\n",
       "<!-- 0&#45;&#45;1 -->\n",
       "<g id=\"edge2\" class=\"edge\">\n",
       "<title>0--1</title>\n",
       "<path fill=\"none\" stroke=\"black\" d=\"M70,-173.8C70,-159.05 70,-137.92 70,-123.18\"/>\n",
       "<text text-anchor=\"middle\" x=\"75\" y=\"-144.8\" font-family=\"Times,serif\" font-size=\"14.00\">2</text>\n",
       "</g>\n",
       "<!-- 2 -->\n",
       "<g id=\"node3\" class=\"node\">\n",
       "<title>2</title>\n",
       "<ellipse fill=\"none\" stroke=\"black\" cx=\"27\" cy=\"-18\" rx=\"27\" ry=\"18\"/>\n",
       "<text text-anchor=\"middle\" x=\"27\" y=\"-14.3\" font-family=\"Times,serif\" font-size=\"14.00\">2</text>\n",
       "</g>\n",
       "<!-- 0&#45;&#45;2 -->\n",
       "<g id=\"edge3\" class=\"edge\">\n",
       "<title>0--2</title>\n",
       "<path fill=\"none\" stroke=\"black\" d=\"M56.31,-176.45C45.18,-163.54 30.31,-143.58 24,-123 14.95,-93.47 19.33,-56.99 23.23,-36.02\"/>\n",
       "<text text-anchor=\"middle\" x=\"29\" y=\"-101.3\" font-family=\"Times,serif\" font-size=\"14.00\">1</text>\n",
       "</g>\n",
       "<!-- 3 -->\n",
       "<g id=\"node4\" class=\"node\">\n",
       "<title>3</title>\n",
       "<ellipse fill=\"none\" stroke=\"black\" cx=\"150\" cy=\"-18\" rx=\"27\" ry=\"18\"/>\n",
       "<text text-anchor=\"middle\" x=\"150\" y=\"-14.3\" font-family=\"Times,serif\" font-size=\"14.00\">3</text>\n",
       "</g>\n",
       "<!-- 0&#45;&#45;3 -->\n",
       "<g id=\"edge4\" class=\"edge\">\n",
       "<title>0--3</title>\n",
       "<path fill=\"none\" stroke=\"black\" d=\"M87.17,-177.9C102.12,-165.49 123.05,-145.44 134,-123 147.78,-94.76 150.26,-57.52 150.41,-36.12\"/>\n",
       "<text text-anchor=\"middle\" x=\"150\" y=\"-101.3\" font-family=\"Times,serif\" font-size=\"14.00\">1</text>\n",
       "</g>\n",
       "<!-- 1&#45;&#45;1 -->\n",
       "<g id=\"edge5\" class=\"edge\">\n",
       "<title>1--1</title>\n",
       "<path fill=\"none\" stroke=\"black\" d=\"M94.53,-112.75C105.51,-113.49 115,-110.91 115,-105 115,-99.09 105.51,-96.51 94.53,-97.25\"/>\n",
       "<text text-anchor=\"middle\" x=\"120\" y=\"-101.3\" font-family=\"Times,serif\" font-size=\"14.00\">3</text>\n",
       "</g>\n",
       "<!-- 1&#45;&#45;2 -->\n",
       "<g id=\"edge6\" class=\"edge\">\n",
       "<title>1--2</title>\n",
       "<path fill=\"none\" stroke=\"black\" d=\"M61.71,-87.61C54.09,-72.56 42.87,-50.37 35.27,-35.34\"/>\n",
       "<text text-anchor=\"middle\" x=\"57\" y=\"-57.8\" font-family=\"Times,serif\" font-size=\"14.00\">2</text>\n",
       "</g>\n",
       "<!-- 1&#45;&#45;3 -->\n",
       "<g id=\"edge7\" class=\"edge\">\n",
       "<title>1--3</title>\n",
       "<path fill=\"none\" stroke=\"black\" d=\"M83.94,-89.19C98.62,-73.59 121.6,-49.17 136.22,-33.64\"/>\n",
       "<text text-anchor=\"middle\" x=\"119\" y=\"-57.8\" font-family=\"Times,serif\" font-size=\"14.00\">1</text>\n",
       "</g>\n",
       "<!-- 2&#45;&#45;2 -->\n",
       "<g id=\"edge8\" class=\"edge\">\n",
       "<title>2--2</title>\n",
       "<path fill=\"none\" stroke=\"black\" d=\"M51.53,-25.75C62.51,-26.49 72,-23.91 72,-18 72,-12.09 62.51,-9.51 51.53,-10.25\"/>\n",
       "<text text-anchor=\"middle\" x=\"77\" y=\"-14.3\" font-family=\"Times,serif\" font-size=\"14.00\">3</text>\n",
       "</g>\n",
       "<!-- 3&#45;&#45;3 -->\n",
       "<g id=\"edge9\" class=\"edge\">\n",
       "<title>3--3</title>\n",
       "<path fill=\"none\" stroke=\"black\" d=\"M174.53,-25.75C185.51,-26.49 195,-23.91 195,-18 195,-12.09 185.51,-9.51 174.53,-10.25\"/>\n",
       "<text text-anchor=\"middle\" x=\"200\" y=\"-14.3\" font-family=\"Times,serif\" font-size=\"14.00\">1</text>\n",
       "</g>\n",
       "</g>\n",
       "</svg>"
      ],
      "text/plain": [
       "<IPython.core.display.SVG object>"
      ]
     },
     "metadata": {},
     "output_type": "display_data"
    }
   ],
   "source": [
    "graph.draw_matrix(A2, show_weights=True)"
   ]
  },
  {
   "cell_type": "markdown",
   "metadata": {},
   "source": [
    "For example, $\\left({\\bf A}^2\\right)_{2,3} = 0$ tells us nodes $2$ and $3$ are not connected in the graph captured by ${\\bf A}^2$, since we cannot reach node 2 from node 3 via a **walk of length 2** in the original graph. This conclusion is also reflected in the above graph.\n",
    "\n",
    "<div class=\"alert alert-info\">\n",
    "    \n",
    "**The number of walks of length exactly $k$ from node $j$ to node $i$ is by given by $({\\bf A}^k)_{i,j}$.**\n",
    "\n",
    "</div>"
   ]
  },
  {
   "cell_type": "markdown",
   "metadata": {},
   "source": [
    "## Example 2:"
   ]
  },
  {
   "cell_type": "code",
   "execution_count": 7,
   "metadata": {},
   "outputs": [
    {
     "name": "stdout",
     "output_type": "stream",
     "text": [
      "The graph below shows the number of walks of length 1 between any two nodes\n"
     ]
    },
    {
     "data": {
      "image/svg+xml": [
       "<svg xmlns=\"http://www.w3.org/2000/svg\" xmlns:xlink=\"http://www.w3.org/1999/xlink\" width=\"162pt\" height=\"218pt\" viewBox=\"0.00 0.00 162.00 218.00\">\n",
       "<g id=\"graph0\" class=\"graph\" transform=\"scale(1 1) rotate(0) translate(4 214)\">\n",
       "<polygon fill=\"white\" stroke=\"transparent\" points=\"-4,4 -4,-214 158,-214 158,4 -4,4\"/>\n",
       "<!-- 0 -->\n",
       "<g id=\"node1\" class=\"node\">\n",
       "<title>0</title>\n",
       "<ellipse fill=\"none\" stroke=\"black\" cx=\"63\" cy=\"-192\" rx=\"27\" ry=\"18\"/>\n",
       "<text text-anchor=\"middle\" x=\"63\" y=\"-188.3\" font-family=\"Times,serif\" font-size=\"14.00\">0</text>\n",
       "</g>\n",
       "<!-- 1 -->\n",
       "<g id=\"node2\" class=\"node\">\n",
       "<title>1</title>\n",
       "<ellipse fill=\"none\" stroke=\"black\" cx=\"27\" cy=\"-105\" rx=\"27\" ry=\"18\"/>\n",
       "<text text-anchor=\"middle\" x=\"27\" y=\"-101.3\" font-family=\"Times,serif\" font-size=\"14.00\">1</text>\n",
       "</g>\n",
       "<!-- 0&#45;&#45;1 -->\n",
       "<g id=\"edge1\" class=\"edge\">\n",
       "<title>0--1</title>\n",
       "<path fill=\"none\" stroke=\"black\" d=\"M55.89,-174.21C49.53,-159.21 40.28,-137.37 33.98,-122.47\"/>\n",
       "<text text-anchor=\"middle\" x=\"53\" y=\"-144.8\" font-family=\"Times,serif\" font-size=\"14.00\">1</text>\n",
       "</g>\n",
       "<!-- 2 -->\n",
       "<g id=\"node3\" class=\"node\">\n",
       "<title>2</title>\n",
       "<ellipse fill=\"none\" stroke=\"black\" cx=\"99\" cy=\"-105\" rx=\"27\" ry=\"18\"/>\n",
       "<text text-anchor=\"middle\" x=\"99\" y=\"-101.3\" font-family=\"Times,serif\" font-size=\"14.00\">2</text>\n",
       "</g>\n",
       "<!-- 0&#45;&#45;2 -->\n",
       "<g id=\"edge2\" class=\"edge\">\n",
       "<title>0--2</title>\n",
       "<path fill=\"none\" stroke=\"black\" d=\"M70.11,-174.21C76.47,-159.21 85.72,-137.37 92.03,-122.47\"/>\n",
       "<text text-anchor=\"middle\" x=\"88\" y=\"-144.8\" font-family=\"Times,serif\" font-size=\"14.00\">1</text>\n",
       "</g>\n",
       "<!-- 3 -->\n",
       "<g id=\"node4\" class=\"node\">\n",
       "<title>3</title>\n",
       "<ellipse fill=\"none\" stroke=\"black\" cx=\"27\" cy=\"-18\" rx=\"27\" ry=\"18\"/>\n",
       "<text text-anchor=\"middle\" x=\"27\" y=\"-14.3\" font-family=\"Times,serif\" font-size=\"14.00\">3</text>\n",
       "</g>\n",
       "<!-- 1&#45;&#45;3 -->\n",
       "<g id=\"edge3\" class=\"edge\">\n",
       "<title>1--3</title>\n",
       "<path fill=\"none\" stroke=\"black\" d=\"M27,-86.8C27,-72.05 27,-50.91 27,-36.17\"/>\n",
       "<text text-anchor=\"middle\" x=\"32\" y=\"-57.8\" font-family=\"Times,serif\" font-size=\"14.00\">1</text>\n",
       "</g>\n",
       "<!-- 2&#45;&#45;2 -->\n",
       "<g id=\"edge4\" class=\"edge\">\n",
       "<title>2--2</title>\n",
       "<path fill=\"none\" stroke=\"black\" d=\"M123.53,-112.75C134.51,-113.49 144,-110.91 144,-105 144,-99.09 134.51,-96.51 123.53,-97.25\"/>\n",
       "<text text-anchor=\"middle\" x=\"149\" y=\"-101.3\" font-family=\"Times,serif\" font-size=\"14.00\">1</text>\n",
       "</g>\n",
       "<!-- 3&#45;&#45;3 -->\n",
       "<g id=\"edge5\" class=\"edge\">\n",
       "<title>3--3</title>\n",
       "<path fill=\"none\" stroke=\"black\" d=\"M51.53,-25.75C62.51,-26.49 72,-23.91 72,-18 72,-12.09 62.51,-9.51 51.53,-10.25\"/>\n",
       "<text text-anchor=\"middle\" x=\"77\" y=\"-14.3\" font-family=\"Times,serif\" font-size=\"14.00\">1</text>\n",
       "</g>\n",
       "</g>\n",
       "</svg>"
      ],
      "text/plain": [
       "<IPython.core.display.SVG object>"
      ]
     },
     "metadata": {},
     "output_type": "display_data"
    }
   ],
   "source": [
    "B = np.array([[0, 1, 1, 0],\n",
    "              [1, 0, 0, 1],\n",
    "              [1, 0, 1, 0],\n",
    "              [0, 1, 0, 1]])\n",
    "print('The graph below shows the number of walks of length 1 between any two nodes')\n",
    "graph.draw_matrix(B, show_weights=True)"
   ]
  },
  {
   "cell_type": "markdown",
   "metadata": {},
   "source": [
    "For the given adjacency matrix ${\\bf B}$ above, what if we are interested in finding some node in **up to $k$ steps**?  The issue here is that if a node is reached in $ n < k $ steps, we are forced to move off of it at the next step.  "
   ]
  },
  {
   "cell_type": "code",
   "execution_count": 8,
   "metadata": {},
   "outputs": [
    {
     "name": "stdout",
     "output_type": "stream",
     "text": [
      "The graph below shows the number of walks of length 2 between any two nodes\n"
     ]
    },
    {
     "data": {
      "image/svg+xml": [
       "<svg xmlns=\"http://www.w3.org/2000/svg\" xmlns:xlink=\"http://www.w3.org/1999/xlink\" width=\"190pt\" height=\"131pt\" viewBox=\"0.00 0.00 190.00 131.00\">\n",
       "<g id=\"graph0\" class=\"graph\" transform=\"scale(1 1) rotate(0) translate(4 127)\">\n",
       "<polygon fill=\"white\" stroke=\"transparent\" points=\"-4,4 -4,-127 186,-127 186,4 -4,4\"/>\n",
       "<!-- 0 -->\n",
       "<g id=\"node1\" class=\"node\">\n",
       "<title>0</title>\n",
       "<ellipse fill=\"none\" stroke=\"black\" cx=\"27\" cy=\"-105\" rx=\"27\" ry=\"18\"/>\n",
       "<text text-anchor=\"middle\" x=\"27\" y=\"-101.3\" font-family=\"Times,serif\" font-size=\"14.00\">0</text>\n",
       "</g>\n",
       "<!-- 0&#45;&#45;0 -->\n",
       "<g id=\"edge1\" class=\"edge\">\n",
       "<title>0--0</title>\n",
       "<path fill=\"none\" stroke=\"black\" d=\"M51.53,-112.75C62.51,-113.49 72,-110.91 72,-105 72,-99.09 62.51,-96.51 51.53,-97.25\"/>\n",
       "<text text-anchor=\"middle\" x=\"77\" y=\"-101.3\" font-family=\"Times,serif\" font-size=\"14.00\">2</text>\n",
       "</g>\n",
       "<!-- 2 -->\n",
       "<g id=\"node2\" class=\"node\">\n",
       "<title>2</title>\n",
       "<ellipse fill=\"none\" stroke=\"black\" cx=\"27\" cy=\"-18\" rx=\"27\" ry=\"18\"/>\n",
       "<text text-anchor=\"middle\" x=\"27\" y=\"-14.3\" font-family=\"Times,serif\" font-size=\"14.00\">2</text>\n",
       "</g>\n",
       "<!-- 0&#45;&#45;2 -->\n",
       "<g id=\"edge2\" class=\"edge\">\n",
       "<title>0--2</title>\n",
       "<path fill=\"none\" stroke=\"black\" d=\"M27,-86.8C27,-72.05 27,-50.91 27,-36.17\"/>\n",
       "<text text-anchor=\"middle\" x=\"32\" y=\"-57.8\" font-family=\"Times,serif\" font-size=\"14.00\">1</text>\n",
       "</g>\n",
       "<!-- 3 -->\n",
       "<g id=\"node3\" class=\"node\">\n",
       "<title>3</title>\n",
       "<ellipse fill=\"none\" stroke=\"black\" cx=\"127\" cy=\"-18\" rx=\"27\" ry=\"18\"/>\n",
       "<text text-anchor=\"middle\" x=\"127\" y=\"-14.3\" font-family=\"Times,serif\" font-size=\"14.00\">3</text>\n",
       "</g>\n",
       "<!-- 0&#45;&#45;3 -->\n",
       "<g id=\"edge3\" class=\"edge\">\n",
       "<title>0--3</title>\n",
       "<path fill=\"none\" stroke=\"black\" d=\"M35.76,-87.65C42.03,-77.09 51.23,-63.58 62,-54 69.04,-47.74 89.43,-37.13 105.51,-29.23\"/>\n",
       "<text text-anchor=\"middle\" x=\"67\" y=\"-57.8\" font-family=\"Times,serif\" font-size=\"14.00\">1</text>\n",
       "</g>\n",
       "<!-- 2&#45;&#45;2 -->\n",
       "<g id=\"edge4\" class=\"edge\">\n",
       "<title>2--2</title>\n",
       "<path fill=\"none\" stroke=\"black\" d=\"M51.53,-25.75C62.51,-26.49 72,-23.91 72,-18 72,-12.09 62.51,-9.51 51.53,-10.25\"/>\n",
       "<text text-anchor=\"middle\" x=\"77\" y=\"-14.3\" font-family=\"Times,serif\" font-size=\"14.00\">2</text>\n",
       "</g>\n",
       "<!-- 3&#45;&#45;3 -->\n",
       "<g id=\"edge5\" class=\"edge\">\n",
       "<title>3--3</title>\n",
       "<path fill=\"none\" stroke=\"black\" d=\"M151.53,-25.75C162.51,-26.49 172,-23.91 172,-18 172,-12.09 162.51,-9.51 151.53,-10.25\"/>\n",
       "<text text-anchor=\"middle\" x=\"177\" y=\"-14.3\" font-family=\"Times,serif\" font-size=\"14.00\">2</text>\n",
       "</g>\n",
       "<!-- 1 -->\n",
       "<g id=\"node4\" class=\"node\">\n",
       "<title>1</title>\n",
       "<ellipse fill=\"none\" stroke=\"black\" cx=\"127\" cy=\"-105\" rx=\"27\" ry=\"18\"/>\n",
       "<text text-anchor=\"middle\" x=\"127\" y=\"-101.3\" font-family=\"Times,serif\" font-size=\"14.00\">1</text>\n",
       "</g>\n",
       "<!-- 1&#45;&#45;2 -->\n",
       "<g id=\"edge6\" class=\"edge\">\n",
       "<title>1--2</title>\n",
       "<path fill=\"none\" stroke=\"black\" d=\"M111.87,-89.67C100.98,-79.49 85.83,-65.63 72,-54 63.06,-46.48 52.8,-38.46 44.34,-31.99\"/>\n",
       "<text text-anchor=\"middle\" x=\"93\" y=\"-57.8\" font-family=\"Times,serif\" font-size=\"14.00\">1</text>\n",
       "</g>\n",
       "<!-- 1&#45;&#45;3 -->\n",
       "<g id=\"edge7\" class=\"edge\">\n",
       "<title>1--3</title>\n",
       "<path fill=\"none\" stroke=\"black\" d=\"M127,-86.8C127,-72.05 127,-50.91 127,-36.17\"/>\n",
       "<text text-anchor=\"middle\" x=\"132\" y=\"-57.8\" font-family=\"Times,serif\" font-size=\"14.00\">1</text>\n",
       "</g>\n",
       "<!-- 1&#45;&#45;1 -->\n",
       "<g id=\"edge8\" class=\"edge\">\n",
       "<title>1--1</title>\n",
       "<path fill=\"none\" stroke=\"black\" d=\"M151.53,-112.75C162.51,-113.49 172,-110.91 172,-105 172,-99.09 162.51,-96.51 151.53,-97.25\"/>\n",
       "<text text-anchor=\"middle\" x=\"177\" y=\"-101.3\" font-family=\"Times,serif\" font-size=\"14.00\">2</text>\n",
       "</g>\n",
       "</g>\n",
       "</svg>"
      ],
      "text/plain": [
       "<IPython.core.display.SVG object>"
      ]
     },
     "metadata": {},
     "output_type": "display_data"
    },
    {
     "name": "stdout",
     "output_type": "stream",
     "text": [
      "The graph below shows the number of walks of length 3 between any two nodes\n"
     ]
    },
    {
     "data": {
      "image/svg+xml": [
       "<svg xmlns=\"http://www.w3.org/2000/svg\" xmlns:xlink=\"http://www.w3.org/1999/xlink\" width=\"181pt\" height=\"305pt\" viewBox=\"0.00 0.00 181.00 305.00\">\n",
       "<g id=\"graph0\" class=\"graph\" transform=\"scale(1 1) rotate(0) translate(4 301)\">\n",
       "<polygon fill=\"white\" stroke=\"transparent\" points=\"-4,4 -4,-301 177,-301 177,4 -4,4\"/>\n",
       "<!-- 0 -->\n",
       "<g id=\"node1\" class=\"node\">\n",
       "<title>0</title>\n",
       "<ellipse fill=\"none\" stroke=\"black\" cx=\"118\" cy=\"-279\" rx=\"27\" ry=\"18\"/>\n",
       "<text text-anchor=\"middle\" x=\"118\" y=\"-275.3\" font-family=\"Times,serif\" font-size=\"14.00\">0</text>\n",
       "</g>\n",
       "<!-- 0&#45;&#45;0 -->\n",
       "<g id=\"edge1\" class=\"edge\">\n",
       "<title>0--0</title>\n",
       "<path fill=\"none\" stroke=\"black\" d=\"M142.53,-286.75C153.51,-287.49 163,-284.91 163,-279 163,-273.09 153.51,-270.51 142.53,-271.25\"/>\n",
       "<text text-anchor=\"middle\" x=\"168\" y=\"-275.3\" font-family=\"Times,serif\" font-size=\"14.00\">1</text>\n",
       "</g>\n",
       "<!-- 1 -->\n",
       "<g id=\"node2\" class=\"node\">\n",
       "<title>1</title>\n",
       "<ellipse fill=\"none\" stroke=\"black\" cx=\"27\" cy=\"-192\" rx=\"27\" ry=\"18\"/>\n",
       "<text text-anchor=\"middle\" x=\"27\" y=\"-188.3\" font-family=\"Times,serif\" font-size=\"14.00\">1</text>\n",
       "</g>\n",
       "<!-- 0&#45;&#45;1 -->\n",
       "<g id=\"edge2\" class=\"edge\">\n",
       "<title>0--1</title>\n",
       "<path fill=\"none\" stroke=\"black\" d=\"M102.97,-263.96C86.11,-248.21 58.92,-222.81 42.05,-207.06\"/>\n",
       "<text text-anchor=\"middle\" x=\"83\" y=\"-231.8\" font-family=\"Times,serif\" font-size=\"14.00\">3</text>\n",
       "</g>\n",
       "<!-- 2 -->\n",
       "<g id=\"node3\" class=\"node\">\n",
       "<title>2</title>\n",
       "<ellipse fill=\"none\" stroke=\"black\" cx=\"77\" cy=\"-105\" rx=\"27\" ry=\"18\"/>\n",
       "<text text-anchor=\"middle\" x=\"77\" y=\"-101.3\" font-family=\"Times,serif\" font-size=\"14.00\">2</text>\n",
       "</g>\n",
       "<!-- 0&#45;&#45;2 -->\n",
       "<g id=\"edge3\" class=\"edge\">\n",
       "<title>0--2</title>\n",
       "<path fill=\"none\" stroke=\"black\" d=\"M113.99,-261.19C106.16,-228.31 88.87,-155.81 81.02,-122.87\"/>\n",
       "<text text-anchor=\"middle\" x=\"106\" y=\"-188.3\" font-family=\"Times,serif\" font-size=\"14.00\">3</text>\n",
       "</g>\n",
       "<!-- 3 -->\n",
       "<g id=\"node4\" class=\"node\">\n",
       "<title>3</title>\n",
       "<ellipse fill=\"none\" stroke=\"black\" cx=\"77\" cy=\"-18\" rx=\"27\" ry=\"18\"/>\n",
       "<text text-anchor=\"middle\" x=\"77\" y=\"-14.3\" font-family=\"Times,serif\" font-size=\"14.00\">3</text>\n",
       "</g>\n",
       "<!-- 0&#45;&#45;3 -->\n",
       "<g id=\"edge4\" class=\"edge\">\n",
       "<title>0--3</title>\n",
       "<path fill=\"none\" stroke=\"black\" d=\"M125.17,-261.47C138.83,-227.49 165.13,-147.85 141,-87 131.8,-63.79 110.51,-43.9 95,-31.73\"/>\n",
       "<text text-anchor=\"middle\" x=\"155\" y=\"-144.8\" font-family=\"Times,serif\" font-size=\"14.00\">1</text>\n",
       "</g>\n",
       "<!-- 1&#45;&#45;1 -->\n",
       "<g id=\"edge5\" class=\"edge\">\n",
       "<title>1--1</title>\n",
       "<path fill=\"none\" stroke=\"black\" d=\"M51.53,-199.75C62.51,-200.49 72,-197.91 72,-192 72,-186.09 62.51,-183.51 51.53,-184.25\"/>\n",
       "<text text-anchor=\"middle\" x=\"77\" y=\"-188.3\" font-family=\"Times,serif\" font-size=\"14.00\">1</text>\n",
       "</g>\n",
       "<!-- 1&#45;&#45;2 -->\n",
       "<g id=\"edge6\" class=\"edge\">\n",
       "<title>1--2</title>\n",
       "<path fill=\"none\" stroke=\"black\" d=\"M36.41,-175.01C45.34,-159.82 58.71,-137.09 67.64,-121.92\"/>\n",
       "<text text-anchor=\"middle\" x=\"60\" y=\"-144.8\" font-family=\"Times,serif\" font-size=\"14.00\">1</text>\n",
       "</g>\n",
       "<!-- 1&#45;&#45;3 -->\n",
       "<g id=\"edge7\" class=\"edge\">\n",
       "<title>1--3</title>\n",
       "<path fill=\"none\" stroke=\"black\" d=\"M24.85,-173.93C22.83,-152.9 21.38,-116.36 31,-87 37.7,-66.55 52.5,-46.56 63.51,-33.61\"/>\n",
       "<text text-anchor=\"middle\" x=\"36\" y=\"-101.3\" font-family=\"Times,serif\" font-size=\"14.00\">3</text>\n",
       "</g>\n",
       "<!-- 2&#45;&#45;2 -->\n",
       "<g id=\"edge8\" class=\"edge\">\n",
       "<title>2--2</title>\n",
       "<path fill=\"none\" stroke=\"black\" d=\"M101.53,-112.75C112.51,-113.49 122,-110.91 122,-105 122,-99.09 112.51,-96.51 101.53,-97.25\"/>\n",
       "<text text-anchor=\"middle\" x=\"127\" y=\"-101.3\" font-family=\"Times,serif\" font-size=\"14.00\">3</text>\n",
       "</g>\n",
       "<!-- 2&#45;&#45;3 -->\n",
       "<g id=\"edge9\" class=\"edge\">\n",
       "<title>2--3</title>\n",
       "<path fill=\"none\" stroke=\"black\" d=\"M77,-86.8C77,-72.05 77,-50.91 77,-36.17\"/>\n",
       "<text text-anchor=\"middle\" x=\"82\" y=\"-57.8\" font-family=\"Times,serif\" font-size=\"14.00\">1</text>\n",
       "</g>\n",
       "<!-- 3&#45;&#45;3 -->\n",
       "<g id=\"edge10\" class=\"edge\">\n",
       "<title>3--3</title>\n",
       "<path fill=\"none\" stroke=\"black\" d=\"M101.53,-25.75C112.51,-26.49 122,-23.91 122,-18 122,-12.09 112.51,-9.51 101.53,-10.25\"/>\n",
       "<text text-anchor=\"middle\" x=\"127\" y=\"-14.3\" font-family=\"Times,serif\" font-size=\"14.00\">3</text>\n",
       "</g>\n",
       "</g>\n",
       "</svg>"
      ],
      "text/plain": [
       "<IPython.core.display.SVG object>"
      ]
     },
     "metadata": {},
     "output_type": "display_data"
    }
   ],
   "source": [
    "print('The graph below shows the number of walks of length 2 between any two nodes')\n",
    "graph.draw_matrix(B@B, show_weights=True)\n",
    "print('The graph below shows the number of walks of length 3 between any two nodes')\n",
    "graph.draw_matrix(B@B@B, show_weights=True)"
   ]
  },
  {
   "cell_type": "markdown",
   "metadata": {},
   "source": [
    "By inspecting the above plots, we find that **from node 0 to node 1** we have:\n",
    "\n",
    "- <u> &nbsp;&nbsp;  one &nbsp;&nbsp;</u>&nbsp; *walk of length 1*\n",
    "\n",
    "- <u> &nbsp;&nbsp;  zero &nbsp;&nbsp;</u>&nbsp; *walks of length 2*\n",
    "\n",
    "- <u> &nbsp;&nbsp;  three &nbsp;&nbsp;</u>&nbsp; *walks of length 3*\n",
    "\n",
    "\n",
    "This occurs because when node 1 is reached, it must be left in the following step. So if we reach a node sooner than in the desired number of steps, how can we adjust the graph to allow us to remain on that node until the desired step count?\n",
    "\n",
    "**We can add self-loops!**\n",
    "\n",
    "Take a look at the graph for the identity matrix:"
   ]
  },
  {
   "cell_type": "code",
   "execution_count": 9,
   "metadata": {},
   "outputs": [
    {
     "data": {
      "image/svg+xml": [
       "<svg xmlns=\"http://www.w3.org/2000/svg\" xmlns:xlink=\"http://www.w3.org/1999/xlink\" width=\"390pt\" height=\"44pt\" viewBox=\"0.00 0.00 390.00 44.00\">\n",
       "<g id=\"graph0\" class=\"graph\" transform=\"scale(1 1) rotate(0) translate(4 40)\">\n",
       "<polygon fill=\"white\" stroke=\"transparent\" points=\"-4,4 -4,-40 386,-40 386,4 -4,4\"/>\n",
       "<!-- 0 -->\n",
       "<g id=\"node1\" class=\"node\">\n",
       "<title>0</title>\n",
       "<ellipse fill=\"none\" stroke=\"black\" cx=\"27\" cy=\"-18\" rx=\"27\" ry=\"18\"/>\n",
       "<text text-anchor=\"middle\" x=\"27\" y=\"-14.3\" font-family=\"Times,serif\" font-size=\"14.00\">0</text>\n",
       "</g>\n",
       "<!-- 0&#45;&#45;0 -->\n",
       "<g id=\"edge1\" class=\"edge\">\n",
       "<title>0--0</title>\n",
       "<path fill=\"none\" stroke=\"black\" d=\"M52.44,-24.69C63.03,-25.15 72,-22.92 72,-18 72,-13.08 63.03,-10.85 52.44,-11.31\"/>\n",
       "<text text-anchor=\"middle\" x=\"77\" y=\"-14.3\" font-family=\"Times,serif\" font-size=\"14.00\">1</text>\n",
       "</g>\n",
       "<!-- 1 -->\n",
       "<g id=\"node2\" class=\"node\">\n",
       "<title>1</title>\n",
       "<ellipse fill=\"none\" stroke=\"black\" cx=\"127\" cy=\"-18\" rx=\"27\" ry=\"18\"/>\n",
       "<text text-anchor=\"middle\" x=\"127\" y=\"-14.3\" font-family=\"Times,serif\" font-size=\"14.00\">1</text>\n",
       "</g>\n",
       "<!-- 1&#45;&#45;1 -->\n",
       "<g id=\"edge2\" class=\"edge\">\n",
       "<title>1--1</title>\n",
       "<path fill=\"none\" stroke=\"black\" d=\"M152.44,-24.69C163.03,-25.15 172,-22.92 172,-18 172,-13.08 163.03,-10.85 152.44,-11.31\"/>\n",
       "<text text-anchor=\"middle\" x=\"177\" y=\"-14.3\" font-family=\"Times,serif\" font-size=\"14.00\">1</text>\n",
       "</g>\n",
       "<!-- 2 -->\n",
       "<g id=\"node3\" class=\"node\">\n",
       "<title>2</title>\n",
       "<ellipse fill=\"none\" stroke=\"black\" cx=\"227\" cy=\"-18\" rx=\"27\" ry=\"18\"/>\n",
       "<text text-anchor=\"middle\" x=\"227\" y=\"-14.3\" font-family=\"Times,serif\" font-size=\"14.00\">2</text>\n",
       "</g>\n",
       "<!-- 2&#45;&#45;2 -->\n",
       "<g id=\"edge3\" class=\"edge\">\n",
       "<title>2--2</title>\n",
       "<path fill=\"none\" stroke=\"black\" d=\"M252.44,-24.69C263.03,-25.15 272,-22.92 272,-18 272,-13.08 263.03,-10.85 252.44,-11.31\"/>\n",
       "<text text-anchor=\"middle\" x=\"277\" y=\"-14.3\" font-family=\"Times,serif\" font-size=\"14.00\">1</text>\n",
       "</g>\n",
       "<!-- 3 -->\n",
       "<g id=\"node4\" class=\"node\">\n",
       "<title>3</title>\n",
       "<ellipse fill=\"none\" stroke=\"black\" cx=\"327\" cy=\"-18\" rx=\"27\" ry=\"18\"/>\n",
       "<text text-anchor=\"middle\" x=\"327\" y=\"-14.3\" font-family=\"Times,serif\" font-size=\"14.00\">3</text>\n",
       "</g>\n",
       "<!-- 3&#45;&#45;3 -->\n",
       "<g id=\"edge4\" class=\"edge\">\n",
       "<title>3--3</title>\n",
       "<path fill=\"none\" stroke=\"black\" d=\"M352.44,-24.69C363.03,-25.15 372,-22.92 372,-18 372,-13.08 363.03,-10.85 352.44,-11.31\"/>\n",
       "<text text-anchor=\"middle\" x=\"377\" y=\"-14.3\" font-family=\"Times,serif\" font-size=\"14.00\">1</text>\n",
       "</g>\n",
       "</g>\n",
       "</svg>"
      ],
      "text/plain": [
       "<IPython.core.display.SVG object>"
      ]
     },
     "metadata": {},
     "output_type": "display_data"
    }
   ],
   "source": [
    "graph.draw_matrix(np.eye(4, dtype=int))"
   ]
  },
  {
   "cell_type": "markdown",
   "metadata": {},
   "source": [
    "**Check your answers:**\n",
    "\n",
    "Modify the matrix ${\\bf B}$ by adding a self-loop to each node (even if there is already a self-loop present, in which case there will be entries $\\geq 2$). Store the modified matrix in ${\\bf Bi}$."
   ]
  },
  {
   "cell_type": "code",
   "execution_count": 10,
   "metadata": {},
   "outputs": [],
   "source": [
    "#grade (enter your code in this cell - DO NOT DELETE THIS LINE) \n",
    "Bi = np.eye(4)\n",
    "\n",
    "Bi = B + Bi\n",
    "\n",
    "#for i in range(len(B)):\n",
    "   # for j in range(len(B)):\n",
    "      #  if i == j:\n",
    "         #   Bi[i][j] = B[i][j]+1\n",
    "        #else:\n",
    "         #   Bi[i][j] = B[i][j]"
   ]
  },
  {
   "cell_type": "markdown",
   "metadata": {},
   "source": [
    "Note that by adding self-loops, `Bi` expresses the same pairs of distinct nodes that may be reached via a walk of length 1 as does `B`. The difference is only in the number of walks of length 1 from each node $i$ to itself."
   ]
  },
  {
   "cell_type": "code",
   "execution_count": 11,
   "metadata": {
    "scrolled": true
   },
   "outputs": [
    {
     "data": {
      "image/svg+xml": [
       "<svg xmlns=\"http://www.w3.org/2000/svg\" xmlns:xlink=\"http://www.w3.org/1999/xlink\" width=\"216pt\" height=\"218pt\" viewBox=\"0.00 0.00 216.00 218.00\">\n",
       "<g id=\"graph0\" class=\"graph\" transform=\"scale(1 1) rotate(0) translate(4 214)\">\n",
       "<polygon fill=\"white\" stroke=\"transparent\" points=\"-4,4 -4,-214 212,-214 212,4 -4,4\"/>\n",
       "<!-- 0 -->\n",
       "<g id=\"node1\" class=\"node\">\n",
       "<title>0</title>\n",
       "<ellipse fill=\"none\" stroke=\"black\" cx=\"83\" cy=\"-192\" rx=\"27\" ry=\"18\"/>\n",
       "<text text-anchor=\"middle\" x=\"83\" y=\"-188.3\" font-family=\"Times,serif\" font-size=\"14.00\">0</text>\n",
       "</g>\n",
       "<!-- 0&#45;&#45;0 -->\n",
       "<g id=\"edge1\" class=\"edge\">\n",
       "<title>0--0</title>\n",
       "<path fill=\"none\" stroke=\"black\" d=\"M107.53,-199.75C118.51,-200.49 128,-197.91 128,-192 128,-186.09 118.51,-183.51 107.53,-184.25\"/>\n",
       "<text text-anchor=\"middle\" x=\"139.5\" y=\"-188.3\" font-family=\"Times,serif\" font-size=\"14.00\">1.0</text>\n",
       "</g>\n",
       "<!-- 1 -->\n",
       "<g id=\"node2\" class=\"node\">\n",
       "<title>1</title>\n",
       "<ellipse fill=\"none\" stroke=\"black\" cx=\"27\" cy=\"-105\" rx=\"27\" ry=\"18\"/>\n",
       "<text text-anchor=\"middle\" x=\"27\" y=\"-101.3\" font-family=\"Times,serif\" font-size=\"14.00\">1</text>\n",
       "</g>\n",
       "<!-- 0&#45;&#45;1 -->\n",
       "<g id=\"edge2\" class=\"edge\">\n",
       "<title>0--1</title>\n",
       "<path fill=\"none\" stroke=\"black\" d=\"M72.47,-175.01C62.45,-159.82 47.48,-137.09 37.49,-121.92\"/>\n",
       "<text text-anchor=\"middle\" x=\"70.5\" y=\"-144.8\" font-family=\"Times,serif\" font-size=\"14.00\">1.0</text>\n",
       "</g>\n",
       "<!-- 2 -->\n",
       "<g id=\"node3\" class=\"node\">\n",
       "<title>2</title>\n",
       "<ellipse fill=\"none\" stroke=\"black\" cx=\"140\" cy=\"-105\" rx=\"27\" ry=\"18\"/>\n",
       "<text text-anchor=\"middle\" x=\"140\" y=\"-101.3\" font-family=\"Times,serif\" font-size=\"14.00\">2</text>\n",
       "</g>\n",
       "<!-- 0&#45;&#45;2 -->\n",
       "<g id=\"edge3\" class=\"edge\">\n",
       "<title>0--2</title>\n",
       "<path fill=\"none\" stroke=\"black\" d=\"M93.72,-175.01C103.98,-159.72 119.35,-136.8 129.52,-121.63\"/>\n",
       "<text text-anchor=\"middle\" x=\"125.5\" y=\"-144.8\" font-family=\"Times,serif\" font-size=\"14.00\">1.0</text>\n",
       "</g>\n",
       "<!-- 1&#45;&#45;1 -->\n",
       "<g id=\"edge4\" class=\"edge\">\n",
       "<title>1--1</title>\n",
       "<path fill=\"none\" stroke=\"black\" d=\"M51.53,-112.75C62.51,-113.49 72,-110.91 72,-105 72,-99.09 62.51,-96.51 51.53,-97.25\"/>\n",
       "<text text-anchor=\"middle\" x=\"83.5\" y=\"-101.3\" font-family=\"Times,serif\" font-size=\"14.00\">1.0</text>\n",
       "</g>\n",
       "<!-- 3 -->\n",
       "<g id=\"node4\" class=\"node\">\n",
       "<title>3</title>\n",
       "<ellipse fill=\"none\" stroke=\"black\" cx=\"27\" cy=\"-18\" rx=\"27\" ry=\"18\"/>\n",
       "<text text-anchor=\"middle\" x=\"27\" y=\"-14.3\" font-family=\"Times,serif\" font-size=\"14.00\">3</text>\n",
       "</g>\n",
       "<!-- 1&#45;&#45;3 -->\n",
       "<g id=\"edge5\" class=\"edge\">\n",
       "<title>1--3</title>\n",
       "<path fill=\"none\" stroke=\"black\" d=\"M27,-86.8C27,-72.05 27,-50.91 27,-36.17\"/>\n",
       "<text text-anchor=\"middle\" x=\"38.5\" y=\"-57.8\" font-family=\"Times,serif\" font-size=\"14.00\">1.0</text>\n",
       "</g>\n",
       "<!-- 2&#45;&#45;2 -->\n",
       "<g id=\"edge6\" class=\"edge\">\n",
       "<title>2--2</title>\n",
       "<path fill=\"none\" stroke=\"black\" d=\"M164.53,-112.75C175.51,-113.49 185,-110.91 185,-105 185,-99.09 175.51,-96.51 164.53,-97.25\"/>\n",
       "<text text-anchor=\"middle\" x=\"196.5\" y=\"-101.3\" font-family=\"Times,serif\" font-size=\"14.00\">2.0</text>\n",
       "</g>\n",
       "<!-- 3&#45;&#45;3 -->\n",
       "<g id=\"edge7\" class=\"edge\">\n",
       "<title>3--3</title>\n",
       "<path fill=\"none\" stroke=\"black\" d=\"M51.53,-25.75C62.51,-26.49 72,-23.91 72,-18 72,-12.09 62.51,-9.51 51.53,-10.25\"/>\n",
       "<text text-anchor=\"middle\" x=\"83.5\" y=\"-14.3\" font-family=\"Times,serif\" font-size=\"14.00\">2.0</text>\n",
       "</g>\n",
       "</g>\n",
       "</svg>"
      ],
      "text/plain": [
       "<IPython.core.display.SVG object>"
      ]
     },
     "metadata": {},
     "output_type": "display_data"
    }
   ],
   "source": [
    "graph.draw_matrix(Bi)"
   ]
  },
  {
   "cell_type": "markdown",
   "metadata": {},
   "source": [
    "### Number of Steps in Walk"
   ]
  },
  {
   "cell_type": "markdown",
   "metadata": {},
   "source": [
    "In the previous examples we were picking arbitrary values of $k$ for our walks.\n",
    "\n",
    "**What if we want to find the smallest value of $k$ such that each node is connected to every other node? If such a $k$ exists, we say the graph is fully connected.**\n",
    "\n",
    "\n",
    "Let's look at a few scenarios here.  In this first example, all nodes are connected with each other."
   ]
  },
  {
   "cell_type": "code",
   "execution_count": 12,
   "metadata": {},
   "outputs": [
    {
     "data": {
      "image/svg+xml": [
       "<svg xmlns=\"http://www.w3.org/2000/svg\" xmlns:xlink=\"http://www.w3.org/1999/xlink\" width=\"181pt\" height=\"305pt\" viewBox=\"0.00 0.00 181.00 305.00\">\n",
       "<g id=\"graph0\" class=\"graph\" transform=\"scale(1 1) rotate(0) translate(4 301)\">\n",
       "<polygon fill=\"white\" stroke=\"transparent\" points=\"-4,4 -4,-301 177,-301 177,4 -4,4\"/>\n",
       "<!-- 0 -->\n",
       "<g id=\"node1\" class=\"node\">\n",
       "<title>0</title>\n",
       "<ellipse fill=\"none\" stroke=\"black\" cx=\"118\" cy=\"-279\" rx=\"27\" ry=\"18\"/>\n",
       "<text text-anchor=\"middle\" x=\"118\" y=\"-275.3\" font-family=\"Times,serif\" font-size=\"14.00\">0</text>\n",
       "</g>\n",
       "<!-- 0&#45;&#45;0 -->\n",
       "<g id=\"edge1\" class=\"edge\">\n",
       "<title>0--0</title>\n",
       "<path fill=\"none\" stroke=\"black\" d=\"M142.53,-286.75C153.51,-287.49 163,-284.91 163,-279 163,-273.09 153.51,-270.51 142.53,-271.25\"/>\n",
       "<text text-anchor=\"middle\" x=\"168\" y=\"-275.3\" font-family=\"Times,serif\" font-size=\"14.00\">1</text>\n",
       "</g>\n",
       "<!-- 1 -->\n",
       "<g id=\"node2\" class=\"node\">\n",
       "<title>1</title>\n",
       "<ellipse fill=\"none\" stroke=\"black\" cx=\"27\" cy=\"-192\" rx=\"27\" ry=\"18\"/>\n",
       "<text text-anchor=\"middle\" x=\"27\" y=\"-188.3\" font-family=\"Times,serif\" font-size=\"14.00\">1</text>\n",
       "</g>\n",
       "<!-- 0&#45;&#45;1 -->\n",
       "<g id=\"edge2\" class=\"edge\">\n",
       "<title>0--1</title>\n",
       "<path fill=\"none\" stroke=\"black\" d=\"M102.97,-263.96C86.11,-248.21 58.92,-222.81 42.05,-207.06\"/>\n",
       "<text text-anchor=\"middle\" x=\"83\" y=\"-231.8\" font-family=\"Times,serif\" font-size=\"14.00\">1</text>\n",
       "</g>\n",
       "<!-- 2 -->\n",
       "<g id=\"node3\" class=\"node\">\n",
       "<title>2</title>\n",
       "<ellipse fill=\"none\" stroke=\"black\" cx=\"77\" cy=\"-105\" rx=\"27\" ry=\"18\"/>\n",
       "<text text-anchor=\"middle\" x=\"77\" y=\"-101.3\" font-family=\"Times,serif\" font-size=\"14.00\">2</text>\n",
       "</g>\n",
       "<!-- 0&#45;&#45;2 -->\n",
       "<g id=\"edge3\" class=\"edge\">\n",
       "<title>0--2</title>\n",
       "<path fill=\"none\" stroke=\"black\" d=\"M113.99,-261.19C106.16,-228.31 88.87,-155.81 81.02,-122.87\"/>\n",
       "<text text-anchor=\"middle\" x=\"106\" y=\"-188.3\" font-family=\"Times,serif\" font-size=\"14.00\">1</text>\n",
       "</g>\n",
       "<!-- 3 -->\n",
       "<g id=\"node4\" class=\"node\">\n",
       "<title>3</title>\n",
       "<ellipse fill=\"none\" stroke=\"black\" cx=\"77\" cy=\"-18\" rx=\"27\" ry=\"18\"/>\n",
       "<text text-anchor=\"middle\" x=\"77\" y=\"-14.3\" font-family=\"Times,serif\" font-size=\"14.00\">3</text>\n",
       "</g>\n",
       "<!-- 0&#45;&#45;3 -->\n",
       "<g id=\"edge4\" class=\"edge\">\n",
       "<title>0--3</title>\n",
       "<path fill=\"none\" stroke=\"black\" d=\"M125.17,-261.47C138.83,-227.49 165.13,-147.85 141,-87 131.8,-63.79 110.51,-43.9 95,-31.73\"/>\n",
       "<text text-anchor=\"middle\" x=\"155\" y=\"-144.8\" font-family=\"Times,serif\" font-size=\"14.00\">1</text>\n",
       "</g>\n",
       "<!-- 1&#45;&#45;1 -->\n",
       "<g id=\"edge5\" class=\"edge\">\n",
       "<title>1--1</title>\n",
       "<path fill=\"none\" stroke=\"black\" d=\"M51.53,-199.75C62.51,-200.49 72,-197.91 72,-192 72,-186.09 62.51,-183.51 51.53,-184.25\"/>\n",
       "<text text-anchor=\"middle\" x=\"77\" y=\"-188.3\" font-family=\"Times,serif\" font-size=\"14.00\">1</text>\n",
       "</g>\n",
       "<!-- 1&#45;&#45;2 -->\n",
       "<g id=\"edge6\" class=\"edge\">\n",
       "<title>1--2</title>\n",
       "<path fill=\"none\" stroke=\"black\" d=\"M36.41,-175.01C45.34,-159.82 58.71,-137.09 67.64,-121.92\"/>\n",
       "<text text-anchor=\"middle\" x=\"60\" y=\"-144.8\" font-family=\"Times,serif\" font-size=\"14.00\">1</text>\n",
       "</g>\n",
       "<!-- 1&#45;&#45;3 -->\n",
       "<g id=\"edge7\" class=\"edge\">\n",
       "<title>1--3</title>\n",
       "<path fill=\"none\" stroke=\"black\" d=\"M24.85,-173.93C22.83,-152.9 21.38,-116.36 31,-87 37.7,-66.55 52.5,-46.56 63.51,-33.61\"/>\n",
       "<text text-anchor=\"middle\" x=\"36\" y=\"-101.3\" font-family=\"Times,serif\" font-size=\"14.00\">1</text>\n",
       "</g>\n",
       "<!-- 2&#45;&#45;2 -->\n",
       "<g id=\"edge8\" class=\"edge\">\n",
       "<title>2--2</title>\n",
       "<path fill=\"none\" stroke=\"black\" d=\"M101.53,-112.75C112.51,-113.49 122,-110.91 122,-105 122,-99.09 112.51,-96.51 101.53,-97.25\"/>\n",
       "<text text-anchor=\"middle\" x=\"127\" y=\"-101.3\" font-family=\"Times,serif\" font-size=\"14.00\">1</text>\n",
       "</g>\n",
       "<!-- 2&#45;&#45;3 -->\n",
       "<g id=\"edge9\" class=\"edge\">\n",
       "<title>2--3</title>\n",
       "<path fill=\"none\" stroke=\"black\" d=\"M77,-86.8C77,-72.05 77,-50.91 77,-36.17\"/>\n",
       "<text text-anchor=\"middle\" x=\"82\" y=\"-57.8\" font-family=\"Times,serif\" font-size=\"14.00\">1</text>\n",
       "</g>\n",
       "<!-- 3&#45;&#45;3 -->\n",
       "<g id=\"edge10\" class=\"edge\">\n",
       "<title>3--3</title>\n",
       "<path fill=\"none\" stroke=\"black\" d=\"M101.53,-25.75C112.51,-26.49 122,-23.91 122,-18 122,-12.09 112.51,-9.51 101.53,-10.25\"/>\n",
       "<text text-anchor=\"middle\" x=\"127\" y=\"-14.3\" font-family=\"Times,serif\" font-size=\"14.00\">1</text>\n",
       "</g>\n",
       "</g>\n",
       "</svg>"
      ],
      "text/plain": [
       "<IPython.core.display.SVG object>"
      ]
     },
     "metadata": {},
     "output_type": "display_data"
    }
   ],
   "source": [
    "n = 4\n",
    "C = np.ones((n, n), dtype=int)\n",
    "graph.draw_matrix(C, show_weights=True)"
   ]
  },
  {
   "cell_type": "markdown",
   "metadata": {},
   "source": [
    "For the example above, we can see that any node can reach another node with a walk of length 1, and hence the smallest value of $k$ is $k=1$.\n",
    "\n",
    "\n",
    "Let's look at this other example (we use [numpy.eye](https://numpy.org/doc/stable/reference/generated/numpy.eye.html) to define matrices with 1s in the upper and lower diagonals)"
   ]
  },
  {
   "cell_type": "code",
   "execution_count": 13,
   "metadata": {},
   "outputs": [
    {
     "name": "stdout",
     "output_type": "stream",
     "text": [
      "[[0 1 0 0]\n",
      " [1 0 1 0]\n",
      " [0 1 0 1]\n",
      " [0 0 1 0]]\n"
     ]
    },
    {
     "data": {
      "image/svg+xml": [
       "<svg xmlns=\"http://www.w3.org/2000/svg\" xmlns:xlink=\"http://www.w3.org/1999/xlink\" width=\"62pt\" height=\"260pt\" viewBox=\"0.00 0.00 62.00 260.00\">\n",
       "<g id=\"graph0\" class=\"graph\" transform=\"scale(1 1) rotate(0) translate(4 256)\">\n",
       "<polygon fill=\"white\" stroke=\"transparent\" points=\"-4,4 -4,-256 58,-256 58,4 -4,4\"/>\n",
       "<!-- 0 -->\n",
       "<g id=\"node1\" class=\"node\">\n",
       "<title>0</title>\n",
       "<ellipse fill=\"none\" stroke=\"black\" cx=\"27\" cy=\"-234\" rx=\"27\" ry=\"18\"/>\n",
       "<text text-anchor=\"middle\" x=\"27\" y=\"-230.3\" font-family=\"Times,serif\" font-size=\"14.00\">0</text>\n",
       "</g>\n",
       "<!-- 1 -->\n",
       "<g id=\"node2\" class=\"node\">\n",
       "<title>1</title>\n",
       "<ellipse fill=\"none\" stroke=\"black\" cx=\"27\" cy=\"-162\" rx=\"27\" ry=\"18\"/>\n",
       "<text text-anchor=\"middle\" x=\"27\" y=\"-158.3\" font-family=\"Times,serif\" font-size=\"14.00\">1</text>\n",
       "</g>\n",
       "<!-- 0&#45;&#45;1 -->\n",
       "<g id=\"edge1\" class=\"edge\">\n",
       "<title>0--1</title>\n",
       "<path fill=\"none\" stroke=\"black\" d=\"M27,-215.7C27,-204.85 27,-190.92 27,-180.1\"/>\n",
       "</g>\n",
       "<!-- 2 -->\n",
       "<g id=\"node3\" class=\"node\">\n",
       "<title>2</title>\n",
       "<ellipse fill=\"none\" stroke=\"black\" cx=\"27\" cy=\"-90\" rx=\"27\" ry=\"18\"/>\n",
       "<text text-anchor=\"middle\" x=\"27\" y=\"-86.3\" font-family=\"Times,serif\" font-size=\"14.00\">2</text>\n",
       "</g>\n",
       "<!-- 1&#45;&#45;2 -->\n",
       "<g id=\"edge2\" class=\"edge\">\n",
       "<title>1--2</title>\n",
       "<path fill=\"none\" stroke=\"black\" d=\"M27,-143.7C27,-132.85 27,-118.92 27,-108.1\"/>\n",
       "</g>\n",
       "<!-- 3 -->\n",
       "<g id=\"node4\" class=\"node\">\n",
       "<title>3</title>\n",
       "<ellipse fill=\"none\" stroke=\"black\" cx=\"27\" cy=\"-18\" rx=\"27\" ry=\"18\"/>\n",
       "<text text-anchor=\"middle\" x=\"27\" y=\"-14.3\" font-family=\"Times,serif\" font-size=\"14.00\">3</text>\n",
       "</g>\n",
       "<!-- 2&#45;&#45;3 -->\n",
       "<g id=\"edge3\" class=\"edge\">\n",
       "<title>2--3</title>\n",
       "<path fill=\"none\" stroke=\"black\" d=\"M27,-71.7C27,-60.85 27,-46.92 27,-36.1\"/>\n",
       "</g>\n",
       "</g>\n",
       "</svg>"
      ],
      "text/plain": [
       "<IPython.core.display.SVG object>"
      ]
     },
     "metadata": {},
     "output_type": "display_data"
    }
   ],
   "source": [
    "n = 4\n",
    "D = np.eye(n, k=-1, dtype=int) + np.eye(n, k=1, dtype=int)\n",
    "print(D)\n",
    "graph.draw_matrix(D, show_weights=False)"
   ]
  },
  {
   "cell_type": "markdown",
   "metadata": {},
   "source": [
    "**Check your answers:**\n",
    "\n",
    "Modify the matrix `D` above, such that each node can also move to itself. Store that as the variable `Di`. "
   ]
  },
  {
   "cell_type": "code",
   "execution_count": 14,
   "metadata": {},
   "outputs": [],
   "source": [
    "#grade (enter your code in this cell - DO NOT DELETE THIS LINE) \n",
    "Di = np.eye(4)\n",
    "Di = Di + D"
   ]
  },
  {
   "cell_type": "markdown",
   "metadata": {},
   "source": [
    "We can think of the identity matrix as counting walks of \"length zero\", since it takes zero moves to get from a node to itself. By adding the identity to `Di`, we get a matrix which counts the number of walks of length 0 or 1 between each pair of nodes."
   ]
  },
  {
   "cell_type": "code",
   "execution_count": 15,
   "metadata": {},
   "outputs": [
    {
     "data": {
      "image/svg+xml": [
       "<svg xmlns=\"http://www.w3.org/2000/svg\" xmlns:xlink=\"http://www.w3.org/1999/xlink\" width=\"103pt\" height=\"305pt\" viewBox=\"0.00 0.00 103.00 305.00\">\n",
       "<g id=\"graph0\" class=\"graph\" transform=\"scale(1 1) rotate(0) translate(4 301)\">\n",
       "<polygon fill=\"white\" stroke=\"transparent\" points=\"-4,4 -4,-301 99,-301 99,4 -4,4\"/>\n",
       "<!-- 0 -->\n",
       "<g id=\"node1\" class=\"node\">\n",
       "<title>0</title>\n",
       "<ellipse fill=\"none\" stroke=\"black\" cx=\"27\" cy=\"-279\" rx=\"27\" ry=\"18\"/>\n",
       "<text text-anchor=\"middle\" x=\"27\" y=\"-275.3\" font-family=\"Times,serif\" font-size=\"14.00\">0</text>\n",
       "</g>\n",
       "<!-- 0&#45;&#45;0 -->\n",
       "<g id=\"edge1\" class=\"edge\">\n",
       "<title>0--0</title>\n",
       "<path fill=\"none\" stroke=\"black\" d=\"M51.53,-286.75C62.51,-287.49 72,-284.91 72,-279 72,-273.09 62.51,-270.51 51.53,-271.25\"/>\n",
       "<text text-anchor=\"middle\" x=\"83.5\" y=\"-275.3\" font-family=\"Times,serif\" font-size=\"14.00\">1.0</text>\n",
       "</g>\n",
       "<!-- 1 -->\n",
       "<g id=\"node2\" class=\"node\">\n",
       "<title>1</title>\n",
       "<ellipse fill=\"none\" stroke=\"black\" cx=\"27\" cy=\"-192\" rx=\"27\" ry=\"18\"/>\n",
       "<text text-anchor=\"middle\" x=\"27\" y=\"-188.3\" font-family=\"Times,serif\" font-size=\"14.00\">1</text>\n",
       "</g>\n",
       "<!-- 0&#45;&#45;1 -->\n",
       "<g id=\"edge2\" class=\"edge\">\n",
       "<title>0--1</title>\n",
       "<path fill=\"none\" stroke=\"black\" d=\"M27,-260.8C27,-246.05 27,-224.92 27,-210.18\"/>\n",
       "<text text-anchor=\"middle\" x=\"38.5\" y=\"-231.8\" font-family=\"Times,serif\" font-size=\"14.00\">1.0</text>\n",
       "</g>\n",
       "<!-- 1&#45;&#45;1 -->\n",
       "<g id=\"edge3\" class=\"edge\">\n",
       "<title>1--1</title>\n",
       "<path fill=\"none\" stroke=\"black\" d=\"M51.53,-199.75C62.51,-200.49 72,-197.91 72,-192 72,-186.09 62.51,-183.51 51.53,-184.25\"/>\n",
       "<text text-anchor=\"middle\" x=\"83.5\" y=\"-188.3\" font-family=\"Times,serif\" font-size=\"14.00\">1.0</text>\n",
       "</g>\n",
       "<!-- 2 -->\n",
       "<g id=\"node3\" class=\"node\">\n",
       "<title>2</title>\n",
       "<ellipse fill=\"none\" stroke=\"black\" cx=\"27\" cy=\"-105\" rx=\"27\" ry=\"18\"/>\n",
       "<text text-anchor=\"middle\" x=\"27\" y=\"-101.3\" font-family=\"Times,serif\" font-size=\"14.00\">2</text>\n",
       "</g>\n",
       "<!-- 1&#45;&#45;2 -->\n",
       "<g id=\"edge4\" class=\"edge\">\n",
       "<title>1--2</title>\n",
       "<path fill=\"none\" stroke=\"black\" d=\"M27,-173.8C27,-159.05 27,-137.92 27,-123.18\"/>\n",
       "<text text-anchor=\"middle\" x=\"38.5\" y=\"-144.8\" font-family=\"Times,serif\" font-size=\"14.00\">1.0</text>\n",
       "</g>\n",
       "<!-- 2&#45;&#45;2 -->\n",
       "<g id=\"edge5\" class=\"edge\">\n",
       "<title>2--2</title>\n",
       "<path fill=\"none\" stroke=\"black\" d=\"M51.53,-112.75C62.51,-113.49 72,-110.91 72,-105 72,-99.09 62.51,-96.51 51.53,-97.25\"/>\n",
       "<text text-anchor=\"middle\" x=\"83.5\" y=\"-101.3\" font-family=\"Times,serif\" font-size=\"14.00\">1.0</text>\n",
       "</g>\n",
       "<!-- 3 -->\n",
       "<g id=\"node4\" class=\"node\">\n",
       "<title>3</title>\n",
       "<ellipse fill=\"none\" stroke=\"black\" cx=\"27\" cy=\"-18\" rx=\"27\" ry=\"18\"/>\n",
       "<text text-anchor=\"middle\" x=\"27\" y=\"-14.3\" font-family=\"Times,serif\" font-size=\"14.00\">3</text>\n",
       "</g>\n",
       "<!-- 2&#45;&#45;3 -->\n",
       "<g id=\"edge6\" class=\"edge\">\n",
       "<title>2--3</title>\n",
       "<path fill=\"none\" stroke=\"black\" d=\"M27,-86.8C27,-72.05 27,-50.91 27,-36.17\"/>\n",
       "<text text-anchor=\"middle\" x=\"38.5\" y=\"-57.8\" font-family=\"Times,serif\" font-size=\"14.00\">1.0</text>\n",
       "</g>\n",
       "<!-- 3&#45;&#45;3 -->\n",
       "<g id=\"edge7\" class=\"edge\">\n",
       "<title>3--3</title>\n",
       "<path fill=\"none\" stroke=\"black\" d=\"M51.53,-25.75C62.51,-26.49 72,-23.91 72,-18 72,-12.09 62.51,-9.51 51.53,-10.25\"/>\n",
       "<text text-anchor=\"middle\" x=\"83.5\" y=\"-14.3\" font-family=\"Times,serif\" font-size=\"14.00\">1.0</text>\n",
       "</g>\n",
       "</g>\n",
       "</svg>"
      ],
      "text/plain": [
       "<IPython.core.display.SVG object>"
      ]
     },
     "metadata": {},
     "output_type": "display_data"
    }
   ],
   "source": [
    "graph.draw_matrix(Di, show_weights=True)"
   ]
  },
  {
   "cell_type": "markdown",
   "metadata": {},
   "source": [
    "We do not yet have a graph that is fully connected. That is, we cannot reach every node from any other node via a walk of length 1.\n",
    "\n",
    "What if we want to consider the connections that can be reached with up to walks of length 2? \n",
    "\n",
    "**Try it!**\n",
    "\n",
    "Add to `Di` the matrix which represents walks of length 2. Store the result as the variable `Di2`. \n",
    "\n",
    "*Hint:* To find the matrix which represents walks of length 2, should you use `D` or `Di`? Why?\n",
    "\n",
    "Do you still get entries that are zero, indicating that not all nodes can be reached from any node in up to 2 steps?"
   ]
  },
  {
   "cell_type": "code",
   "execution_count": 16,
   "metadata": {},
   "outputs": [],
   "source": [
    "#grade (enter your code in this cell - DO NOT DELETE THIS LINE) \n",
    "\n",
    "d2 = D @ D\n",
    "\n",
    "Di2 = Di + d2"
   ]
  },
  {
   "cell_type": "code",
   "execution_count": 17,
   "metadata": {},
   "outputs": [
    {
     "data": {
      "image/svg+xml": [
       "<svg xmlns=\"http://www.w3.org/2000/svg\" xmlns:xlink=\"http://www.w3.org/1999/xlink\" width=\"181pt\" height=\"305pt\" viewBox=\"0.00 0.00 181.00 305.00\">\n",
       "<g id=\"graph0\" class=\"graph\" transform=\"scale(1 1) rotate(0) translate(4 301)\">\n",
       "<polygon fill=\"white\" stroke=\"transparent\" points=\"-4,4 -4,-301 177,-301 177,4 -4,4\"/>\n",
       "<!-- 0 -->\n",
       "<g id=\"node1\" class=\"node\">\n",
       "<title>0</title>\n",
       "<ellipse fill=\"none\" stroke=\"black\" cx=\"105\" cy=\"-279\" rx=\"27\" ry=\"18\"/>\n",
       "<text text-anchor=\"middle\" x=\"105\" y=\"-275.3\" font-family=\"Times,serif\" font-size=\"14.00\">0</text>\n",
       "</g>\n",
       "<!-- 0&#45;&#45;0 -->\n",
       "<g id=\"edge1\" class=\"edge\">\n",
       "<title>0--0</title>\n",
       "<path fill=\"none\" stroke=\"black\" d=\"M129.53,-286.75C140.51,-287.49 150,-284.91 150,-279 150,-273.09 140.51,-270.51 129.53,-271.25\"/>\n",
       "<text text-anchor=\"middle\" x=\"161.5\" y=\"-275.3\" font-family=\"Times,serif\" font-size=\"14.00\">2.0</text>\n",
       "</g>\n",
       "<!-- 1 -->\n",
       "<g id=\"node2\" class=\"node\">\n",
       "<title>1</title>\n",
       "<ellipse fill=\"none\" stroke=\"black\" cx=\"27\" cy=\"-192\" rx=\"27\" ry=\"18\"/>\n",
       "<text text-anchor=\"middle\" x=\"27\" y=\"-188.3\" font-family=\"Times,serif\" font-size=\"14.00\">1</text>\n",
       "</g>\n",
       "<!-- 0&#45;&#45;1 -->\n",
       "<g id=\"edge2\" class=\"edge\">\n",
       "<title>0--1</title>\n",
       "<path fill=\"none\" stroke=\"black\" d=\"M91.41,-263.19C77.1,-247.59 54.69,-223.17 40.43,-207.64\"/>\n",
       "<text text-anchor=\"middle\" x=\"82.5\" y=\"-231.8\" font-family=\"Times,serif\" font-size=\"14.00\">1.0</text>\n",
       "</g>\n",
       "<!-- 2 -->\n",
       "<g id=\"node3\" class=\"node\">\n",
       "<title>2</title>\n",
       "<ellipse fill=\"none\" stroke=\"black\" cx=\"95\" cy=\"-105\" rx=\"27\" ry=\"18\"/>\n",
       "<text text-anchor=\"middle\" x=\"95\" y=\"-101.3\" font-family=\"Times,serif\" font-size=\"14.00\">2</text>\n",
       "</g>\n",
       "<!-- 0&#45;&#45;2 -->\n",
       "<g id=\"edge3\" class=\"edge\">\n",
       "<title>0--2</title>\n",
       "<path fill=\"none\" stroke=\"black\" d=\"M105.48,-260.68C105.9,-240.01 106.15,-204.44 104,-174 102.77,-156.54 99.98,-136.71 97.83,-122.99\"/>\n",
       "<text text-anchor=\"middle\" x=\"116.5\" y=\"-188.3\" font-family=\"Times,serif\" font-size=\"14.00\">1.0</text>\n",
       "</g>\n",
       "<!-- 1&#45;&#45;1 -->\n",
       "<g id=\"edge4\" class=\"edge\">\n",
       "<title>1--1</title>\n",
       "<path fill=\"none\" stroke=\"black\" d=\"M51.53,-199.75C62.51,-200.49 72,-197.91 72,-192 72,-186.09 62.51,-183.51 51.53,-184.25\"/>\n",
       "<text text-anchor=\"middle\" x=\"83.5\" y=\"-188.3\" font-family=\"Times,serif\" font-size=\"14.00\">3.0</text>\n",
       "</g>\n",
       "<!-- 1&#45;&#45;2 -->\n",
       "<g id=\"edge5\" class=\"edge\">\n",
       "<title>1--2</title>\n",
       "<path fill=\"none\" stroke=\"black\" d=\"M39.16,-175.8C51.46,-160.43 70.37,-136.78 82.72,-121.35\"/>\n",
       "<text text-anchor=\"middle\" x=\"77.5\" y=\"-144.8\" font-family=\"Times,serif\" font-size=\"14.00\">1.0</text>\n",
       "</g>\n",
       "<!-- 3 -->\n",
       "<g id=\"node4\" class=\"node\">\n",
       "<title>3</title>\n",
       "<ellipse fill=\"none\" stroke=\"black\" cx=\"43\" cy=\"-18\" rx=\"27\" ry=\"18\"/>\n",
       "<text text-anchor=\"middle\" x=\"43\" y=\"-14.3\" font-family=\"Times,serif\" font-size=\"14.00\">3</text>\n",
       "</g>\n",
       "<!-- 1&#45;&#45;3 -->\n",
       "<g id=\"edge6\" class=\"edge\">\n",
       "<title>1--3</title>\n",
       "<path fill=\"none\" stroke=\"black\" d=\"M28.41,-173.69C30.11,-153.05 33.11,-117.49 36,-87 37.65,-69.63 39.71,-49.79 41.17,-36.04\"/>\n",
       "<text text-anchor=\"middle\" x=\"47.5\" y=\"-101.3\" font-family=\"Times,serif\" font-size=\"14.00\">1.0</text>\n",
       "</g>\n",
       "<!-- 2&#45;&#45;2 -->\n",
       "<g id=\"edge7\" class=\"edge\">\n",
       "<title>2--2</title>\n",
       "<path fill=\"none\" stroke=\"black\" d=\"M119.53,-112.75C130.51,-113.49 140,-110.91 140,-105 140,-99.09 130.51,-96.51 119.53,-97.25\"/>\n",
       "<text text-anchor=\"middle\" x=\"151.5\" y=\"-101.3\" font-family=\"Times,serif\" font-size=\"14.00\">3.0</text>\n",
       "</g>\n",
       "<!-- 2&#45;&#45;3 -->\n",
       "<g id=\"edge8\" class=\"edge\">\n",
       "<title>2--3</title>\n",
       "<path fill=\"none\" stroke=\"black\" d=\"M85.22,-88.01C75.92,-72.81 62.02,-50.09 52.74,-34.92\"/>\n",
       "<text text-anchor=\"middle\" x=\"84.5\" y=\"-57.8\" font-family=\"Times,serif\" font-size=\"14.00\">1.0</text>\n",
       "</g>\n",
       "<!-- 3&#45;&#45;3 -->\n",
       "<g id=\"edge9\" class=\"edge\">\n",
       "<title>3--3</title>\n",
       "<path fill=\"none\" stroke=\"black\" d=\"M67.53,-25.75C78.51,-26.49 88,-23.91 88,-18 88,-12.09 78.51,-9.51 67.53,-10.25\"/>\n",
       "<text text-anchor=\"middle\" x=\"99.5\" y=\"-14.3\" font-family=\"Times,serif\" font-size=\"14.00\">2.0</text>\n",
       "</g>\n",
       "</g>\n",
       "</svg>"
      ],
      "text/plain": [
       "<IPython.core.display.SVG object>"
      ]
     },
     "metadata": {},
     "output_type": "display_data"
    }
   ],
   "source": [
    "graph.draw_matrix(Di2, show_weights=True)"
   ]
  },
  {
   "cell_type": "markdown",
   "metadata": {},
   "source": [
    "Did you get a fully connected graph when considering walks of length at most 2?\n",
    "\n",
    "Keep adding $D^k$ until you find the necessary $k$ value."
   ]
  },
  {
   "cell_type": "code",
   "execution_count": null,
   "metadata": {},
   "outputs": [],
   "source": []
  },
  {
   "cell_type": "markdown",
   "metadata": {},
   "source": [
    "<div class=\"alert alert-info\">\n",
    "    \n",
    "In summary, every node of a connected graph ${\\bf G}$ is connected to every other node via walks of length at most $k$ when $k$ is such that the matrix\n",
    "\n",
    "$$ {\\bf I} + \\sum_{i=1}^k {\\bf G}^i $$\n",
    "\n",
    "does not contain any 0 entries.\n",
    "\n",
    "This matrix captures the number of distinct walks of length at most $k$ between each pair of nodes. Without ${\\bf I}$, the sum of matrices represents the non-trivial such walks.\n",
    "\n",
    "</div>"
   ]
  },
  {
   "cell_type": "markdown",
   "metadata": {},
   "source": [
    "### Edge-node Incidence Matrix"
   ]
  },
  {
   "cell_type": "markdown",
   "metadata": {},
   "source": [
    "Now, we consider directed graphs and define them according to their adjacency matrices.\n",
    "The edge-node incidence matrix ${\\bf M}$ of the directed graph ${\\bf G}$ is a $m \\times n$ matrix such that:\n",
    "\n",
    "$${\\bf M}_{i,j} = \\begin{cases} -1 & \\text{if edge } i \\text{ leaves node } j \\\\ 1 & \\text{if edge } i \\text{ enters node } j \\\\ 0 & \\text{otherwise} \\end{cases}$$\n",
    "\n",
    "\n",
    "where $m$ is the number of edges and $n$ is the number of nodes. Note that establishes an ordering on the edges.\n",
    "\n",
    "Consider the adjacency matrix below:"
   ]
  },
  {
   "cell_type": "code",
   "execution_count": 18,
   "metadata": {},
   "outputs": [
    {
     "data": {
      "image/svg+xml": [
       "<svg xmlns=\"http://www.w3.org/2000/svg\" xmlns:xlink=\"http://www.w3.org/1999/xlink\" width=\"117pt\" height=\"260pt\" viewBox=\"0.00 0.00 117.00 260.00\">\n",
       "<g id=\"graph0\" class=\"graph\" transform=\"scale(1 1) rotate(0) translate(4 256)\">\n",
       "<polygon fill=\"white\" stroke=\"transparent\" points=\"-4,4 -4,-256 113,-256 113,4 -4,4\"/>\n",
       "<!-- 1 -->\n",
       "<g id=\"node1\" class=\"node\">\n",
       "<title>1</title>\n",
       "<ellipse fill=\"none\" stroke=\"black\" cx=\"27\" cy=\"-162\" rx=\"27\" ry=\"18\"/>\n",
       "<text text-anchor=\"middle\" x=\"27\" y=\"-158.3\" font-family=\"Times,serif\" font-size=\"14.00\">1</text>\n",
       "</g>\n",
       "<!-- 0 -->\n",
       "<g id=\"node2\" class=\"node\">\n",
       "<title>0</title>\n",
       "<ellipse fill=\"none\" stroke=\"black\" cx=\"54\" cy=\"-18\" rx=\"27\" ry=\"18\"/>\n",
       "<text text-anchor=\"middle\" x=\"54\" y=\"-14.3\" font-family=\"Times,serif\" font-size=\"14.00\">0</text>\n",
       "</g>\n",
       "<!-- 1&#45;&gt;0 -->\n",
       "<g id=\"edge1\" class=\"edge\">\n",
       "<title>1-&gt;0</title>\n",
       "<path fill=\"none\" stroke=\"black\" d=\"M30.26,-143.87C34.86,-119.67 43.31,-75.21 48.79,-46.39\"/>\n",
       "<polygon fill=\"black\" stroke=\"black\" points=\"52.3,-46.67 50.73,-36.19 45.42,-45.36 52.3,-46.67\"/>\n",
       "</g>\n",
       "<!-- 2 -->\n",
       "<g id=\"node3\" class=\"node\">\n",
       "<title>2</title>\n",
       "<ellipse fill=\"none\" stroke=\"black\" cx=\"82\" cy=\"-90\" rx=\"27\" ry=\"18\"/>\n",
       "<text text-anchor=\"middle\" x=\"82\" y=\"-86.3\" font-family=\"Times,serif\" font-size=\"14.00\">2</text>\n",
       "</g>\n",
       "<!-- 1&#45;&gt;2 -->\n",
       "<g id=\"edge2\" class=\"edge\">\n",
       "<title>1-&gt;2</title>\n",
       "<path fill=\"none\" stroke=\"black\" d=\"M38.93,-145.81C46.21,-136.55 55.66,-124.52 63.85,-114.09\"/>\n",
       "<polygon fill=\"black\" stroke=\"black\" points=\"66.66,-116.18 70.09,-106.16 61.16,-111.86 66.66,-116.18\"/>\n",
       "</g>\n",
       "<!-- 2&#45;&gt;0 -->\n",
       "<g id=\"edge3\" class=\"edge\">\n",
       "<title>2-&gt;0</title>\n",
       "<path fill=\"none\" stroke=\"black\" d=\"M75.36,-72.41C72.09,-64.22 68.06,-54.14 64.38,-44.95\"/>\n",
       "<polygon fill=\"black\" stroke=\"black\" points=\"67.55,-43.45 60.59,-35.47 61.05,-46.05 67.55,-43.45\"/>\n",
       "</g>\n",
       "<!-- 3 -->\n",
       "<g id=\"node4\" class=\"node\">\n",
       "<title>3</title>\n",
       "<ellipse fill=\"none\" stroke=\"black\" cx=\"54\" cy=\"-234\" rx=\"27\" ry=\"18\"/>\n",
       "<text text-anchor=\"middle\" x=\"54\" y=\"-230.3\" font-family=\"Times,serif\" font-size=\"14.00\">3</text>\n",
       "</g>\n",
       "<!-- 3&#45;&gt;1 -->\n",
       "<g id=\"edge4\" class=\"edge\">\n",
       "<title>3-&gt;1</title>\n",
       "<path fill=\"none\" stroke=\"black\" d=\"M47.6,-216.41C44.49,-208.34 40.67,-198.43 37.16,-189.35\"/>\n",
       "<polygon fill=\"black\" stroke=\"black\" points=\"40.41,-188.03 33.54,-179.96 33.88,-190.55 40.41,-188.03\"/>\n",
       "</g>\n",
       "<!-- 3&#45;&gt;2 -->\n",
       "<g id=\"edge5\" class=\"edge\">\n",
       "<title>3-&gt;2</title>\n",
       "<path fill=\"none\" stroke=\"black\" d=\"M57.38,-215.87C62.17,-191.56 70.99,-146.82 76.67,-118.01\"/>\n",
       "<polygon fill=\"black\" stroke=\"black\" points=\"80.11,-118.68 78.61,-108.19 73.24,-117.32 80.11,-118.68\"/>\n",
       "</g>\n",
       "</g>\n",
       "</svg>"
      ],
      "text/plain": [
       "<IPython.core.display.SVG object>"
      ]
     },
     "metadata": {},
     "output_type": "display_data"
    }
   ],
   "source": [
    "G = np.array([\n",
    "    [0, 1, 1, 0],\n",
    "    [0, 0, 0, 1],\n",
    "    [0, 1, 0, 1],\n",
    "    [0, 0, 0, 0]]\n",
    ")\n",
    "\n",
    "graph.draw_matrix(G, show_weights=False)"
   ]
  },
  {
   "cell_type": "markdown",
   "metadata": {},
   "source": [
    "Five edges are in the order of $1 \\rightarrow 0$, $2 \\rightarrow 0$, $3 \\rightarrow 1$, $1 \\rightarrow 2$ and $3 \\rightarrow 2$. \n",
    "A corresponding edge-node incidence matrix is:"
   ]
  },
  {
   "cell_type": "code",
   "execution_count": 19,
   "metadata": {},
   "outputs": [
    {
     "data": {
      "image/svg+xml": [
       "<svg xmlns=\"http://www.w3.org/2000/svg\" xmlns:xlink=\"http://www.w3.org/1999/xlink\" width=\"117pt\" height=\"260pt\" viewBox=\"0.00 0.00 117.00 260.00\">\n",
       "<g id=\"graph0\" class=\"graph\" transform=\"scale(1 1) rotate(0) translate(4 256)\">\n",
       "<polygon fill=\"white\" stroke=\"transparent\" points=\"-4,4 -4,-256 113,-256 113,4 -4,4\"/>\n",
       "<!-- 1 -->\n",
       "<g id=\"node1\" class=\"node\">\n",
       "<title>1</title>\n",
       "<ellipse fill=\"none\" stroke=\"black\" cx=\"27\" cy=\"-162\" rx=\"27\" ry=\"18\"/>\n",
       "<text text-anchor=\"middle\" x=\"27\" y=\"-158.3\" font-family=\"Times,serif\" font-size=\"14.00\">1</text>\n",
       "</g>\n",
       "<!-- 0 -->\n",
       "<g id=\"node2\" class=\"node\">\n",
       "<title>0</title>\n",
       "<ellipse fill=\"none\" stroke=\"black\" cx=\"54\" cy=\"-18\" rx=\"27\" ry=\"18\"/>\n",
       "<text text-anchor=\"middle\" x=\"54\" y=\"-14.3\" font-family=\"Times,serif\" font-size=\"14.00\">0</text>\n",
       "</g>\n",
       "<!-- 1&#45;&gt;0 -->\n",
       "<g id=\"edge1\" class=\"edge\">\n",
       "<title>1-&gt;0</title>\n",
       "<path fill=\"none\" stroke=\"black\" d=\"M30.26,-143.87C34.86,-119.67 43.31,-75.21 48.79,-46.39\"/>\n",
       "<polygon fill=\"black\" stroke=\"black\" points=\"52.3,-46.67 50.73,-36.19 45.42,-45.36 52.3,-46.67\"/>\n",
       "</g>\n",
       "<!-- 2 -->\n",
       "<g id=\"node3\" class=\"node\">\n",
       "<title>2</title>\n",
       "<ellipse fill=\"none\" stroke=\"black\" cx=\"82\" cy=\"-90\" rx=\"27\" ry=\"18\"/>\n",
       "<text text-anchor=\"middle\" x=\"82\" y=\"-86.3\" font-family=\"Times,serif\" font-size=\"14.00\">2</text>\n",
       "</g>\n",
       "<!-- 1&#45;&gt;2 -->\n",
       "<g id=\"edge2\" class=\"edge\">\n",
       "<title>1-&gt;2</title>\n",
       "<path fill=\"none\" stroke=\"black\" d=\"M38.93,-145.81C46.21,-136.55 55.66,-124.52 63.85,-114.09\"/>\n",
       "<polygon fill=\"black\" stroke=\"black\" points=\"66.66,-116.18 70.09,-106.16 61.16,-111.86 66.66,-116.18\"/>\n",
       "</g>\n",
       "<!-- 2&#45;&gt;0 -->\n",
       "<g id=\"edge3\" class=\"edge\">\n",
       "<title>2-&gt;0</title>\n",
       "<path fill=\"none\" stroke=\"black\" d=\"M75.36,-72.41C72.09,-64.22 68.06,-54.14 64.38,-44.95\"/>\n",
       "<polygon fill=\"black\" stroke=\"black\" points=\"67.55,-43.45 60.59,-35.47 61.05,-46.05 67.55,-43.45\"/>\n",
       "</g>\n",
       "<!-- 3 -->\n",
       "<g id=\"node4\" class=\"node\">\n",
       "<title>3</title>\n",
       "<ellipse fill=\"none\" stroke=\"black\" cx=\"54\" cy=\"-234\" rx=\"27\" ry=\"18\"/>\n",
       "<text text-anchor=\"middle\" x=\"54\" y=\"-230.3\" font-family=\"Times,serif\" font-size=\"14.00\">3</text>\n",
       "</g>\n",
       "<!-- 3&#45;&gt;1 -->\n",
       "<g id=\"edge4\" class=\"edge\">\n",
       "<title>3-&gt;1</title>\n",
       "<path fill=\"none\" stroke=\"black\" d=\"M47.6,-216.41C44.49,-208.34 40.67,-198.43 37.16,-189.35\"/>\n",
       "<polygon fill=\"black\" stroke=\"black\" points=\"40.41,-188.03 33.54,-179.96 33.88,-190.55 40.41,-188.03\"/>\n",
       "</g>\n",
       "<!-- 3&#45;&gt;2 -->\n",
       "<g id=\"edge5\" class=\"edge\">\n",
       "<title>3-&gt;2</title>\n",
       "<path fill=\"none\" stroke=\"black\" d=\"M57.38,-215.87C62.17,-191.56 70.99,-146.82 76.67,-118.01\"/>\n",
       "<polygon fill=\"black\" stroke=\"black\" points=\"80.11,-118.68 78.61,-108.19 73.24,-117.32 80.11,-118.68\"/>\n",
       "</g>\n",
       "</g>\n",
       "</svg>"
      ],
      "text/plain": [
       "<IPython.core.display.SVG object>"
      ]
     },
     "metadata": {},
     "output_type": "display_data"
    }
   ],
   "source": [
    "M = np.array([\n",
    "    [1, -1,  0,  0],\n",
    "    [1,  0, -1,  0],\n",
    "    [0,  1,  0, -1],\n",
    "    [0, -1,  1,  0],\n",
    "    [0,  0,  1, -1]\n",
    "])\n",
    "graph.draw_matrix(M, show_weights=False)"
   ]
  },
  {
   "cell_type": "markdown",
   "metadata": {},
   "source": [
    "We can use the function below to get an edge-node incidence matrix corresponding to a given adjacency matrix:"
   ]
  },
  {
   "cell_type": "code",
   "execution_count": 20,
   "metadata": {},
   "outputs": [
    {
     "data": {
      "text/plain": [
       "array([[ 1, -1,  0,  0],\n",
       "       [ 1,  0, -1,  0],\n",
       "       [ 0,  1,  0, -1],\n",
       "       [ 0, -1,  1,  0],\n",
       "       [ 0,  0,  1, -1]])"
      ]
     },
     "execution_count": 20,
     "metadata": {},
     "output_type": "execute_result"
    }
   ],
   "source": [
    "def get_incidence_matrix(G):\n",
    "    # G: the adjacency matrix\n",
    "    n = len(G) # number of nodes\n",
    "    m = np.count_nonzero(G) # number of edges\n",
    "    M = np.zeros((m,n)).astype(int)\n",
    "    l = 0\n",
    "    for i in range(n):\n",
    "        for j in range(n):\n",
    "            if ((G[i,j] != 0) & (i!=j)):\n",
    "                M[l,i] = 1\n",
    "                M[l,j] = -1\n",
    "                l += 1\n",
    "    return M\n",
    "\n",
    "get_incidence_matrix(G)            "
   ]
  },
  {
   "cell_type": "markdown",
   "metadata": {},
   "source": [
    "### Disconnected Graphs and Connected Components:"
   ]
  },
  {
   "cell_type": "markdown",
   "metadata": {},
   "source": [
    "Here we have a graph with two \"groups\" of nodes that are connected to each other.  These are called *connected components*, and we say this graph has two connected components."
   ]
  },
  {
   "cell_type": "code",
   "execution_count": 21,
   "metadata": {},
   "outputs": [
    {
     "data": {
      "image/svg+xml": [
       "<svg xmlns=\"http://www.w3.org/2000/svg\" xmlns:xlink=\"http://www.w3.org/1999/xlink\" width=\"174pt\" height=\"188pt\" viewBox=\"0.00 0.00 174.00 188.00\">\n",
       "<g id=\"graph0\" class=\"graph\" transform=\"scale(1 1) rotate(0) translate(4 184)\">\n",
       "<polygon fill=\"white\" stroke=\"transparent\" points=\"-4,4 -4,-184 170,-184 170,4 -4,4\"/>\n",
       "<!-- 0 -->\n",
       "<g id=\"node1\" class=\"node\">\n",
       "<title>0</title>\n",
       "<ellipse fill=\"none\" stroke=\"black\" cx=\"27\" cy=\"-162\" rx=\"27\" ry=\"18\"/>\n",
       "<text text-anchor=\"middle\" x=\"27\" y=\"-158.3\" font-family=\"Times,serif\" font-size=\"14.00\">0</text>\n",
       "</g>\n",
       "<!-- 1 -->\n",
       "<g id=\"node2\" class=\"node\">\n",
       "<title>1</title>\n",
       "<ellipse fill=\"none\" stroke=\"black\" cx=\"27\" cy=\"-90\" rx=\"27\" ry=\"18\"/>\n",
       "<text text-anchor=\"middle\" x=\"27\" y=\"-86.3\" font-family=\"Times,serif\" font-size=\"14.00\">1</text>\n",
       "</g>\n",
       "<!-- 0&#45;&#45;1 -->\n",
       "<g id=\"edge1\" class=\"edge\">\n",
       "<title>0--1</title>\n",
       "<path fill=\"none\" stroke=\"black\" d=\"M27,-143.7C27,-132.85 27,-118.92 27,-108.1\"/>\n",
       "</g>\n",
       "<!-- 2 -->\n",
       "<g id=\"node3\" class=\"node\">\n",
       "<title>2</title>\n",
       "<ellipse fill=\"none\" stroke=\"black\" cx=\"126\" cy=\"-162\" rx=\"27\" ry=\"18\"/>\n",
       "<text text-anchor=\"middle\" x=\"126\" y=\"-158.3\" font-family=\"Times,serif\" font-size=\"14.00\">2</text>\n",
       "</g>\n",
       "<!-- 3 -->\n",
       "<g id=\"node4\" class=\"node\">\n",
       "<title>3</title>\n",
       "<ellipse fill=\"none\" stroke=\"black\" cx=\"112\" cy=\"-90\" rx=\"27\" ry=\"18\"/>\n",
       "<text text-anchor=\"middle\" x=\"112\" y=\"-86.3\" font-family=\"Times,serif\" font-size=\"14.00\">3</text>\n",
       "</g>\n",
       "<!-- 2&#45;&#45;3 -->\n",
       "<g id=\"edge2\" class=\"edge\">\n",
       "<title>2--3</title>\n",
       "<path fill=\"none\" stroke=\"black\" d=\"M122.61,-144.05C120.44,-133.21 117.64,-119.18 115.46,-108.28\"/>\n",
       "</g>\n",
       "<!-- 4 -->\n",
       "<g id=\"node5\" class=\"node\">\n",
       "<title>4</title>\n",
       "<ellipse fill=\"none\" stroke=\"black\" cx=\"139\" cy=\"-18\" rx=\"27\" ry=\"18\"/>\n",
       "<text text-anchor=\"middle\" x=\"139\" y=\"-14.3\" font-family=\"Times,serif\" font-size=\"14.00\">4</text>\n",
       "</g>\n",
       "<!-- 2&#45;&#45;4 -->\n",
       "<g id=\"edge3\" class=\"edge\">\n",
       "<title>2--4</title>\n",
       "<path fill=\"none\" stroke=\"black\" d=\"M134.68,-144.82C139.66,-134.59 145.43,-120.9 148,-108 152.95,-83.17 147.95,-53.88 143.66,-35.87\"/>\n",
       "</g>\n",
       "<!-- 3&#45;&#45;4 -->\n",
       "<g id=\"edge4\" class=\"edge\">\n",
       "<title>3--4</title>\n",
       "<path fill=\"none\" stroke=\"black\" d=\"M118.4,-72.41C122.64,-61.41 128.19,-47.03 132.46,-35.96\"/>\n",
       "</g>\n",
       "</g>\n",
       "</svg>"
      ],
      "text/plain": [
       "<IPython.core.display.SVG object>"
      ]
     },
     "metadata": {},
     "output_type": "display_data"
    }
   ],
   "source": [
    "G2 = np.array([\n",
    "    [0, 1, 0, 0, 0],\n",
    "    [1, 0, 0, 0, 0],\n",
    "    [0, 0, 0, 1, 1],\n",
    "    [0, 0, 1, 0, 1],\n",
    "    [0, 0, 1, 1, 0]\n",
    "])\n",
    "\n",
    "graph.draw_matrix(G2, show_weights=False)"
   ]
  },
  {
   "cell_type": "markdown",
   "metadata": {},
   "source": [
    "<div class=\"alert alert-warning\">\n",
    "The number of connected components of the the graph $G$ is given by the $\\textrm{dim Nul}(M)$, where $M$ is the corresponding edge-node incidence matrix.\n",
    "</div>"
   ]
  },
  {
   "cell_type": "code",
   "execution_count": 22,
   "metadata": {},
   "outputs": [
    {
     "data": {
      "text/plain": [
       "array([[ 1, -1,  0,  0,  0],\n",
       "       [-1,  1,  0,  0,  0],\n",
       "       [ 0,  0,  1, -1,  0],\n",
       "       [ 0,  0,  1,  0, -1],\n",
       "       [ 0,  0, -1,  1,  0],\n",
       "       [ 0,  0,  0,  1, -1],\n",
       "       [ 0,  0, -1,  0,  1],\n",
       "       [ 0,  0,  0, -1,  1]])"
      ]
     },
     "execution_count": 22,
     "metadata": {},
     "output_type": "execute_result"
    }
   ],
   "source": [
    "M2 = get_incidence_matrix(G2)\n",
    "M2"
   ]
  },
  {
   "cell_type": "markdown",
   "metadata": {},
   "source": [
    "**Think about this:** Why does the incidence matrix have 8 rows?\n",
    "\n",
    "We will use the SymPy library for symbolic mathematics to obtain the nullspace. We construct the function `nullspace` which takes the 2d NumPy array `A` and returns a 2d numpy array representing the nullspace of the matrix captured by `A`."
   ]
  },
  {
   "cell_type": "code",
   "execution_count": 23,
   "metadata": {},
   "outputs": [],
   "source": [
    "import sympy as sp"
   ]
  },
  {
   "cell_type": "code",
   "execution_count": 24,
   "metadata": {},
   "outputs": [],
   "source": [
    "def nullspace(A):\n",
    "    MatrixA = sp.Matrix(A) \n",
    "    MatrixN = MatrixA.nullspace()\n",
    "    Null_A = np.array(np.array(MatrixN, np.single)).T  \n",
    "    return Null_A[0]"
   ]
  },
  {
   "cell_type": "code",
   "execution_count": 25,
   "metadata": {},
   "outputs": [
    {
     "data": {
      "text/plain": [
       "array([[1., 0.],\n",
       "       [1., 0.],\n",
       "       [0., 1.],\n",
       "       [0., 1.],\n",
       "       [0., 1.]], dtype=float32)"
      ]
     },
     "execution_count": 25,
     "metadata": {},
     "output_type": "execute_result"
    }
   ],
   "source": [
    "null_M2 = nullspace(M2)\n",
    "null_M2"
   ]
  },
  {
   "cell_type": "markdown",
   "metadata": {},
   "source": [
    "Each column of the nullspace of the matrix represents a basis element for the nullspace of the incidence matrix. As you can see, the dimension (number of columns) of the nullspace above is 2, which gives the number of connected components."
   ]
  },
  {
   "cell_type": "markdown",
   "metadata": {},
   "source": [
    "**Think about this:** How do the entries contained in each column above relate to the connected components of the original graph? \n",
    "*Hint:* For a given basis vector of the nullspace, look at the indices containing a 1.\n",
    "\n",
    "Using this knowledge, answer the following question:\n",
    "Suppose that the nullspace of the incidence matrix of a graph is given by the following matrix:\n",
    "\n",
    "$\\begin{pmatrix} 1&0&0\\\\0&1&0\\\\0&0&1\\\\1&0&0\\\\0&0&1 \\end{pmatrix}$\n",
    "\n",
    "What is the index of the node which is in a connected component all by itself?\n",
    "In the following cell, store your answer as `lonely_index`."
   ]
  },
  {
   "cell_type": "code",
   "execution_count": 26,
   "metadata": {},
   "outputs": [],
   "source": [
    "#grade (enter your code in this cell - DO NOT DELETE THIS LINE) \n",
    "\n",
    "lonely_index = 1"
   ]
  },
  {
   "cell_type": "code",
   "execution_count": 1,
   "metadata": {},
   "outputs": [
    {
     "ename": "NameError",
     "evalue": "name 'null_M2' is not defined",
     "output_type": "error",
     "traceback": [
      "\u001b[0;31m---------------------------------------------------------------------------\u001b[0m",
      "\u001b[0;31mNameError\u001b[0m                                 Traceback (most recent call last)",
      "\u001b[0;32m<ipython-input-1-a4bf5ef7984a>\u001b[0m in \u001b[0;36m<module>\u001b[0;34m\u001b[0m\n\u001b[0;32m----> 1\u001b[0;31m \u001b[0mnull_M2\u001b[0m\u001b[0;34m.\u001b[0m\u001b[0mshape\u001b[0m\u001b[0;34m[\u001b[0m\u001b[0;36m1\u001b[0m\u001b[0;34m]\u001b[0m\u001b[0;34m\u001b[0m\u001b[0;34m\u001b[0m\u001b[0m\n\u001b[0m",
      "\u001b[0;31mNameError\u001b[0m: name 'null_M2' is not defined"
     ]
    }
   ],
   "source": [
    "null_M2.shape[1]"
   ]
  },
  {
   "cell_type": "markdown",
   "metadata": {},
   "source": [
    "The number of nodes in each connected component is given by the count of 1 entries in each nullspace column. We can compute the columnwise sum of a nullspace matrix as follows:"
   ]
  },
  {
   "cell_type": "code",
   "execution_count": 28,
   "metadata": {},
   "outputs": [
    {
     "data": {
      "text/plain": [
       "array([2., 3.], dtype=float32)"
      ]
     },
     "execution_count": 28,
     "metadata": {},
     "output_type": "execute_result"
    }
   ],
   "source": [
    "null_M2.sum(axis=0)"
   ]
  },
  {
   "cell_type": "markdown",
   "metadata": {},
   "source": [
    "The first connected component comprises 2 nodes while the second connected component comprises 3 nodes."
   ]
  },
  {
   "cell_type": "markdown",
   "metadata": {},
   "source": [
    "# Social Network Analysis"
   ]
  },
  {
   "cell_type": "markdown",
   "metadata": {},
   "source": [
    "One interesting application of graphs is exploring how people are friends with each other on social media, a process called [*social network analysis*](https://en.wikipedia.org/wiki/Social_network_analysis).  By modeling people as nodes and connecting them with edges if they are friends, we can model several properties of the network."
   ]
  },
  {
   "cell_type": "markdown",
   "metadata": {},
   "source": [
    "<img src=\"social_network.png\" width=\"500px\">\n",
    "<br><center><small>(http://www.kakadu-works.com/myfnetwork/welcome.html)</small></center>"
   ]
  },
  {
   "cell_type": "markdown",
   "metadata": {},
   "source": [
    "Let's imagine we have a random subset of $50$ people, some of whom are friends with each other, and we would like to determine groups of friends within the social network. The function below will create your matrix representing the social network as an adjacency matrix."
   ]
  },
  {
   "cell_type": "code",
   "execution_count": 29,
   "metadata": {},
   "outputs": [],
   "source": [
    "n = 50\n",
    "friends = graph.gen_random_friends(n)\n",
    "#print(friends)"
   ]
  },
  {
   "cell_type": "markdown",
   "metadata": {},
   "source": [
    "We can visualize the social network in a graph format:"
   ]
  },
  {
   "cell_type": "code",
   "execution_count": 30,
   "metadata": {},
   "outputs": [
    {
     "data": {
      "image/svg+xml": [
       "<svg xmlns=\"http://www.w3.org/2000/svg\" xmlns:xlink=\"http://www.w3.org/1999/xlink\" width=\"1620pt\" height=\"476pt\" viewBox=\"0.00 0.00 1620.00 476.00\">\n",
       "<g id=\"graph0\" class=\"graph\" transform=\"scale(1 1) rotate(0) translate(4 472)\">\n",
       "<polygon fill=\"white\" stroke=\"transparent\" points=\"-4,4 -4,-472 1616,-472 1616,4 -4,4\"/>\n",
       "<!-- 0 -->\n",
       "<g id=\"node1\" class=\"node\">\n",
       "<title>0</title>\n",
       "<ellipse fill=\"none\" stroke=\"black\" cx=\"99\" cy=\"-234\" rx=\"27\" ry=\"18\"/>\n",
       "<text text-anchor=\"middle\" x=\"99\" y=\"-230.3\" font-family=\"Times,serif\" font-size=\"14.00\">0</text>\n",
       "</g>\n",
       "<!-- 28 -->\n",
       "<g id=\"node2\" class=\"node\">\n",
       "<title>28</title>\n",
       "<ellipse fill=\"none\" stroke=\"black\" cx=\"27\" cy=\"-162\" rx=\"27\" ry=\"18\"/>\n",
       "<text text-anchor=\"middle\" x=\"27\" y=\"-158.3\" font-family=\"Times,serif\" font-size=\"14.00\">28</text>\n",
       "</g>\n",
       "<!-- 0&#45;&#45;28 -->\n",
       "<g id=\"edge1\" class=\"edge\">\n",
       "<title>0--28</title>\n",
       "<path fill=\"none\" stroke=\"black\" d=\"M84.43,-218.83C72.02,-206.77 54.27,-189.51 41.8,-177.38\"/>\n",
       "</g>\n",
       "<!-- 33 -->\n",
       "<g id=\"node3\" class=\"node\">\n",
       "<title>33</title>\n",
       "<ellipse fill=\"none\" stroke=\"black\" cx=\"99\" cy=\"-162\" rx=\"27\" ry=\"18\"/>\n",
       "<text text-anchor=\"middle\" x=\"99\" y=\"-158.3\" font-family=\"Times,serif\" font-size=\"14.00\">33</text>\n",
       "</g>\n",
       "<!-- 0&#45;&#45;33 -->\n",
       "<g id=\"edge2\" class=\"edge\">\n",
       "<title>0--33</title>\n",
       "<path fill=\"none\" stroke=\"black\" d=\"M99,-215.7C99,-204.85 99,-190.92 99,-180.1\"/>\n",
       "</g>\n",
       "<!-- 34 -->\n",
       "<g id=\"node4\" class=\"node\">\n",
       "<title>34</title>\n",
       "<ellipse fill=\"none\" stroke=\"black\" cx=\"315\" cy=\"-162\" rx=\"27\" ry=\"18\"/>\n",
       "<text text-anchor=\"middle\" x=\"315\" y=\"-158.3\" font-family=\"Times,serif\" font-size=\"14.00\">34</text>\n",
       "</g>\n",
       "<!-- 0&#45;&#45;34 -->\n",
       "<g id=\"edge3\" class=\"edge\">\n",
       "<title>0--34</title>\n",
       "<path fill=\"none\" stroke=\"black\" d=\"M120.03,-222.23C124.87,-219.98 130.05,-217.77 135,-216 197.13,-193.81 216.87,-202.19 279,-180 283.95,-178.23 289.13,-176.02 293.97,-173.77\"/>\n",
       "</g>\n",
       "<!-- 43 -->\n",
       "<g id=\"node5\" class=\"node\">\n",
       "<title>43</title>\n",
       "<ellipse fill=\"none\" stroke=\"black\" cx=\"243\" cy=\"-90\" rx=\"27\" ry=\"18\"/>\n",
       "<text text-anchor=\"middle\" x=\"243\" y=\"-86.3\" font-family=\"Times,serif\" font-size=\"14.00\">43</text>\n",
       "</g>\n",
       "<!-- 34&#45;&#45;43 -->\n",
       "<g id=\"edge4\" class=\"edge\">\n",
       "<title>34--43</title>\n",
       "<path fill=\"none\" stroke=\"black\" d=\"M300.43,-146.83C288.02,-134.77 270.27,-117.51 257.8,-105.38\"/>\n",
       "</g>\n",
       "<!-- 38 -->\n",
       "<g id=\"node6\" class=\"node\">\n",
       "<title>38</title>\n",
       "<ellipse fill=\"none\" stroke=\"black\" cx=\"315\" cy=\"-90\" rx=\"27\" ry=\"18\"/>\n",
       "<text text-anchor=\"middle\" x=\"315\" y=\"-86.3\" font-family=\"Times,serif\" font-size=\"14.00\">38</text>\n",
       "</g>\n",
       "<!-- 34&#45;&#45;38 -->\n",
       "<g id=\"edge5\" class=\"edge\">\n",
       "<title>34--38</title>\n",
       "<path fill=\"none\" stroke=\"black\" d=\"M315,-143.7C315,-132.85 315,-118.92 315,-108.1\"/>\n",
       "</g>\n",
       "<!-- 46 -->\n",
       "<g id=\"node7\" class=\"node\">\n",
       "<title>46</title>\n",
       "<ellipse fill=\"none\" stroke=\"black\" cx=\"315\" cy=\"-18\" rx=\"27\" ry=\"18\"/>\n",
       "<text text-anchor=\"middle\" x=\"315\" y=\"-14.3\" font-family=\"Times,serif\" font-size=\"14.00\">46</text>\n",
       "</g>\n",
       "<!-- 38&#45;&#45;46 -->\n",
       "<g id=\"edge6\" class=\"edge\">\n",
       "<title>38--46</title>\n",
       "<path fill=\"none\" stroke=\"black\" d=\"M315,-71.7C315,-60.85 315,-46.92 315,-36.1\"/>\n",
       "</g>\n",
       "<!-- 1 -->\n",
       "<g id=\"node8\" class=\"node\">\n",
       "<title>1</title>\n",
       "<ellipse fill=\"none\" stroke=\"black\" cx=\"558\" cy=\"-450\" rx=\"27\" ry=\"18\"/>\n",
       "<text text-anchor=\"middle\" x=\"558\" y=\"-446.3\" font-family=\"Times,serif\" font-size=\"14.00\">1</text>\n",
       "</g>\n",
       "<!-- 10 -->\n",
       "<g id=\"node9\" class=\"node\">\n",
       "<title>10</title>\n",
       "<ellipse fill=\"none\" stroke=\"black\" cx=\"531\" cy=\"-378\" rx=\"27\" ry=\"18\"/>\n",
       "<text text-anchor=\"middle\" x=\"531\" y=\"-374.3\" font-family=\"Times,serif\" font-size=\"14.00\">10</text>\n",
       "</g>\n",
       "<!-- 1&#45;&#45;10 -->\n",
       "<g id=\"edge7\" class=\"edge\">\n",
       "<title>1--10</title>\n",
       "<path fill=\"none\" stroke=\"black\" d=\"M551.6,-432.41C547.36,-421.41 541.81,-407.03 537.54,-395.96\"/>\n",
       "</g>\n",
       "<!-- 20 -->\n",
       "<g id=\"node10\" class=\"node\">\n",
       "<title>20</title>\n",
       "<ellipse fill=\"none\" stroke=\"black\" cx=\"586\" cy=\"-306\" rx=\"27\" ry=\"18\"/>\n",
       "<text text-anchor=\"middle\" x=\"586\" y=\"-302.3\" font-family=\"Times,serif\" font-size=\"14.00\">20</text>\n",
       "</g>\n",
       "<!-- 1&#45;&#45;20 -->\n",
       "<g id=\"edge8\" class=\"edge\">\n",
       "<title>1--20</title>\n",
       "<path fill=\"none\" stroke=\"black\" d=\"M561.38,-431.87C566.76,-404.58 577.22,-351.52 582.61,-324.19\"/>\n",
       "</g>\n",
       "<!-- 10&#45;&#45;20 -->\n",
       "<g id=\"edge9\" class=\"edge\">\n",
       "<title>10--20</title>\n",
       "<path fill=\"none\" stroke=\"black\" d=\"M542.93,-361.81C552.16,-350.07 564.87,-333.89 574.09,-322.16\"/>\n",
       "</g>\n",
       "<!-- 14 -->\n",
       "<g id=\"node11\" class=\"node\">\n",
       "<title>14</title>\n",
       "<ellipse fill=\"none\" stroke=\"black\" cx=\"514\" cy=\"-306\" rx=\"27\" ry=\"18\"/>\n",
       "<text text-anchor=\"middle\" x=\"514\" y=\"-302.3\" font-family=\"Times,serif\" font-size=\"14.00\">14</text>\n",
       "</g>\n",
       "<!-- 10&#45;&#45;14 -->\n",
       "<g id=\"edge10\" class=\"edge\">\n",
       "<title>10--14</title>\n",
       "<path fill=\"none\" stroke=\"black\" d=\"M526.88,-360.05C524.25,-349.21 520.84,-335.18 518.2,-324.28\"/>\n",
       "</g>\n",
       "<!-- 49 -->\n",
       "<g id=\"node12\" class=\"node\">\n",
       "<title>49</title>\n",
       "<ellipse fill=\"none\" stroke=\"black\" cx=\"514\" cy=\"-90\" rx=\"27\" ry=\"18\"/>\n",
       "<text text-anchor=\"middle\" x=\"514\" y=\"-86.3\" font-family=\"Times,serif\" font-size=\"14.00\">49</text>\n",
       "</g>\n",
       "<!-- 14&#45;&#45;49 -->\n",
       "<g id=\"edge11\" class=\"edge\">\n",
       "<title>14--49</title>\n",
       "<path fill=\"none\" stroke=\"black\" d=\"M514,-287.85C514,-247.78 514,-148.38 514,-108.23\"/>\n",
       "</g>\n",
       "<!-- 22 -->\n",
       "<g id=\"node13\" class=\"node\">\n",
       "<title>22</title>\n",
       "<ellipse fill=\"none\" stroke=\"black\" cx=\"569\" cy=\"-234\" rx=\"27\" ry=\"18\"/>\n",
       "<text text-anchor=\"middle\" x=\"569\" y=\"-230.3\" font-family=\"Times,serif\" font-size=\"14.00\">22</text>\n",
       "</g>\n",
       "<!-- 14&#45;&#45;22 -->\n",
       "<g id=\"edge12\" class=\"edge\">\n",
       "<title>14--22</title>\n",
       "<path fill=\"none\" stroke=\"black\" d=\"M525.93,-289.81C535.16,-278.07 547.87,-261.89 557.09,-250.16\"/>\n",
       "</g>\n",
       "<!-- 24 -->\n",
       "<g id=\"node14\" class=\"node\">\n",
       "<title>24</title>\n",
       "<ellipse fill=\"none\" stroke=\"black\" cx=\"343\" cy=\"-234\" rx=\"27\" ry=\"18\"/>\n",
       "<text text-anchor=\"middle\" x=\"343\" y=\"-230.3\" font-family=\"Times,serif\" font-size=\"14.00\">24</text>\n",
       "</g>\n",
       "<!-- 14&#45;&#45;24 -->\n",
       "<g id=\"edge13\" class=\"edge\">\n",
       "<title>14--24</title>\n",
       "<path fill=\"none\" stroke=\"black\" d=\"M490.88,-296.46C463.84,-286.35 417.83,-268.77 379,-252 374.18,-249.92 369.05,-247.57 364.21,-245.31\"/>\n",
       "</g>\n",
       "<!-- 48 -->\n",
       "<g id=\"node27\" class=\"node\">\n",
       "<title>48</title>\n",
       "<ellipse fill=\"none\" stroke=\"black\" cx=\"569\" cy=\"-162\" rx=\"27\" ry=\"18\"/>\n",
       "<text text-anchor=\"middle\" x=\"569\" y=\"-158.3\" font-family=\"Times,serif\" font-size=\"14.00\">48</text>\n",
       "</g>\n",
       "<!-- 22&#45;&#45;48 -->\n",
       "<g id=\"edge22\" class=\"edge\">\n",
       "<title>22--48</title>\n",
       "<path fill=\"none\" stroke=\"black\" d=\"M569,-215.7C569,-204.85 569,-190.92 569,-180.1\"/>\n",
       "</g>\n",
       "<!-- 24&#45;&#45;34 -->\n",
       "<g id=\"edge23\" class=\"edge\">\n",
       "<title>24--34</title>\n",
       "<path fill=\"none\" stroke=\"black\" d=\"M336.36,-216.41C331.9,-205.25 326.04,-190.6 321.59,-179.47\"/>\n",
       "</g>\n",
       "<!-- 35 -->\n",
       "<g id=\"node28\" class=\"node\">\n",
       "<title>35</title>\n",
       "<ellipse fill=\"none\" stroke=\"black\" cx=\"387\" cy=\"-162\" rx=\"27\" ry=\"18\"/>\n",
       "<text text-anchor=\"middle\" x=\"387\" y=\"-158.3\" font-family=\"Times,serif\" font-size=\"14.00\">35</text>\n",
       "</g>\n",
       "<!-- 24&#45;&#45;35 -->\n",
       "<g id=\"edge24\" class=\"edge\">\n",
       "<title>24--35</title>\n",
       "<path fill=\"none\" stroke=\"black\" d=\"M352.98,-217.12C360.19,-205.66 369.86,-190.26 377.06,-178.82\"/>\n",
       "</g>\n",
       "<!-- 2 -->\n",
       "<g id=\"node15\" class=\"node\">\n",
       "<title>2</title>\n",
       "<ellipse fill=\"none\" stroke=\"black\" cx=\"243\" cy=\"-162\" rx=\"27\" ry=\"18\"/>\n",
       "<text text-anchor=\"middle\" x=\"243\" y=\"-158.3\" font-family=\"Times,serif\" font-size=\"14.00\">2</text>\n",
       "</g>\n",
       "<!-- 2&#45;&#45;43 -->\n",
       "<g id=\"edge14\" class=\"edge\">\n",
       "<title>2--43</title>\n",
       "<path fill=\"none\" stroke=\"black\" d=\"M243,-143.7C243,-132.85 243,-118.92 243,-108.1\"/>\n",
       "</g>\n",
       "<!-- 3 -->\n",
       "<g id=\"node16\" class=\"node\">\n",
       "<title>3</title>\n",
       "<ellipse fill=\"none\" stroke=\"black\" cx=\"793\" cy=\"-450\" rx=\"27\" ry=\"18\"/>\n",
       "<text text-anchor=\"middle\" x=\"793\" y=\"-446.3\" font-family=\"Times,serif\" font-size=\"14.00\">3</text>\n",
       "</g>\n",
       "<!-- 4 -->\n",
       "<g id=\"node17\" class=\"node\">\n",
       "<title>4</title>\n",
       "<ellipse fill=\"none\" stroke=\"black\" cx=\"459\" cy=\"-162\" rx=\"27\" ry=\"18\"/>\n",
       "<text text-anchor=\"middle\" x=\"459\" y=\"-158.3\" font-family=\"Times,serif\" font-size=\"14.00\">4</text>\n",
       "</g>\n",
       "<!-- 4&#45;&#45;49 -->\n",
       "<g id=\"edge15\" class=\"edge\">\n",
       "<title>4--49</title>\n",
       "<path fill=\"none\" stroke=\"black\" d=\"M470.93,-145.81C480.16,-134.07 492.87,-117.89 502.09,-106.16\"/>\n",
       "</g>\n",
       "<!-- 5 -->\n",
       "<g id=\"node18\" class=\"node\">\n",
       "<title>5</title>\n",
       "<ellipse fill=\"none\" stroke=\"black\" cx=\"865\" cy=\"-450\" rx=\"27\" ry=\"18\"/>\n",
       "<text text-anchor=\"middle\" x=\"865\" y=\"-446.3\" font-family=\"Times,serif\" font-size=\"14.00\">5</text>\n",
       "</g>\n",
       "<!-- 6 -->\n",
       "<g id=\"node19\" class=\"node\">\n",
       "<title>6</title>\n",
       "<ellipse fill=\"none\" stroke=\"black\" cx=\"1009\" cy=\"-450\" rx=\"27\" ry=\"18\"/>\n",
       "<text text-anchor=\"middle\" x=\"1009\" y=\"-446.3\" font-family=\"Times,serif\" font-size=\"14.00\">6</text>\n",
       "</g>\n",
       "<!-- 21 -->\n",
       "<g id=\"node20\" class=\"node\">\n",
       "<title>21</title>\n",
       "<ellipse fill=\"none\" stroke=\"black\" cx=\"973\" cy=\"-378\" rx=\"27\" ry=\"18\"/>\n",
       "<text text-anchor=\"middle\" x=\"973\" y=\"-374.3\" font-family=\"Times,serif\" font-size=\"14.00\">21</text>\n",
       "</g>\n",
       "<!-- 6&#45;&#45;21 -->\n",
       "<g id=\"edge16\" class=\"edge\">\n",
       "<title>6--21</title>\n",
       "<path fill=\"none\" stroke=\"black\" d=\"M1000.7,-432.76C994.83,-421.46 987.11,-406.44 981.3,-395.15\"/>\n",
       "</g>\n",
       "<!-- 23 -->\n",
       "<g id=\"node21\" class=\"node\">\n",
       "<title>23</title>\n",
       "<ellipse fill=\"none\" stroke=\"black\" cx=\"1045\" cy=\"-378\" rx=\"27\" ry=\"18\"/>\n",
       "<text text-anchor=\"middle\" x=\"1045\" y=\"-374.3\" font-family=\"Times,serif\" font-size=\"14.00\">23</text>\n",
       "</g>\n",
       "<!-- 6&#45;&#45;23 -->\n",
       "<g id=\"edge17\" class=\"edge\">\n",
       "<title>6--23</title>\n",
       "<path fill=\"none\" stroke=\"black\" d=\"M1017.3,-432.76C1023.2,-421.46 1030.9,-406.44 1036.7,-395.15\"/>\n",
       "</g>\n",
       "<!-- 42 -->\n",
       "<g id=\"node22\" class=\"node\">\n",
       "<title>42</title>\n",
       "<ellipse fill=\"none\" stroke=\"black\" cx=\"1045\" cy=\"-306\" rx=\"27\" ry=\"18\"/>\n",
       "<text text-anchor=\"middle\" x=\"1045\" y=\"-302.3\" font-family=\"Times,serif\" font-size=\"14.00\">42</text>\n",
       "</g>\n",
       "<!-- 23&#45;&#45;42 -->\n",
       "<g id=\"edge18\" class=\"edge\">\n",
       "<title>23--42</title>\n",
       "<path fill=\"none\" stroke=\"black\" d=\"M1045,-359.7C1045,-348.85 1045,-334.92 1045,-324.1\"/>\n",
       "</g>\n",
       "<!-- 7 -->\n",
       "<g id=\"node23\" class=\"node\">\n",
       "<title>7</title>\n",
       "<ellipse fill=\"none\" stroke=\"black\" cx=\"1081\" cy=\"-450\" rx=\"27\" ry=\"18\"/>\n",
       "<text text-anchor=\"middle\" x=\"1081\" y=\"-446.3\" font-family=\"Times,serif\" font-size=\"14.00\">7</text>\n",
       "</g>\n",
       "<!-- 7&#45;&#45;21 -->\n",
       "<g id=\"edge19\" class=\"edge\">\n",
       "<title>7--21</title>\n",
       "<path fill=\"none\" stroke=\"black\" d=\"M1062.2,-436.81C1042.4,-423.96 1011.3,-403.85 991.6,-391.05\"/>\n",
       "</g>\n",
       "<!-- 7&#45;&#45;23 -->\n",
       "<g id=\"edge20\" class=\"edge\">\n",
       "<title>7--23</title>\n",
       "<path fill=\"none\" stroke=\"black\" d=\"M1072.7,-432.76C1066.8,-421.46 1059.1,-406.44 1053.3,-395.15\"/>\n",
       "</g>\n",
       "<!-- 12 -->\n",
       "<g id=\"node24\" class=\"node\">\n",
       "<title>12</title>\n",
       "<ellipse fill=\"none\" stroke=\"black\" cx=\"1117\" cy=\"-378\" rx=\"27\" ry=\"18\"/>\n",
       "<text text-anchor=\"middle\" x=\"1117\" y=\"-374.3\" font-family=\"Times,serif\" font-size=\"14.00\">12</text>\n",
       "</g>\n",
       "<!-- 7&#45;&#45;12 -->\n",
       "<g id=\"edge21\" class=\"edge\">\n",
       "<title>7--12</title>\n",
       "<path fill=\"none\" stroke=\"black\" d=\"M1089.3,-432.76C1095.2,-421.46 1102.9,-406.44 1108.7,-395.15\"/>\n",
       "</g>\n",
       "<!-- 8 -->\n",
       "<g id=\"node25\" class=\"node\">\n",
       "<title>8</title>\n",
       "<ellipse fill=\"none\" stroke=\"black\" cx=\"1153\" cy=\"-450\" rx=\"27\" ry=\"18\"/>\n",
       "<text text-anchor=\"middle\" x=\"1153\" y=\"-446.3\" font-family=\"Times,serif\" font-size=\"14.00\">8</text>\n",
       "</g>\n",
       "<!-- 9 -->\n",
       "<g id=\"node26\" class=\"node\">\n",
       "<title>9</title>\n",
       "<ellipse fill=\"none\" stroke=\"black\" cx=\"1225\" cy=\"-450\" rx=\"27\" ry=\"18\"/>\n",
       "<text text-anchor=\"middle\" x=\"1225\" y=\"-446.3\" font-family=\"Times,serif\" font-size=\"14.00\">9</text>\n",
       "</g>\n",
       "<!-- 48&#45;&#45;49 -->\n",
       "<g id=\"edge27\" class=\"edge\">\n",
       "<title>48--49</title>\n",
       "<path fill=\"none\" stroke=\"black\" d=\"M557.07,-145.81C547.84,-134.07 535.13,-117.89 525.91,-106.16\"/>\n",
       "</g>\n",
       "<!-- 11 -->\n",
       "<g id=\"node29\" class=\"node\">\n",
       "<title>11</title>\n",
       "<ellipse fill=\"none\" stroke=\"black\" cx=\"937\" cy=\"-450\" rx=\"27\" ry=\"18\"/>\n",
       "<text text-anchor=\"middle\" x=\"937\" y=\"-446.3\" font-family=\"Times,serif\" font-size=\"14.00\">11</text>\n",
       "</g>\n",
       "<!-- 11&#45;&#45;21 -->\n",
       "<g id=\"edge25\" class=\"edge\">\n",
       "<title>11--21</title>\n",
       "<path fill=\"none\" stroke=\"black\" d=\"M945.35,-432.76C951.17,-421.46 958.89,-406.44 964.7,-395.15\"/>\n",
       "</g>\n",
       "<!-- 13 -->\n",
       "<g id=\"node30\" class=\"node\">\n",
       "<title>13</title>\n",
       "<ellipse fill=\"none\" stroke=\"black\" cx=\"1297\" cy=\"-450\" rx=\"27\" ry=\"18\"/>\n",
       "<text text-anchor=\"middle\" x=\"1297\" y=\"-446.3\" font-family=\"Times,serif\" font-size=\"14.00\">13</text>\n",
       "</g>\n",
       "<!-- 37 -->\n",
       "<g id=\"node31\" class=\"node\">\n",
       "<title>37</title>\n",
       "<ellipse fill=\"none\" stroke=\"black\" cx=\"1297\" cy=\"-378\" rx=\"27\" ry=\"18\"/>\n",
       "<text text-anchor=\"middle\" x=\"1297\" y=\"-374.3\" font-family=\"Times,serif\" font-size=\"14.00\">37</text>\n",
       "</g>\n",
       "<!-- 13&#45;&#45;37 -->\n",
       "<g id=\"edge26\" class=\"edge\">\n",
       "<title>13--37</title>\n",
       "<path fill=\"none\" stroke=\"black\" d=\"M1297,-431.7C1297,-420.85 1297,-406.92 1297,-396.1\"/>\n",
       "</g>\n",
       "<!-- 15 -->\n",
       "<g id=\"node32\" class=\"node\">\n",
       "<title>15</title>\n",
       "<ellipse fill=\"none\" stroke=\"black\" cx=\"171\" cy=\"-234\" rx=\"27\" ry=\"18\"/>\n",
       "<text text-anchor=\"middle\" x=\"171\" y=\"-230.3\" font-family=\"Times,serif\" font-size=\"14.00\">15</text>\n",
       "</g>\n",
       "<!-- 15&#45;&#45;33 -->\n",
       "<g id=\"edge28\" class=\"edge\">\n",
       "<title>15--33</title>\n",
       "<path fill=\"none\" stroke=\"black\" d=\"M156.43,-218.83C144.02,-206.77 126.27,-189.51 113.8,-177.38\"/>\n",
       "</g>\n",
       "<!-- 45 -->\n",
       "<g id=\"node33\" class=\"node\">\n",
       "<title>45</title>\n",
       "<ellipse fill=\"none\" stroke=\"black\" cx=\"171\" cy=\"-162\" rx=\"27\" ry=\"18\"/>\n",
       "<text text-anchor=\"middle\" x=\"171\" y=\"-158.3\" font-family=\"Times,serif\" font-size=\"14.00\">45</text>\n",
       "</g>\n",
       "<!-- 15&#45;&#45;45 -->\n",
       "<g id=\"edge29\" class=\"edge\">\n",
       "<title>15--45</title>\n",
       "<path fill=\"none\" stroke=\"black\" d=\"M171,-215.7C171,-204.85 171,-190.92 171,-180.1\"/>\n",
       "</g>\n",
       "<!-- 16 -->\n",
       "<g id=\"node34\" class=\"node\">\n",
       "<title>16</title>\n",
       "<ellipse fill=\"none\" stroke=\"black\" cx=\"379\" cy=\"-378\" rx=\"27\" ry=\"18\"/>\n",
       "<text text-anchor=\"middle\" x=\"379\" y=\"-374.3\" font-family=\"Times,serif\" font-size=\"14.00\">16</text>\n",
       "</g>\n",
       "<!-- 19 -->\n",
       "<g id=\"node35\" class=\"node\">\n",
       "<title>19</title>\n",
       "<ellipse fill=\"none\" stroke=\"black\" cx=\"343\" cy=\"-306\" rx=\"27\" ry=\"18\"/>\n",
       "<text text-anchor=\"middle\" x=\"343\" y=\"-302.3\" font-family=\"Times,serif\" font-size=\"14.00\">19</text>\n",
       "</g>\n",
       "<!-- 16&#45;&#45;19 -->\n",
       "<g id=\"edge30\" class=\"edge\">\n",
       "<title>16--19</title>\n",
       "<path fill=\"none\" stroke=\"black\" d=\"M370.65,-360.76C364.83,-349.46 357.11,-334.44 351.3,-323.15\"/>\n",
       "</g>\n",
       "<!-- 27 -->\n",
       "<g id=\"node36\" class=\"node\">\n",
       "<title>27</title>\n",
       "<ellipse fill=\"none\" stroke=\"black\" cx=\"415\" cy=\"-306\" rx=\"27\" ry=\"18\"/>\n",
       "<text text-anchor=\"middle\" x=\"415\" y=\"-302.3\" font-family=\"Times,serif\" font-size=\"14.00\">27</text>\n",
       "</g>\n",
       "<!-- 16&#45;&#45;27 -->\n",
       "<g id=\"edge31\" class=\"edge\">\n",
       "<title>16--27</title>\n",
       "<path fill=\"none\" stroke=\"black\" d=\"M387.35,-360.76C393.17,-349.46 400.89,-334.44 406.7,-323.15\"/>\n",
       "</g>\n",
       "<!-- 19&#45;&#45;24 -->\n",
       "<g id=\"edge32\" class=\"edge\">\n",
       "<title>19--24</title>\n",
       "<path fill=\"none\" stroke=\"black\" d=\"M343,-287.7C343,-276.85 343,-262.92 343,-252.1\"/>\n",
       "</g>\n",
       "<!-- 17 -->\n",
       "<g id=\"node37\" class=\"node\">\n",
       "<title>17</title>\n",
       "<ellipse fill=\"none\" stroke=\"black\" cx=\"721\" cy=\"-450\" rx=\"27\" ry=\"18\"/>\n",
       "<text text-anchor=\"middle\" x=\"721\" y=\"-446.3\" font-family=\"Times,serif\" font-size=\"14.00\">17</text>\n",
       "</g>\n",
       "<!-- 18 -->\n",
       "<g id=\"node38\" class=\"node\">\n",
       "<title>18</title>\n",
       "<ellipse fill=\"none\" stroke=\"black\" cx=\"649\" cy=\"-378\" rx=\"27\" ry=\"18\"/>\n",
       "<text text-anchor=\"middle\" x=\"649\" y=\"-374.3\" font-family=\"Times,serif\" font-size=\"14.00\">18</text>\n",
       "</g>\n",
       "<!-- 17&#45;&#45;18 -->\n",
       "<g id=\"edge33\" class=\"edge\">\n",
       "<title>17--18</title>\n",
       "<path fill=\"none\" stroke=\"black\" d=\"M706.43,-434.83C694.02,-422.77 676.27,-405.51 663.8,-393.38\"/>\n",
       "</g>\n",
       "<!-- 26 -->\n",
       "<g id=\"node39\" class=\"node\">\n",
       "<title>26</title>\n",
       "<ellipse fill=\"none\" stroke=\"black\" cx=\"865\" cy=\"-378\" rx=\"27\" ry=\"18\"/>\n",
       "<text text-anchor=\"middle\" x=\"865\" y=\"-374.3\" font-family=\"Times,serif\" font-size=\"14.00\">26</text>\n",
       "</g>\n",
       "<!-- 17&#45;&#45;26 -->\n",
       "<g id=\"edge34\" class=\"edge\">\n",
       "<title>17--26</title>\n",
       "<path fill=\"none\" stroke=\"black\" d=\"M742.25,-438.67C769.47,-425.44 816.4,-402.63 843.67,-389.37\"/>\n",
       "</g>\n",
       "<!-- 44 -->\n",
       "<g id=\"node40\" class=\"node\">\n",
       "<title>44</title>\n",
       "<ellipse fill=\"none\" stroke=\"black\" cx=\"721\" cy=\"-378\" rx=\"27\" ry=\"18\"/>\n",
       "<text text-anchor=\"middle\" x=\"721\" y=\"-374.3\" font-family=\"Times,serif\" font-size=\"14.00\">44</text>\n",
       "</g>\n",
       "<!-- 17&#45;&#45;44 -->\n",
       "<g id=\"edge35\" class=\"edge\">\n",
       "<title>17--44</title>\n",
       "<path fill=\"none\" stroke=\"black\" d=\"M721,-431.7C721,-420.85 721,-406.92 721,-396.1\"/>\n",
       "</g>\n",
       "<!-- 18&#45;&#45;20 -->\n",
       "<g id=\"edge36\" class=\"edge\">\n",
       "<title>18--20</title>\n",
       "<path fill=\"none\" stroke=\"black\" d=\"M635.64,-362.15C624.95,-350.28 610.03,-333.7 599.34,-321.82\"/>\n",
       "</g>\n",
       "<!-- 31 -->\n",
       "<g id=\"node41\" class=\"node\">\n",
       "<title>31</title>\n",
       "<ellipse fill=\"none\" stroke=\"black\" cx=\"658\" cy=\"-306\" rx=\"27\" ry=\"18\"/>\n",
       "<text text-anchor=\"middle\" x=\"658\" y=\"-302.3\" font-family=\"Times,serif\" font-size=\"14.00\">31</text>\n",
       "</g>\n",
       "<!-- 18&#45;&#45;31 -->\n",
       "<g id=\"edge37\" class=\"edge\">\n",
       "<title>18--31</title>\n",
       "<path fill=\"none\" stroke=\"black\" d=\"M651.18,-360.05C652.57,-349.21 654.38,-335.18 655.78,-324.28\"/>\n",
       "</g>\n",
       "<!-- 40 -->\n",
       "<g id=\"node42\" class=\"node\">\n",
       "<title>40</title>\n",
       "<ellipse fill=\"none\" stroke=\"black\" cx=\"757\" cy=\"-306\" rx=\"27\" ry=\"18\"/>\n",
       "<text text-anchor=\"middle\" x=\"757\" y=\"-302.3\" font-family=\"Times,serif\" font-size=\"14.00\">40</text>\n",
       "</g>\n",
       "<!-- 18&#45;&#45;40 -->\n",
       "<g id=\"edge38\" class=\"edge\">\n",
       "<title>18--40</title>\n",
       "<path fill=\"none\" stroke=\"black\" d=\"M667.81,-364.81C687.63,-351.96 718.66,-331.85 738.4,-319.05\"/>\n",
       "</g>\n",
       "<!-- 36 -->\n",
       "<g id=\"node43\" class=\"node\">\n",
       "<title>36</title>\n",
       "<ellipse fill=\"none\" stroke=\"black\" cx=\"865\" cy=\"-306\" rx=\"27\" ry=\"18\"/>\n",
       "<text text-anchor=\"middle\" x=\"865\" y=\"-302.3\" font-family=\"Times,serif\" font-size=\"14.00\">36</text>\n",
       "</g>\n",
       "<!-- 26&#45;&#45;36 -->\n",
       "<g id=\"edge39\" class=\"edge\">\n",
       "<title>26--36</title>\n",
       "<path fill=\"none\" stroke=\"black\" d=\"M865,-359.7C865,-348.85 865,-334.92 865,-324.1\"/>\n",
       "</g>\n",
       "<!-- 41 -->\n",
       "<g id=\"node44\" class=\"node\">\n",
       "<title>41</title>\n",
       "<ellipse fill=\"none\" stroke=\"black\" cx=\"865\" cy=\"-234\" rx=\"27\" ry=\"18\"/>\n",
       "<text text-anchor=\"middle\" x=\"865\" y=\"-230.3\" font-family=\"Times,serif\" font-size=\"14.00\">41</text>\n",
       "</g>\n",
       "<!-- 36&#45;&#45;41 -->\n",
       "<g id=\"edge40\" class=\"edge\">\n",
       "<title>36--41</title>\n",
       "<path fill=\"none\" stroke=\"black\" d=\"M865,-287.7C865,-276.85 865,-262.92 865,-252.1\"/>\n",
       "</g>\n",
       "<!-- 25 -->\n",
       "<g id=\"node45\" class=\"node\">\n",
       "<title>25</title>\n",
       "<ellipse fill=\"none\" stroke=\"black\" cx=\"415\" cy=\"-234\" rx=\"27\" ry=\"18\"/>\n",
       "<text text-anchor=\"middle\" x=\"415\" y=\"-230.3\" font-family=\"Times,serif\" font-size=\"14.00\">25</text>\n",
       "</g>\n",
       "<!-- 25&#45;&#45;35 -->\n",
       "<g id=\"edge41\" class=\"edge\">\n",
       "<title>25--35</title>\n",
       "<path fill=\"none\" stroke=\"black\" d=\"M408.36,-216.41C403.9,-205.25 398.04,-190.6 393.59,-179.47\"/>\n",
       "</g>\n",
       "<!-- 29 -->\n",
       "<g id=\"node46\" class=\"node\">\n",
       "<title>29</title>\n",
       "<ellipse fill=\"none\" stroke=\"black\" cx=\"1369\" cy=\"-450\" rx=\"27\" ry=\"18\"/>\n",
       "<text text-anchor=\"middle\" x=\"1369\" y=\"-446.3\" font-family=\"Times,serif\" font-size=\"14.00\">29</text>\n",
       "</g>\n",
       "<!-- 30 -->\n",
       "<g id=\"node47\" class=\"node\">\n",
       "<title>30</title>\n",
       "<ellipse fill=\"none\" stroke=\"black\" cx=\"1441\" cy=\"-450\" rx=\"27\" ry=\"18\"/>\n",
       "<text text-anchor=\"middle\" x=\"1441\" y=\"-446.3\" font-family=\"Times,serif\" font-size=\"14.00\">30</text>\n",
       "</g>\n",
       "<!-- 32 -->\n",
       "<g id=\"node48\" class=\"node\">\n",
       "<title>32</title>\n",
       "<ellipse fill=\"none\" stroke=\"black\" cx=\"1513\" cy=\"-450\" rx=\"27\" ry=\"18\"/>\n",
       "<text text-anchor=\"middle\" x=\"1513\" y=\"-446.3\" font-family=\"Times,serif\" font-size=\"14.00\">32</text>\n",
       "</g>\n",
       "<!-- 39 -->\n",
       "<g id=\"node49\" class=\"node\">\n",
       "<title>39</title>\n",
       "<ellipse fill=\"none\" stroke=\"black\" cx=\"793\" cy=\"-378\" rx=\"27\" ry=\"18\"/>\n",
       "<text text-anchor=\"middle\" x=\"793\" y=\"-374.3\" font-family=\"Times,serif\" font-size=\"14.00\">39</text>\n",
       "</g>\n",
       "<!-- 39&#45;&#45;40 -->\n",
       "<g id=\"edge42\" class=\"edge\">\n",
       "<title>39--40</title>\n",
       "<path fill=\"none\" stroke=\"black\" d=\"M784.65,-360.76C778.83,-349.46 771.11,-334.44 765.3,-323.15\"/>\n",
       "</g>\n",
       "<!-- 47 -->\n",
       "<g id=\"node50\" class=\"node\">\n",
       "<title>47</title>\n",
       "<ellipse fill=\"none\" stroke=\"black\" cx=\"1585\" cy=\"-450\" rx=\"27\" ry=\"18\"/>\n",
       "<text text-anchor=\"middle\" x=\"1585\" y=\"-446.3\" font-family=\"Times,serif\" font-size=\"14.00\">47</text>\n",
       "</g>\n",
       "</g>\n",
       "</svg>"
      ],
      "text/plain": [
       "<IPython.core.display.SVG object>"
      ]
     },
     "metadata": {},
     "output_type": "display_data"
    }
   ],
   "source": [
    "graph.draw_matrix(friends, show_weights=False)"
   ]
  },
  {
   "cell_type": "markdown",
   "metadata": {},
   "source": [
    "Now we need to find all the separate friend groups.  Because we are defining friend groups as including \"friends of friends\", we just need to find the connected components!"
   ]
  },
  {
   "cell_type": "markdown",
   "metadata": {},
   "source": [
    "**Check your answers:**\n",
    "\n",
    "Define the variable `n_group_friends` as the number of distinct friend groups (i.e. the number of connected components of the graph). Reminder: to count connected components, you need to take the nullspace of the *incidence matrix, not the adjacency matrix*."
   ]
  },
  {
   "cell_type": "code",
   "execution_count": 31,
   "metadata": {},
   "outputs": [
    {
     "name": "stdout",
     "output_type": "stream",
     "text": [
      "[[0. 0. 0. 0. 0. 0. 0. 0. 0. 0. 1.]\n",
      " [0. 0. 0. 0. 0. 0. 0. 0. 0. 0. 1.]\n",
      " [0. 0. 0. 0. 0. 0. 0. 0. 0. 0. 1.]\n",
      " [1. 0. 0. 0. 0. 0. 0. 0. 0. 0. 0.]\n",
      " [0. 0. 0. 0. 0. 0. 0. 0. 0. 0. 1.]\n",
      " [0. 1. 0. 0. 0. 0. 0. 0. 0. 0. 0.]\n",
      " [0. 0. 0. 0. 0. 0. 0. 0. 1. 0. 0.]\n",
      " [0. 0. 0. 0. 0. 0. 0. 0. 1. 0. 0.]\n",
      " [0. 0. 1. 0. 0. 0. 0. 0. 0. 0. 0.]\n",
      " [0. 0. 0. 1. 0. 0. 0. 0. 0. 0. 0.]\n",
      " [0. 0. 0. 0. 0. 0. 0. 0. 0. 0. 1.]\n",
      " [0. 0. 0. 0. 0. 0. 0. 0. 1. 0. 0.]\n",
      " [0. 0. 0. 0. 0. 0. 0. 0. 1. 0. 0.]\n",
      " [0. 0. 0. 0. 0. 0. 0. 1. 0. 0. 0.]\n",
      " [0. 0. 0. 0. 0. 0. 0. 0. 0. 0. 1.]\n",
      " [0. 0. 0. 0. 0. 0. 0. 0. 0. 0. 1.]\n",
      " [0. 0. 0. 0. 0. 0. 0. 0. 0. 0. 1.]\n",
      " [0. 0. 0. 0. 0. 0. 0. 0. 0. 0. 1.]\n",
      " [0. 0. 0. 0. 0. 0. 0. 0. 0. 0. 1.]\n",
      " [0. 0. 0. 0. 0. 0. 0. 0. 0. 0. 1.]\n",
      " [0. 0. 0. 0. 0. 0. 0. 0. 0. 0. 1.]\n",
      " [0. 0. 0. 0. 0. 0. 0. 0. 1. 0. 0.]\n",
      " [0. 0. 0. 0. 0. 0. 0. 0. 0. 0. 1.]\n",
      " [0. 0. 0. 0. 0. 0. 0. 0. 1. 0. 0.]\n",
      " [0. 0. 0. 0. 0. 0. 0. 0. 0. 0. 1.]\n",
      " [0. 0. 0. 0. 0. 0. 0. 0. 0. 0. 1.]\n",
      " [0. 0. 0. 0. 0. 0. 0. 0. 0. 0. 1.]\n",
      " [0. 0. 0. 0. 0. 0. 0. 0. 0. 0. 1.]\n",
      " [0. 0. 0. 0. 0. 0. 0. 0. 0. 0. 1.]\n",
      " [0. 0. 0. 0. 1. 0. 0. 0. 0. 0. 0.]\n",
      " [0. 0. 0. 0. 0. 1. 0. 0. 0. 0. 0.]\n",
      " [0. 0. 0. 0. 0. 0. 0. 0. 0. 0. 1.]\n",
      " [0. 0. 0. 0. 0. 0. 1. 0. 0. 0. 0.]\n",
      " [0. 0. 0. 0. 0. 0. 0. 0. 0. 0. 1.]\n",
      " [0. 0. 0. 0. 0. 0. 0. 0. 0. 0. 1.]\n",
      " [0. 0. 0. 0. 0. 0. 0. 0. 0. 0. 1.]\n",
      " [0. 0. 0. 0. 0. 0. 0. 0. 0. 0. 1.]\n",
      " [0. 0. 0. 0. 0. 0. 0. 1. 0. 0. 0.]\n",
      " [0. 0. 0. 0. 0. 0. 0. 0. 0. 0. 1.]\n",
      " [0. 0. 0. 0. 0. 0. 0. 0. 0. 0. 1.]\n",
      " [0. 0. 0. 0. 0. 0. 0. 0. 0. 0. 1.]\n",
      " [0. 0. 0. 0. 0. 0. 0. 0. 0. 0. 1.]\n",
      " [0. 0. 0. 0. 0. 0. 0. 0. 1. 0. 0.]\n",
      " [0. 0. 0. 0. 0. 0. 0. 0. 0. 0. 1.]\n",
      " [0. 0. 0. 0. 0. 0. 0. 0. 0. 0. 1.]\n",
      " [0. 0. 0. 0. 0. 0. 0. 0. 0. 0. 1.]\n",
      " [0. 0. 0. 0. 0. 0. 0. 0. 0. 0. 1.]\n",
      " [0. 0. 0. 0. 0. 0. 0. 0. 0. 1. 0.]\n",
      " [0. 0. 0. 0. 0. 0. 0. 0. 0. 0. 1.]\n",
      " [0. 0. 0. 0. 0. 0. 0. 0. 0. 0. 1.]]\n"
     ]
    }
   ],
   "source": [
    "#grade (enter your code in this cell - DO NOT DELETE THIS LINE)  \n",
    "matrix = nullspace(get_incidence_matrix(friends))\n",
    "print(matrix)\n",
    "num_rows, num_cols = matrix.shape\n",
    "n_group_friends = num_cols"
   ]
  },
  {
   "cell_type": "markdown",
   "metadata": {},
   "source": [
    "**Check your answers:**\n",
    "\n",
    "How many people are in the largest friend group? Store this number as `max_group_size`"
   ]
  },
  {
   "cell_type": "code",
   "execution_count": 37,
   "metadata": {},
   "outputs": [],
   "source": [
    "#grade (enter your code in this cell - DO NOT DELETE THIS LINE) \n",
    "z = np.sum(matrix != 0, axis = 0)\n",
    "max_group_size = np.max(z)"
   ]
  },
  {
   "cell_type": "markdown",
   "metadata": {},
   "source": [
    "## Meme Spread"
   ]
  },
  {
   "cell_type": "markdown",
   "metadata": {},
   "source": [
    "Let's examine a slightly different problem.  If we are given a friend graph as we have above, how many people will receive a meme assuming each person sends it to all of their friends?"
   ]
  },
  {
   "cell_type": "markdown",
   "metadata": {},
   "source": [
    "<img src=\"meme.jpg\" width=\"300px\"><br><center><small>(Meme stolen from [reddit.com/r/mathmemes](https://www.reddit.com/r/mathmemes/comments/f9qvhm/linear_algebra_in_nutshell/))</small></center>"
   ]
  },
  {
   "cell_type": "markdown",
   "metadata": {},
   "source": [
    "We will use a slightly larger graph of $n=100$ people, represented as an adjacency matrix."
   ]
  },
  {
   "cell_type": "code",
   "execution_count": 33,
   "metadata": {
    "scrolled": true
   },
   "outputs": [
    {
     "name": "stdout",
     "output_type": "stream",
     "text": [
      "[[0 0 0 ... 0 0 0]\n",
      " [0 0 0 ... 0 0 0]\n",
      " [0 0 0 ... 0 0 0]\n",
      " ...\n",
      " [0 0 0 ... 0 0 0]\n",
      " [0 0 0 ... 0 0 0]\n",
      " [0 0 0 ... 0 0 0]]\n"
     ]
    }
   ],
   "source": [
    "n = 100\n",
    "meme_network = graph.gen_random_friends(n, 0.98)\n",
    "print(meme_network)"
   ]
  },
  {
   "cell_type": "markdown",
   "metadata": {},
   "source": [
    "Here is the (quite large!) graph showing friend connectivity:"
   ]
  },
  {
   "cell_type": "code",
   "execution_count": 1,
   "metadata": {},
   "outputs": [
    {
     "ename": "NameError",
     "evalue": "name 'graph' is not defined",
     "output_type": "error",
     "traceback": [
      "\u001b[0;31m---------------------------------------------------------------------------\u001b[0m",
      "\u001b[0;31mNameError\u001b[0m                                 Traceback (most recent call last)",
      "\u001b[0;32m<ipython-input-1-3a34e91e92b1>\u001b[0m in \u001b[0;36m<module>\u001b[0;34m\u001b[0m\n\u001b[0;32m----> 1\u001b[0;31m \u001b[0mgraph\u001b[0m\u001b[0;34m.\u001b[0m\u001b[0mdraw_matrix\u001b[0m\u001b[0;34m(\u001b[0m\u001b[0mmeme_network\u001b[0m\u001b[0;34m,\u001b[0m \u001b[0mshow_weights\u001b[0m\u001b[0;34m=\u001b[0m\u001b[0;32mFalse\u001b[0m\u001b[0;34m)\u001b[0m\u001b[0;34m\u001b[0m\u001b[0;34m\u001b[0m\u001b[0m\n\u001b[0m",
      "\u001b[0;31mNameError\u001b[0m: name 'graph' is not defined"
     ]
    }
   ],
   "source": [
    "graph.draw_matrix(meme_network, show_weights=False)"
   ]
  },
  {
   "cell_type": "markdown",
   "metadata": {},
   "source": [
    "**Check your answers:**\n",
    "\n",
    "Suppose the meme was created (or reposted) by person `origin`, which is provided at the PrairieLearn question page. Note that `origin` is zero-indexed. Assume that everybody sends the meme to all of their friends.\n",
    "\n",
    "How many friend groups exist in this network? Store that in `ngroups`.\n",
    "\n",
    "What is the size of each one of these groups? Save your results as a 1d numpy array `nfriends_pergroup`.\n",
    "\n",
    "How many people will receive the meme? Store that in `receive_meme`.\n",
    "\n",
    "Hint: first find the friend group to which person `origin` belongs. Then find how many friends belong to that group. You can use `np.where` to help you get `receive_meme`. For example, if you wanted to know the indices of the elements of a matrix `A` that are equal to 5, you could use `np.where(A == 5)`."
   ]
  },
  {
   "cell_type": "code",
   "execution_count": 40,
   "metadata": {},
   "outputs": [],
   "source": [
    "#grade (enter your code in this cell - DO NOT DELETE THIS LINE) \n",
    "origin = 60\n",
    "matrix1 = nullspace(get_incidence_matrix(meme_network))\n",
    "ngroups = matrix1.shape[1]\n",
    "nfriends_pergroup = np.sum(matrix1 != 0, axis = 0)\n",
    "origin_row = matrix1[origin]\n",
    "index = np.where(origin_row == 1)[0]\n",
    "origin_column = matrix1[:,index]\n",
    "receive_meme = origin_column.sum(axis = 0)[0]"
   ]
  },
  {
   "cell_type": "code",
   "execution_count": null,
   "metadata": {},
   "outputs": [],
   "source": []
  }
 ],
 "metadata": {
  "kernelspec": {
   "display_name": "Python 3",
   "language": "python",
   "name": "python3"
  },
  "language_info": {
   "codemirror_mode": {
    "name": "ipython",
    "version": 3
   },
   "file_extension": ".py",
   "mimetype": "text/x-python",
   "name": "python",
   "nbconvert_exporter": "python",
   "pygments_lexer": "ipython3",
   "version": "3.8.6"
  },
  "vscode": {
   "interpreter": {
    "hash": "784020c7e5899477338077a14a10b6c1d61eb54e763c63db90bb7d6f9c2444ab"
   }
  }
 },
 "nbformat": 4,
 "nbformat_minor": 4
}
