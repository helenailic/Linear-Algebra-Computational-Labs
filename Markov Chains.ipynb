{
 "cells": [
  {
   "cell_type": "code",
   "execution_count": 1,
   "metadata": {},
   "outputs": [
    {
     "name": "stderr",
     "output_type": "stream",
     "text": [
      "Matplotlib created a temporary config/cache directory at /tmp/matplotlib-m4oipsp2 because the default path (/tmp/cache/matplotlib) is not a writable directory; it is highly recommended to set the MPLCONFIGDIR environment variable to a writable directory, in particular to speed up the import of Matplotlib and to better support multiprocessing.\n"
     ]
    }
   ],
   "source": [
    "import numpy as np\n",
    "import numpy.linalg as la\n",
    "import graph\n",
    "import matplotlib.pyplot as plt"
   ]
  },
  {
   "cell_type": "markdown",
   "metadata": {},
   "source": [
    "# Lesson 7: Markov Chains"
   ]
  },
  {
   "cell_type": "markdown",
   "metadata": {},
   "source": [
    "A Markov chain is a mathematical model used to describe a set of states and the probability of transitioning between them.\n",
    "\n",
    "<img src=\"markov.svg\" width=300px></img>\n",
    "\n",
    "As a small example, let's create a Markov chain to model the weather outside. We will have two states to represent the possible weather for a day:\n",
    "\n",
    "1. Sunny\n",
    "2. Snowy\n",
    "\n",
    "After collecting data about the weather for many years, you observed that the chance of a snowy day occurring after one snowy day is 90% and that the chance of a snowy day after one sunny day is 70%."
   ]
  },
  {
   "cell_type": "markdown",
   "metadata": {},
   "source": [
    " We can see this visually with the following graph. Do you understand how we were able to obtain the other numbers? Recall that we are dealing with probabilities that should sum up to 100%.\n",
    "\n",
    "<img src=\"weather_graph.png\" width=446px></img>\n",
    "\n",
    "This is a *directed graph* because *edges have direction*. We can represent this (unsurprisingly) using a matrix, similarly to how we created the adjacency matrix, with the same notation for the edge direction: the columns of the matrix represent outgoing edges, while the rows represent incoming edges:\n",
    "\n",
    "<img src=\"weather_matrix.png\" width=305px></img>\n",
    "\n",
    "and each entry of the matrix is given by:\n",
    "\n",
    "$$ M_{ij} = \\text{probability of moving from } j \\text{ to } i $$\n",
    "\n",
    "The matrix above is called the **Markov matrix**, which has the following properties:\n",
    "\n",
    "- $M_{ij}$ entry of a transition matrix has the probability of transitioning from state $j$ to state $i$\n",
    "\n",
    "- Since the entries are probabilities, they are always non-negative real numbers, and the columns should sum to 1.\n"
   ]
  },
  {
   "cell_type": "code",
   "execution_count": 2,
   "metadata": {},
   "outputs": [],
   "source": [
    "M = np.array([[0.3, 0.1], [0.7, 0.9]])"
   ]
  },
  {
   "cell_type": "markdown",
   "metadata": {},
   "source": [
    "Now that we have created the model, we can use it to calculate various probabilities. Let's say that today was a sunny day, which we can represent by a vector that is 100% sunny and 0% snowy:"
   ]
  },
  {
   "cell_type": "code",
   "execution_count": 3,
   "metadata": {},
   "outputs": [],
   "source": [
    "x = np.array([1.0, 0.0])"
   ]
  },
  {
   "cell_type": "markdown",
   "metadata": {},
   "source": [
    "If we multiply our transition matrix by our state vector, we can find the probability of having each type of day tomorrow:"
   ]
  },
  {
   "cell_type": "code",
   "execution_count": 4,
   "metadata": {},
   "outputs": [
    {
     "data": {
      "text/plain": [
       "array([0.3, 0.7])"
      ]
     },
     "execution_count": 4,
     "metadata": {},
     "output_type": "execute_result"
    }
   ],
   "source": [
    "x1 = M @ x\n",
    "x1"
   ]
  },
  {
   "cell_type": "markdown",
   "metadata": {},
   "source": [
    "This doesn't give us any new information, so lets see what happens when we multiply the state vector again:"
   ]
  },
  {
   "cell_type": "code",
   "execution_count": 5,
   "metadata": {},
   "outputs": [
    {
     "data": {
      "text/plain": [
       "array([0.16, 0.84])"
      ]
     },
     "execution_count": 5,
     "metadata": {},
     "output_type": "execute_result"
    }
   ],
   "source": [
    "x2 = M @ x1\n",
    "x2"
   ]
  },
  {
   "cell_type": "markdown",
   "metadata": {},
   "source": [
    "Now, we have \"simulated\" the Markov chain twice, which tells us the weather probability in _two_ days.  What would happen if we multiplied our new vector by the matrix a large number of times?\n",
    "\n",
    "**Try this!**\n",
    "\n",
    "Write a loop to left-multiply (${\\bf Mx}$) the state vector $15$ times, printing out each intermediate value. Start your iterations using the state vector defined above as `x`."
   ]
  },
  {
   "cell_type": "code",
   "execution_count": null,
   "metadata": {},
   "outputs": [],
   "source": [
    "xc = x.copy()\n",
    "# Write loop here\n"
   ]
  },
  {
   "cell_type": "markdown",
   "metadata": {},
   "source": [
    "You can see that for enough iterations we will eventually converge to a steady state ${\\bf x}^* $, and multiplying this steady state by the Markov matrix will no longer modify the vector, i.e.\n",
    "\n",
    "$$ {\\bf M}{\\bf x}^* = {\\bf x}^* $$\n",
    "\n",
    "Note that this is an eigensystem problem, where $(1,{\\bf x}^*)$ is an eigenpair. Indeed, we  found the eigenvector of ${\\bf M}$ with corresponding eigenvalue $\\lambda = 1$!"
   ]
  },
  {
   "cell_type": "markdown",
   "metadata": {},
   "source": [
    "Computing the eigenvector like this is called the [*Power Iteration method*](https://en.wikipedia.org/wiki/Power_iteration), and can be used to find the eigenvector that corresponds to the *dominant* eigenvalue (largest eigenvalue in magnitude).\n",
    "\n",
    "**Check your answers!**\n",
    "\n",
    "Implement the function `power_iteration()` that takes a matrix `M` and starting vector `x`, and computes the eigenvector corresponding to dominant eigenvalue (same as you have done above).\n",
    "\n",
    "For simplicity, **use 100 iterations for your loop**."
   ]
  },
  {
   "cell_type": "code",
   "execution_count": 6,
   "metadata": {},
   "outputs": [],
   "source": [
    "#grade (enter your code in this cell - DO NOT DELETE THIS LINE) \n",
    "def power_iteration(M, x):\n",
    "    # Perform power iteration and return steady state vector xstar\n",
    "    xc = x.copy()\n",
    "    for i in range(100):\n",
    "        xc = M @ xc\n",
    "    return xc"
   ]
  },
  {
   "cell_type": "markdown",
   "metadata": {},
   "source": [
    "Run your `power_iteration()` function on `M` and a new vector,\n",
    "$$ {\\bf x} = \\begin{bmatrix} 0.5 \\\\ 0.5\\end{bmatrix} $$\n",
    "\n",
    "Do you get the same result as before?"
   ]
  },
  {
   "cell_type": "code",
   "execution_count": 7,
   "metadata": {},
   "outputs": [
    {
     "data": {
      "text/plain": [
       "array([0.125, 0.875])"
      ]
     },
     "execution_count": 7,
     "metadata": {},
     "output_type": "execute_result"
    }
   ],
   "source": [
    "power_iteration(M, np.array([0.5, 0.5]))"
   ]
  },
  {
   "cell_type": "markdown",
   "metadata": {},
   "source": [
    "As long as the starting state vector `x` is normalized (the entries add up to one), the steady state solution will be the same. There is one caveat to this statement, which we will discuss in the next section.\n",
    "\n",
    "Take a look at the code snippet below. Notice that the steady state solution does not change, regardless of the initial vector (here generated at random)."
   ]
  },
  {
   "cell_type": "code",
   "execution_count": 8,
   "metadata": {},
   "outputs": [
    {
     "name": "stdout",
     "output_type": "stream",
     "text": [
      "[0.65740945 0.34259055]\n",
      "[0.125 0.875]\n"
     ]
    }
   ],
   "source": [
    "# run this as many times as you want, the bottom vector should always stay the same!\n",
    "random_vector = np.random.rand(2)\n",
    "random_vector /= np.sum(random_vector) # normalize\n",
    "\n",
    "print(random_vector)\n",
    "print(power_iteration(M, random_vector))"
   ]
  },
  {
   "cell_type": "markdown",
   "metadata": {},
   "source": [
    "Note that `random_vector` is normalized by dividing by the sum of its entries. \n",
    "In this lesson, since a state vector is a vector of probabilities (non-negative entries), we can view this as  L1-normalization. \n",
    "The L1 norm of a vector, also known as Manhattan Distance or Taxicab norm, is calculated as the sum of the absolute values of its entries. For instance, the L1 norm of a vector `x` can be calculated in NumPy using [`numpy.linalg.norm(x, ord=1)`](https://numpy.org/doc/stable/reference/generated/numpy.linalg.norm.html),\n",
    "where the parameter `ord=1` specifies the norm order. Check the NumPy documentation to see what `numpy.linalg.norm(x)` calculates when the parameter `ord` is not specified."
   ]
  },
  {
   "cell_type": "markdown",
   "metadata": {},
   "source": [
    "# The Gambler's Ruin and Reducibility"
   ]
  },
  {
   "cell_type": "markdown",
   "metadata": {},
   "source": [
    "Consider a gambler starting with some amount of money, say $\\$1$.\n",
    "\n",
    "The gambler is playing a game in which they either gain or lose $\\$1$, with equal probability.\n",
    "If the gambler runs out of money, they must stop playing; their goal is to have $\\$3$ before this happens."
   ]
  },
  {
   "cell_type": "markdown",
   "metadata": {},
   "source": [
    "We can represent this as the state graph below.  Starting at the $\\$1$ state, there is a $50\\%$ chance of losing money (and the game) &mdash; the \"$\\$0$ (Lose)\" state &mdash; and a $50\\%$ chance of winning a dollar &mdash; the \"$\\$2$\" state."
   ]
  },
  {
   "cell_type": "markdown",
   "metadata": {},
   "source": [
    "<img src=\"Gambler.svg\"></img>"
   ]
  },
  {
   "cell_type": "markdown",
   "metadata": {},
   "source": [
    "**Check your answers!**\n",
    "\n",
    "Create the Markov matrix, denoted `G`, that follows the state diagram above. Order your columns with the $\\$i$ state represented by the $i$th column."
   ]
  },
  {
   "cell_type": "code",
   "execution_count": 9,
   "metadata": {},
   "outputs": [],
   "source": [
    "#grade (enter your code in this cell - DO NOT DELETE THIS LINE) \n",
    "G = np.array([[1, 0.5, 0, 0], [0, 0, 0.5, 0], [0, 0.5, 0, 0], [0, 0, 0.5, 1]])"
   ]
  },
  {
   "cell_type": "markdown",
   "metadata": {},
   "source": [
    "You can display your matrix as a graph to check your work."
   ]
  },
  {
   "cell_type": "code",
   "execution_count": 10,
   "metadata": {},
   "outputs": [
    {
     "data": {
      "image/svg+xml": [
       "<svg xmlns=\"http://www.w3.org/2000/svg\" xmlns:xlink=\"http://www.w3.org/1999/xlink\" width=\"293pt\" height=\"218pt\" viewBox=\"0.00 0.00 293.05 218.00\">\n",
       "<g id=\"graph0\" class=\"graph\" transform=\"scale(1 1) rotate(0) translate(4 214)\">\n",
       "<polygon fill=\"white\" stroke=\"transparent\" points=\"-4,4 -4,-214 289.05,-214 289.05,4 -4,4\"/>\n",
       "<!-- $0 (Lose) -->\n",
       "<g id=\"node1\" class=\"node\">\n",
       "<title>$0 (Lose)</title>\n",
       "<ellipse fill=\"none\" stroke=\"black\" cx=\"54\" cy=\"-105\" rx=\"54\" ry=\"18\"/>\n",
       "<text text-anchor=\"middle\" x=\"54\" y=\"-101.3\" font-family=\"Times,serif\" font-size=\"14.00\">$0 (Lose)</text>\n",
       "</g>\n",
       "<!-- $0 (Lose)&#45;&gt;$0 (Lose) -->\n",
       "<g id=\"edge1\" class=\"edge\">\n",
       "<title>$0 (Lose)-&gt;$0 (Lose)</title>\n",
       "<path fill=\"none\" stroke=\"black\" d=\"M102.75,-112.82C115.93,-112.4 125.94,-109.8 125.94,-105 125.94,-101.55 120.76,-99.23 112.97,-98.05\"/>\n",
       "<polygon fill=\"black\" stroke=\"black\" points=\"113.02,-94.54 102.75,-97.18 112.42,-101.52 113.02,-94.54\"/>\n",
       "<text text-anchor=\"middle\" x=\"137.44\" y=\"-101.3\" font-family=\"Times,serif\" font-size=\"14.00\">1.0</text>\n",
       "</g>\n",
       "<!-- $1 -->\n",
       "<g id=\"node2\" class=\"node\">\n",
       "<title>$1</title>\n",
       "<ellipse fill=\"none\" stroke=\"black\" cx=\"148\" cy=\"-192\" rx=\"27\" ry=\"18\"/>\n",
       "<text text-anchor=\"middle\" x=\"148\" y=\"-188.3\" font-family=\"Times,serif\" font-size=\"14.00\">$1</text>\n",
       "</g>\n",
       "<!-- $1&#45;&gt;$0 (Lose) -->\n",
       "<g id=\"edge2\" class=\"edge\">\n",
       "<title>$1-&gt;$0 (Lose)</title>\n",
       "<path fill=\"none\" stroke=\"black\" d=\"M132.47,-176.96C118.13,-164 96.56,-144.49 79.66,-129.2\"/>\n",
       "<polygon fill=\"black\" stroke=\"black\" points=\"81.56,-126.2 71.79,-122.09 76.86,-131.39 81.56,-126.2\"/>\n",
       "<text text-anchor=\"middle\" x=\"118.5\" y=\"-144.8\" font-family=\"Times,serif\" font-size=\"14.00\">0.5</text>\n",
       "</g>\n",
       "<!-- $2 -->\n",
       "<g id=\"node3\" class=\"node\">\n",
       "<title>$2</title>\n",
       "<ellipse fill=\"none\" stroke=\"black\" cx=\"194\" cy=\"-105\" rx=\"27\" ry=\"18\"/>\n",
       "<text text-anchor=\"middle\" x=\"194\" y=\"-101.3\" font-family=\"Times,serif\" font-size=\"14.00\">$2</text>\n",
       "</g>\n",
       "<!-- $1&#45;&gt;$2 -->\n",
       "<g id=\"edge3\" class=\"edge\">\n",
       "<title>$1-&gt;$2</title>\n",
       "<path fill=\"none\" stroke=\"black\" d=\"M144.81,-173.92C143.77,-163.83 143.94,-151.09 149,-141 152.53,-133.94 158.24,-127.89 164.42,-122.89\"/>\n",
       "<polygon fill=\"black\" stroke=\"black\" points=\"166.88,-125.43 172.97,-116.75 162.8,-119.74 166.88,-125.43\"/>\n",
       "<text text-anchor=\"middle\" x=\"160.5\" y=\"-144.8\" font-family=\"Times,serif\" font-size=\"14.00\">0.5</text>\n",
       "</g>\n",
       "<!-- $2&#45;&gt;$1 -->\n",
       "<g id=\"edge4\" class=\"edge\">\n",
       "<title>$2-&gt;$1</title>\n",
       "<path fill=\"none\" stroke=\"black\" d=\"M187.62,-122.58C183.58,-132.5 178,-145.23 172,-156 170,-159.59 167.74,-163.28 165.42,-166.85\"/>\n",
       "<polygon fill=\"black\" stroke=\"black\" points=\"162.35,-165.13 159.64,-175.37 168.15,-169.06 162.35,-165.13\"/>\n",
       "<text text-anchor=\"middle\" x=\"191.5\" y=\"-144.8\" font-family=\"Times,serif\" font-size=\"14.00\">0.5</text>\n",
       "</g>\n",
       "<!-- $3 (Win) -->\n",
       "<g id=\"node4\" class=\"node\">\n",
       "<title>$3 (Win)</title>\n",
       "<ellipse fill=\"none\" stroke=\"black\" cx=\"194\" cy=\"-18\" rx=\"50.09\" ry=\"18\"/>\n",
       "<text text-anchor=\"middle\" x=\"194\" y=\"-14.3\" font-family=\"Times,serif\" font-size=\"14.00\">$3 (Win)</text>\n",
       "</g>\n",
       "<!-- $2&#45;&gt;$3 (Win) -->\n",
       "<g id=\"edge5\" class=\"edge\">\n",
       "<title>$2-&gt;$3 (Win)</title>\n",
       "<path fill=\"none\" stroke=\"black\" d=\"M194,-86.8C194,-75.16 194,-59.55 194,-46.24\"/>\n",
       "<polygon fill=\"black\" stroke=\"black\" points=\"197.51,-46.17 194,-36.17 190.51,-46.18 197.51,-46.17\"/>\n",
       "<text text-anchor=\"middle\" x=\"205.5\" y=\"-57.8\" font-family=\"Times,serif\" font-size=\"14.00\">0.5</text>\n",
       "</g>\n",
       "<!-- $3 (Win)&#45;&gt;$3 (Win) -->\n",
       "<g id=\"edge6\" class=\"edge\">\n",
       "<title>$3 (Win)-&gt;$3 (Win)</title>\n",
       "<path fill=\"none\" stroke=\"black\" d=\"M239.16,-25.84C252.08,-25.54 262.05,-22.92 262.05,-18 262.05,-14.46 256.89,-12.12 249.21,-10.96\"/>\n",
       "<polygon fill=\"black\" stroke=\"black\" points=\"249.4,-7.47 239.16,-10.16 248.84,-14.45 249.4,-7.47\"/>\n",
       "<text text-anchor=\"middle\" x=\"273.55\" y=\"-14.3\" font-family=\"Times,serif\" font-size=\"14.00\">1.0</text>\n",
       "</g>\n",
       "</g>\n",
       "</svg>"
      ],
      "text/plain": [
       "<IPython.core.display.SVG object>"
      ]
     },
     "metadata": {},
     "output_type": "display_data"
    }
   ],
   "source": [
    "labels = ['$0 (Lose)', '$1', '$2', '$3 (Win)']\n",
    "graph.draw_matrix(G, labels)"
   ]
  },
  {
   "cell_type": "markdown",
   "metadata": {},
   "source": [
    "Suppose the gambler starts with $\\$1$ ($100\\%$ probability of being in the $\\$1$ state). Write the initial state as the array `x0`:"
   ]
  },
  {
   "cell_type": "code",
   "execution_count": 11,
   "metadata": {},
   "outputs": [],
   "source": [
    "x0 = np.array([0.0, 1.0, 0.0, 0.0])"
   ]
  },
  {
   "cell_type": "markdown",
   "metadata": {},
   "source": [
    "**Try this!**\n",
    "\n",
    "Use power iteration to get the probability of losing and winning using the initial state defined as `x0` and store your result in `xstar1`"
   ]
  },
  {
   "cell_type": "code",
   "execution_count": 13,
   "metadata": {},
   "outputs": [
    {
     "name": "stdout",
     "output_type": "stream",
     "text": [
      "[  0. 100.   0.   0.]\n"
     ]
    }
   ],
   "source": [
    "# define xstar1\n",
    "xstar1 = x0.copy()\n",
    "\n",
    "power_iteration(G,xstar1)\n",
    "\n",
    "# Print out the probability\n",
    "print(np.round(xstar1 * 100,2))"
   ]
  },
  {
   "cell_type": "markdown",
   "metadata": {},
   "source": [
    "**Check your answers!**\n",
    "\n",
    "Now use power iteration to get the probability of winning and losing if the gambler starts with $\\$2$ instead. Store your result in `xstar2`."
   ]
  },
  {
   "cell_type": "code",
   "execution_count": 16,
   "metadata": {},
   "outputs": [],
   "source": [
    "#grade (enter your code in this cell - DO NOT DELETE THIS LINE) \n",
    "x1 = np.array([0.0, 0.0, 1.0, 0.0])\n",
    "\n",
    "xstar2 = power_iteration(G,x1.copy())"
   ]
  },
  {
   "cell_type": "markdown",
   "metadata": {},
   "source": [
    "Print out `xstar2`. Is this result different from `xstar1`?"
   ]
  },
  {
   "cell_type": "code",
   "execution_count": 17,
   "metadata": {},
   "outputs": [
    {
     "name": "stdout",
     "output_type": "stream",
     "text": [
      "[33.33  0.    0.   66.67]\n"
     ]
    }
   ],
   "source": [
    "print(np.round(xstar2 * 100, 2))"
   ]
  },
  {
   "cell_type": "markdown",
   "metadata": {},
   "source": [
    "Because we can no longer reach every state from every other state, **we no longer have a unique steady state**.  A Markov chain of this type is said to be \"reducible\".\n",
    "\n",
    "The code snippet below runs power iteration for a random initial state vector. \n",
    "Run it many times, and see what happens to the resulting vector:"
   ]
  },
  {
   "cell_type": "code",
   "execution_count": 18,
   "metadata": {},
   "outputs": [
    {
     "name": "stdout",
     "output_type": "stream",
     "text": [
      "[0.47 0.   0.   0.53]\n"
     ]
    }
   ],
   "source": [
    "x = np.random.rand(4)\n",
    "x = x / la.norm(x,1) # x = x / np.sum(x)\n",
    "print(np.round(power_iteration(G, x),2))"
   ]
  },
  {
   "cell_type": "markdown",
   "metadata": {},
   "source": [
    "We can no longer observe the behavior in which the steady state vector is the same, no matter the given initial vector.\n"
   ]
  },
  {
   "cell_type": "markdown",
   "metadata": {},
   "source": [
    "# Google PageRank"
   ]
  },
  {
   "cell_type": "markdown",
   "metadata": {},
   "source": [
    "Google's dominance as a search engine came from their [_PageRank_](http://ilpubs.stanford.edu:8090/422/1/1999-66.pdf) algorithm, named after co-founder Larry Page.  By assigning each page a relative rank, web searches can give more relevant results.\n",
    "\n",
    "The idea here is to model a user surfing different web pages by randomly clicking on links.  Pages with more incoming links (i.e. more citations) are presumed to be higher quality and therefore get a higher PageRank value.\n",
    "\n",
    "We can model this as a graph, where each webpage has a chance of moving to another one:\n",
    "\n",
    "<img src=\"PageRank Example.svg\" width=\"300px\"></img>\n",
    "\n",
    "This probability of moving from one page to another is estimated from the number of outgoing links; more formally, the probability of moving from page $j$ to page $i$ is given by:\n",
    "\n",
    "$$ p\\left(i \\vert j\\right) = \\frac{\\text{number of links from }j\\text{ to }i}{\\text{total links going out of } j}$$"
   ]
  },
  {
   "cell_type": "markdown",
   "metadata": {},
   "source": [
    "For example, if Google has 4 outgoing links:\n",
    "\n",
    " - 1 to Twitter\n",
    " - 1 to Reddit\n",
    " - 2 to Facebook\n",
    "\n",
    "Then it would have a $0\\%$ probability of linking to itself, $25\\%$ to Twitter, $25\\%$ to Reddit, and $50\\%$ to Facebook."
   ]
  },
  {
   "cell_type": "markdown",
   "metadata": {},
   "source": [
    "Let's try finding the steady state of a small example.  You are given an adjacency matrix ${\\bf A}$ such that each entry $A_{ij}$ contains the number of links going *into* page $i$ *from* $j$."
   ]
  },
  {
   "cell_type": "code",
   "execution_count": 19,
   "metadata": {},
   "outputs": [
    {
     "data": {
      "image/svg+xml": [
       "<svg xmlns=\"http://www.w3.org/2000/svg\" xmlns:xlink=\"http://www.w3.org/1999/xlink\" width=\"222pt\" height=\"305pt\" viewBox=\"0.00 0.00 221.59 305.00\">\n",
       "<g id=\"graph0\" class=\"graph\" transform=\"scale(1 1) rotate(0) translate(4 301)\">\n",
       "<polygon fill=\"white\" stroke=\"transparent\" points=\"-4,4 -4,-301 217.59,-301 217.59,4 -4,4\"/>\n",
       "<!-- Google -->\n",
       "<g id=\"node1\" class=\"node\">\n",
       "<title>Google</title>\n",
       "<ellipse fill=\"none\" stroke=\"black\" cx=\"142\" cy=\"-279\" rx=\"43\" ry=\"18\"/>\n",
       "<text text-anchor=\"middle\" x=\"142\" y=\"-275.3\" font-family=\"Times,serif\" font-size=\"14.00\">Google</text>\n",
       "</g>\n",
       "<!-- Twitter -->\n",
       "<g id=\"node2\" class=\"node\">\n",
       "<title>Twitter</title>\n",
       "<ellipse fill=\"none\" stroke=\"black\" cx=\"109\" cy=\"-192\" rx=\"45\" ry=\"18\"/>\n",
       "<text text-anchor=\"middle\" x=\"109\" y=\"-188.3\" font-family=\"Times,serif\" font-size=\"14.00\">Twitter</text>\n",
       "</g>\n",
       "<!-- Google&#45;&gt;Twitter -->\n",
       "<g id=\"edge1\" class=\"edge\">\n",
       "<title>Google-&gt;Twitter</title>\n",
       "<path fill=\"none\" stroke=\"black\" d=\"M135.49,-261.21C130.86,-249.29 124.56,-233.06 119.25,-219.42\"/>\n",
       "<polygon fill=\"black\" stroke=\"black\" points=\"122.5,-218.1 115.62,-210.05 115.97,-220.64 122.5,-218.1\"/>\n",
       "<text text-anchor=\"middle\" x=\"132\" y=\"-231.8\" font-family=\"Times,serif\" font-size=\"14.00\">1</text>\n",
       "</g>\n",
       "<!-- Facebook -->\n",
       "<g id=\"node3\" class=\"node\">\n",
       "<title>Facebook</title>\n",
       "<ellipse fill=\"none\" stroke=\"black\" cx=\"54\" cy=\"-105\" rx=\"54\" ry=\"18\"/>\n",
       "<text text-anchor=\"middle\" x=\"54\" y=\"-101.3\" font-family=\"Times,serif\" font-size=\"14.00\">Facebook</text>\n",
       "</g>\n",
       "<!-- Google&#45;&gt;Facebook -->\n",
       "<g id=\"edge2\" class=\"edge\">\n",
       "<title>Google-&gt;Facebook</title>\n",
       "<path fill=\"none\" stroke=\"black\" d=\"M111.81,-266.1C88.87,-255.26 58.95,-236.82 45,-210 32.51,-185.99 37.66,-154.6 44.11,-132.61\"/>\n",
       "<polygon fill=\"black\" stroke=\"black\" points=\"47.49,-133.53 47.21,-122.94 40.83,-131.39 47.49,-133.53\"/>\n",
       "<text text-anchor=\"middle\" x=\"50\" y=\"-188.3\" font-family=\"Times,serif\" font-size=\"14.00\">2</text>\n",
       "</g>\n",
       "<!-- Reddit -->\n",
       "<g id=\"node4\" class=\"node\">\n",
       "<title>Reddit</title>\n",
       "<ellipse fill=\"none\" stroke=\"black\" cx=\"144\" cy=\"-18\" rx=\"41.69\" ry=\"18\"/>\n",
       "<text text-anchor=\"middle\" x=\"144\" y=\"-14.3\" font-family=\"Times,serif\" font-size=\"14.00\">Reddit</text>\n",
       "</g>\n",
       "<!-- Google&#45;&gt;Reddit -->\n",
       "<g id=\"edge3\" class=\"edge\">\n",
       "<title>Google-&gt;Reddit</title>\n",
       "<path fill=\"none\" stroke=\"black\" d=\"M148.81,-261C153.86,-247.45 160.31,-227.84 163,-210 171.78,-151.82 159.41,-83.03 150.89,-45.95\"/>\n",
       "<polygon fill=\"black\" stroke=\"black\" points=\"154.22,-44.85 148.5,-35.93 147.41,-46.47 154.22,-44.85\"/>\n",
       "<text text-anchor=\"middle\" x=\"170\" y=\"-144.8\" font-family=\"Times,serif\" font-size=\"14.00\">1</text>\n",
       "</g>\n",
       "<!-- Twitter&#45;&gt;Google -->\n",
       "<g id=\"edge4\" class=\"edge\">\n",
       "<title>Twitter-&gt;Google</title>\n",
       "<path fill=\"none\" stroke=\"black\" d=\"M105.93,-210.25C104.9,-220.17 104.9,-232.67 109,-243 110.72,-247.31 113.24,-251.39 116.12,-255.15\"/>\n",
       "<polygon fill=\"black\" stroke=\"black\" points=\"113.66,-257.64 122.91,-262.81 118.9,-253 113.66,-257.64\"/>\n",
       "<text text-anchor=\"middle\" x=\"114\" y=\"-231.8\" font-family=\"Times,serif\" font-size=\"14.00\">2</text>\n",
       "</g>\n",
       "<!-- Twitter&#45;&gt;Facebook -->\n",
       "<g id=\"edge5\" class=\"edge\">\n",
       "<title>Twitter-&gt;Facebook</title>\n",
       "<path fill=\"none\" stroke=\"black\" d=\"M101.87,-174.22C97.32,-164.24 90.98,-151.51 84,-141 81.61,-137.4 78.89,-133.76 76.09,-130.26\"/>\n",
       "<polygon fill=\"black\" stroke=\"black\" points=\"78.64,-127.84 69.53,-122.43 73.27,-132.34 78.64,-127.84\"/>\n",
       "<text text-anchor=\"middle\" x=\"97\" y=\"-144.8\" font-family=\"Times,serif\" font-size=\"14.00\">4</text>\n",
       "</g>\n",
       "<!-- Facebook&#45;&gt;Twitter -->\n",
       "<g id=\"edge6\" class=\"edge\">\n",
       "<title>Facebook-&gt;Twitter</title>\n",
       "<path fill=\"none\" stroke=\"black\" d=\"M57.58,-123.15C60.21,-133.27 64.5,-146.01 71,-156 73.92,-160.49 77.55,-164.79 81.39,-168.74\"/>\n",
       "<polygon fill=\"black\" stroke=\"black\" points=\"79.26,-171.54 88.92,-175.88 84.07,-166.46 79.26,-171.54\"/>\n",
       "<text text-anchor=\"middle\" x=\"76\" y=\"-144.8\" font-family=\"Times,serif\" font-size=\"14.00\">5</text>\n",
       "</g>\n",
       "<!-- Facebook&#45;&gt;Reddit -->\n",
       "<g id=\"edge7\" class=\"edge\">\n",
       "<title>Facebook-&gt;Reddit</title>\n",
       "<path fill=\"none\" stroke=\"black\" d=\"M71.35,-87.61C85.1,-74.63 104.47,-56.34 119.75,-41.91\"/>\n",
       "<polygon fill=\"black\" stroke=\"black\" points=\"122.44,-44.18 127.31,-34.76 117.63,-39.09 122.44,-44.18\"/>\n",
       "<text text-anchor=\"middle\" x=\"113.5\" y=\"-57.8\" font-family=\"Times,serif\" font-size=\"14.00\">10</text>\n",
       "</g>\n",
       "<!-- Reddit&#45;&gt;Google -->\n",
       "<g id=\"edge8\" class=\"edge\">\n",
       "<title>Reddit-&gt;Google</title>\n",
       "<path fill=\"none\" stroke=\"black\" d=\"M157.15,-35.31C161.15,-40.95 165.22,-47.5 168,-54 195.38,-117.85 185.89,-140.97 178,-210 176.3,-224.9 177.53,-229.5 171,-243 169.15,-246.84 166.78,-250.61 164.21,-254.18\"/>\n",
       "<polygon fill=\"black\" stroke=\"black\" points=\"161.42,-252.06 157.96,-262.07 166.91,-256.4 161.42,-252.06\"/>\n",
       "<text text-anchor=\"middle\" x=\"190\" y=\"-144.8\" font-family=\"Times,serif\" font-size=\"14.00\">5</text>\n",
       "</g>\n",
       "<!-- Reddit&#45;&gt;Twitter -->\n",
       "<g id=\"edge9\" class=\"edge\">\n",
       "<title>Reddit-&gt;Twitter</title>\n",
       "<path fill=\"none\" stroke=\"black\" d=\"M140.53,-36.05C134.47,-65.88 121.87,-127.76 114.56,-163.64\"/>\n",
       "<polygon fill=\"black\" stroke=\"black\" points=\"111.05,-163.38 112.49,-173.88 117.91,-164.78 111.05,-163.38\"/>\n",
       "<text text-anchor=\"middle\" x=\"134\" y=\"-101.3\" font-family=\"Times,serif\" font-size=\"14.00\">6</text>\n",
       "</g>\n",
       "<!-- Reddit&#45;&gt;Facebook -->\n",
       "<g id=\"edge10\" class=\"edge\">\n",
       "<title>Reddit-&gt;Facebook</title>\n",
       "<path fill=\"none\" stroke=\"black\" d=\"M113.94,-30.45C101.96,-36.14 88.73,-43.97 79,-54 72.59,-60.61 67.5,-69.19 63.62,-77.37\"/>\n",
       "<polygon fill=\"black\" stroke=\"black\" points=\"60.37,-76.07 59.64,-86.64 66.8,-78.84 60.37,-76.07\"/>\n",
       "<text text-anchor=\"middle\" x=\"84\" y=\"-57.8\" font-family=\"Times,serif\" font-size=\"14.00\">3</text>\n",
       "</g>\n",
       "<!-- Reddit&#45;&gt;Reddit -->\n",
       "<g id=\"edge11\" class=\"edge\">\n",
       "<title>Reddit-&gt;Reddit</title>\n",
       "<path fill=\"none\" stroke=\"black\" d=\"M181.53,-25.88C193.81,-25.83 203.59,-23.21 203.59,-18 203.59,-14.34 198.77,-11.95 191.62,-10.85\"/>\n",
       "<polygon fill=\"black\" stroke=\"black\" points=\"191.76,-7.35 181.53,-10.12 191.26,-14.33 191.76,-7.35\"/>\n",
       "<text text-anchor=\"middle\" x=\"208.59\" y=\"-14.3\" font-family=\"Times,serif\" font-size=\"14.00\">2</text>\n",
       "</g>\n",
       "</g>\n",
       "</svg>"
      ],
      "text/plain": [
       "<IPython.core.display.SVG object>"
      ]
     },
     "metadata": {},
     "output_type": "display_data"
    }
   ],
   "source": [
    "A = np.array([[0,  2,  0,  5],\n",
    "              [1,  0,  5,  6],\n",
    "              [2,  4,  0,  3],\n",
    "              [1,  0, 10,  2]])\n",
    "\n",
    "labels = ['Google', 'Twitter', 'Facebook', 'Reddit']\n",
    "graph.draw_matrix(A, labels, directed=True)"
   ]
  },
  {
   "cell_type": "markdown",
   "metadata": {},
   "source": [
    "**Check your answers!**\n",
    "\n",
    "First, convert `A` to a Markov matrix `M2` by converting each entry to a probability; that is, convert each column to a probability vector. *Hint: Try not to hard-code the answer; instead, adjust the columns of in a programmatic way. Recall that `B[:,i]` slices the $i$th column of a NumPy array `B` and to normalize you can use the `sum` function.*"
   ]
  },
  {
   "cell_type": "code",
   "execution_count": 21,
   "metadata": {},
   "outputs": [],
   "source": [
    "#grade (enter your code in this cell - DO NOT DELETE THIS LINE) \n",
    "M2 = A.copy().astype(float)\n",
    "# Convert entries in M2 below\n",
    "for i in range(len(M2)):\n",
    "    M2[:,i] = M2[:,i]/np.sum(M2[:,i])"
   ]
  },
  {
   "cell_type": "markdown",
   "metadata": {},
   "source": [
    "**Try this!**\n",
    "\n",
    "Now, use power iteration as you have done before to find the steady-state of the Markov matrix. You can use any starting vector you like, as long as it is normalized. This steady-state is the relative PageRank of each webpage. Store your result in `eigvec`."
   ]
  },
  {
   "cell_type": "code",
   "execution_count": null,
   "metadata": {
    "scrolled": true
   },
   "outputs": [],
   "source": []
  },
  {
   "cell_type": "markdown",
   "metadata": {},
   "source": [
    "Now you can print it out:"
   ]
  },
  {
   "cell_type": "code",
   "execution_count": 22,
   "metadata": {},
   "outputs": [
    {
     "ename": "NameError",
     "evalue": "name 'eigvec' is not defined",
     "output_type": "error",
     "traceback": [
      "\u001b[0;31m---------------------------------------------------------------------------\u001b[0m",
      "\u001b[0;31mNameError\u001b[0m                                 Traceback (most recent call last)",
      "\u001b[0;32m<ipython-input-22-87d1bc440a93>\u001b[0m in \u001b[0;36m<module>\u001b[0;34m\u001b[0m\n\u001b[0;32m----> 1\u001b[0;31m \u001b[0mprint\u001b[0m\u001b[0;34m(\u001b[0m\u001b[0meigvec\u001b[0m\u001b[0;34m)\u001b[0m\u001b[0;34m\u001b[0m\u001b[0;34m\u001b[0m\u001b[0m\n\u001b[0m",
      "\u001b[0;31mNameError\u001b[0m: name 'eigvec' is not defined"
     ]
    }
   ],
   "source": [
    "print(eigvec)"
   ]
  },
  {
   "cell_type": "markdown",
   "metadata": {},
   "source": [
    "What is the highest ranking site here?  You can use `labels` to get a name from a node index."
   ]
  },
  {
   "cell_type": "code",
   "execution_count": 23,
   "metadata": {},
   "outputs": [
    {
     "ename": "NameError",
     "evalue": "name 'eigvec' is not defined",
     "output_type": "error",
     "traceback": [
      "\u001b[0;31m---------------------------------------------------------------------------\u001b[0m",
      "\u001b[0;31mNameError\u001b[0m                                 Traceback (most recent call last)",
      "\u001b[0;32m<ipython-input-23-1417fc2c00d8>\u001b[0m in \u001b[0;36m<module>\u001b[0;34m\u001b[0m\n\u001b[0;32m----> 1\u001b[0;31m \u001b[0mprint\u001b[0m\u001b[0;34m(\u001b[0m\u001b[0mlabels\u001b[0m\u001b[0;34m[\u001b[0m\u001b[0mnp\u001b[0m\u001b[0;34m.\u001b[0m\u001b[0margmax\u001b[0m\u001b[0;34m(\u001b[0m\u001b[0meigvec\u001b[0m\u001b[0;34m)\u001b[0m\u001b[0;34m]\u001b[0m\u001b[0;34m)\u001b[0m\u001b[0;34m\u001b[0m\u001b[0;34m\u001b[0m\u001b[0m\n\u001b[0m",
      "\u001b[0;31mNameError\u001b[0m: name 'eigvec' is not defined"
     ]
    }
   ],
   "source": [
    "print(labels[np.argmax(eigvec)])"
   ]
  },
  {
   "cell_type": "markdown",
   "metadata": {},
   "source": [
    "## Larger Example"
   ]
  },
  {
   "cell_type": "markdown",
   "metadata": {},
   "source": [
    "Let's try a larger example with more websites.  We will have a slightly different format to represent our links."
   ]
  },
  {
   "cell_type": "code",
   "execution_count": 24,
   "metadata": {},
   "outputs": [
    {
     "name": "stdout",
     "output_type": "stream",
     "text": [
      "[[19 13]\n",
      " [10  4]\n",
      " [10 19]\n",
      " [10 18]\n",
      " [ 1 14]\n",
      " [12 13]\n",
      " [13 18]\n",
      " [ 8 13]\n",
      " [ 8  1]\n",
      " [ 1  6]\n",
      " [ 7  5]\n",
      " [13  2]\n",
      " [ 9 14]\n",
      " [ 3 17]\n",
      " [ 7 18]\n",
      " [ 3 15]\n",
      " [14 17]\n",
      " [ 9 16]\n",
      " [ 2  4]\n",
      " [ 3  6]\n",
      " [12  9]\n",
      " [ 8 14]\n",
      " [ 1 15]\n",
      " [15 16]\n",
      " [ 0 13]\n",
      " [ 8  5]\n",
      " [17 12]\n",
      " [10  9]\n",
      " [ 5  6]\n",
      " [12 16]\n",
      " [17  0]\n",
      " [ 2  9]\n",
      " [15 17]\n",
      " [ 6  6]\n",
      " [17  1]\n",
      " [14 13]\n",
      " [ 2 18]\n",
      " [ 9  9]\n",
      " [ 4 10]\n",
      " [ 3  5]\n",
      " [ 3 11]\n",
      " [ 8  7]\n",
      " [ 4  8]\n",
      " [ 5  9]\n",
      " [ 4  3]\n",
      " [17  3]\n",
      " [ 1 12]\n",
      " [19 19]\n",
      " [ 7  3]\n",
      " [ 3 14]\n",
      " [ 0 11]\n",
      " [19 11]\n",
      " [ 9  1]\n",
      " [14  9]\n",
      " [13 11]\n",
      " [ 6  2]\n",
      " [ 5 11]\n",
      " [19 17]\n",
      " [17  5]\n",
      " [ 0  5]\n",
      " [ 4 13]\n",
      " [ 6 16]\n",
      " [16 19]\n",
      " [12  1]]\n"
     ]
    }
   ],
   "source": [
    "num_pages = 20\n",
    "\n",
    "# Array with the edges\n",
    "edges = np.loadtxt(\"pagerank_large.txt\").astype(np.int64)\n",
    "\n",
    "# these are random, don't look too deeply into this...\n",
    "labels = ['Google', 'Twitter', 'Facebook', 'Reddit', 'WordPress', 'ArXiv', 'Amazon', 'UIUC', 'Wikipedia', 'IMDb',\n",
    "          'GitHub', 'Yahoo!', 'Flickr', 'Apple', 'Baidu', 'VKontakte', 'Mozilla', 'LinkedIn', 'YouTube', 'NASA']\n",
    "\n",
    "print(edges)"
   ]
  },
  {
   "cell_type": "markdown",
   "metadata": {},
   "source": [
    "The link information is given in the `edges` 2d numpy array, that has shape `(total number of links, 2)`"
   ]
  },
  {
   "cell_type": "code",
   "execution_count": 25,
   "metadata": {},
   "outputs": [
    {
     "data": {
      "text/plain": [
       "(64, 2)"
      ]
     },
     "execution_count": 25,
     "metadata": {},
     "output_type": "execute_result"
    }
   ],
   "source": [
    "edges.shape"
   ]
  },
  {
   "cell_type": "markdown",
   "metadata": {},
   "source": [
    "Each row of `edges` has two entries, `[a,b]`, representing an edge (outgoing link) from website with index `a` to website with index `b`.\n",
    "\n",
    "For example, if the row is `[1, 8]`, then there is an edge/link going out of node `1` into node `8`.\n",
    "\n",
    "From the `edges` array, first create the adjacency matrix such that \n",
    "$$    \n",
    "{\\bf A}_{i,j}= \n",
    "\\begin{cases}\n",
    "    1,& \\text{if webpage } i \\text{ can be reached from webpage }j \\\\\n",
    "    0,              & \\text{otherwise}\n",
    "\\end{cases}\n",
    "$$\n",
    "You can assume that there are $n=20$ websites in total, and thus you will have a $20\\times 20$ adjacency matrix."
   ]
  },
  {
   "cell_type": "code",
   "execution_count": 26,
   "metadata": {},
   "outputs": [
    {
     "data": {
      "text/plain": [
       "array([[0., 0., 0., 0., 0., 0., 0., 0., 0., 0., 0., 0., 0., 0., 0., 0.,\n",
       "        0., 1., 0., 0.],\n",
       "       [0., 0., 0., 0., 0., 0., 0., 0., 1., 1., 0., 0., 1., 0., 0., 0.,\n",
       "        0., 1., 0., 0.],\n",
       "       [0., 0., 0., 0., 0., 0., 1., 0., 0., 0., 0., 0., 0., 1., 0., 0.,\n",
       "        0., 0., 0., 0.],\n",
       "       [0., 0., 0., 0., 1., 0., 0., 1., 0., 0., 0., 0., 0., 0., 0., 0.,\n",
       "        0., 1., 0., 0.],\n",
       "       [0., 0., 1., 0., 0., 0., 0., 0., 0., 0., 1., 0., 0., 0., 0., 0.,\n",
       "        0., 0., 0., 0.],\n",
       "       [1., 0., 0., 1., 0., 0., 0., 1., 1., 0., 0., 0., 0., 0., 0., 0.,\n",
       "        0., 1., 0., 0.],\n",
       "       [0., 1., 0., 1., 0., 1., 1., 0., 0., 0., 0., 0., 0., 0., 0., 0.,\n",
       "        0., 0., 0., 0.],\n",
       "       [0., 0., 0., 0., 0., 0., 0., 0., 1., 0., 0., 0., 0., 0., 0., 0.,\n",
       "        0., 0., 0., 0.],\n",
       "       [0., 0., 0., 0., 1., 0., 0., 0., 0., 0., 0., 0., 0., 0., 0., 0.,\n",
       "        0., 0., 0., 0.],\n",
       "       [0., 0., 1., 0., 0., 1., 0., 0., 0., 1., 1., 0., 1., 0., 1., 0.,\n",
       "        0., 0., 0., 0.],\n",
       "       [0., 0., 0., 0., 1., 0., 0., 0., 0., 0., 0., 0., 0., 0., 0., 0.,\n",
       "        0., 0., 0., 0.],\n",
       "       [1., 0., 0., 1., 0., 1., 0., 0., 0., 0., 0., 0., 0., 1., 0., 0.,\n",
       "        0., 0., 0., 1.],\n",
       "       [0., 1., 0., 0., 0., 0., 0., 0., 0., 0., 0., 0., 0., 0., 0., 0.,\n",
       "        0., 1., 0., 0.],\n",
       "       [1., 0., 0., 0., 1., 0., 0., 0., 1., 0., 0., 0., 1., 0., 1., 0.,\n",
       "        0., 0., 0., 1.],\n",
       "       [0., 1., 0., 1., 0., 0., 0., 0., 1., 1., 0., 0., 0., 0., 0., 0.,\n",
       "        0., 0., 0., 0.],\n",
       "       [0., 1., 0., 1., 0., 0., 0., 0., 0., 0., 0., 0., 0., 0., 0., 0.,\n",
       "        0., 0., 0., 0.],\n",
       "       [0., 0., 0., 0., 0., 0., 1., 0., 0., 1., 0., 0., 1., 0., 0., 1.,\n",
       "        0., 0., 0., 0.],\n",
       "       [0., 0., 0., 1., 0., 0., 0., 0., 0., 0., 0., 0., 0., 0., 1., 1.,\n",
       "        0., 0., 0., 1.],\n",
       "       [0., 0., 1., 0., 0., 0., 0., 1., 0., 0., 1., 0., 0., 1., 0., 0.,\n",
       "        0., 0., 0., 0.],\n",
       "       [0., 0., 0., 0., 0., 0., 0., 0., 0., 0., 1., 0., 0., 0., 0., 0.,\n",
       "        1., 0., 0., 1.]])"
      ]
     },
     "execution_count": 26,
     "metadata": {},
     "output_type": "execute_result"
    }
   ],
   "source": [
    "A2 = np.zeros((num_pages, num_pages))\n",
    "for edge in edges:\n",
    "    A2[edge[1], edge[0]] = 1\n",
    "A2"
   ]
  },
  {
   "cell_type": "markdown",
   "metadata": {},
   "source": [
    "We can draw the adjacency matrix for a visual depiction of what is going on:"
   ]
  },
  {
   "cell_type": "code",
   "execution_count": 27,
   "metadata": {},
   "outputs": [
    {
     "data": {
      "image/svg+xml": [
       "<svg xmlns=\"http://www.w3.org/2000/svg\" xmlns:xlink=\"http://www.w3.org/1999/xlink\" width=\"1028pt\" height=\"1196pt\" viewBox=\"0.00 0.00 1028.00 1196.00\">\n",
       "<g id=\"graph0\" class=\"graph\" transform=\"scale(1 1) rotate(0) translate(4 1192)\">\n",
       "<polygon fill=\"white\" stroke=\"transparent\" points=\"-4,4 -4,-1192 1024,-1192 1024,4 -4,4\"/>\n",
       "<!-- Google -->\n",
       "<g id=\"node1\" class=\"node\">\n",
       "<title>Google</title>\n",
       "<ellipse fill=\"none\" stroke=\"black\" cx=\"887\" cy=\"-1170\" rx=\"43\" ry=\"18\"/>\n",
       "<text text-anchor=\"middle\" x=\"887\" y=\"-1166.3\" font-family=\"Times,serif\" font-size=\"14.00\">Google</text>\n",
       "</g>\n",
       "<!-- ArXiv -->\n",
       "<g id=\"node2\" class=\"node\">\n",
       "<title>ArXiv</title>\n",
       "<ellipse fill=\"none\" stroke=\"black\" cx=\"696\" cy=\"-1098\" rx=\"36.5\" ry=\"18\"/>\n",
       "<text text-anchor=\"middle\" x=\"696\" y=\"-1094.3\" font-family=\"Times,serif\" font-size=\"14.00\">ArXiv</text>\n",
       "</g>\n",
       "<!-- Google&#45;&gt;ArXiv -->\n",
       "<g id=\"edge1\" class=\"edge\">\n",
       "<title>Google-&gt;ArXiv</title>\n",
       "<path fill=\"none\" stroke=\"black\" d=\"M855.89,-1157.6C822.55,-1145.4 769.63,-1126 733.89,-1112.9\"/>\n",
       "<polygon fill=\"black\" stroke=\"black\" points=\"734.88,-1109.54 724.29,-1109.4 732.49,-1116.11 734.88,-1109.54\"/>\n",
       "</g>\n",
       "<!-- Yahoo! -->\n",
       "<g id=\"node3\" class=\"node\">\n",
       "<title>Yahoo!</title>\n",
       "<ellipse fill=\"none\" stroke=\"black\" cx=\"727\" cy=\"-18\" rx=\"42.49\" ry=\"18\"/>\n",
       "<text text-anchor=\"middle\" x=\"727\" y=\"-14.3\" font-family=\"Times,serif\" font-size=\"14.00\">Yahoo!</text>\n",
       "</g>\n",
       "<!-- Google&#45;&gt;Yahoo! -->\n",
       "<g id=\"edge2\" class=\"edge\">\n",
       "<title>Google-&gt;Yahoo!</title>\n",
       "<path fill=\"none\" stroke=\"black\" d=\"M913.59,-1155.8C952.41,-1134.6 1020,-1088.6 1020,-1027 1020,-1027 1020,-1027 1020,-161 1020,-55.19 863.34,-28.19 779.12,-21.33\"/>\n",
       "<polygon fill=\"black\" stroke=\"black\" points=\"779.21,-17.83 768.98,-20.57 778.69,-24.81 779.21,-17.83\"/>\n",
       "</g>\n",
       "<!-- Apple -->\n",
       "<g id=\"node4\" class=\"node\">\n",
       "<title>Apple</title>\n",
       "<ellipse fill=\"none\" stroke=\"black\" cx=\"280\" cy=\"-90\" rx=\"37.09\" ry=\"18\"/>\n",
       "<text text-anchor=\"middle\" x=\"280\" y=\"-86.3\" font-family=\"Times,serif\" font-size=\"14.00\">Apple</text>\n",
       "</g>\n",
       "<!-- Google&#45;&gt;Apple -->\n",
       "<g id=\"edge3\" class=\"edge\">\n",
       "<title>Google-&gt;Apple</title>\n",
       "<path fill=\"none\" stroke=\"black\" d=\"M844.52,-1166.7C667.79,-1156.8 0,-1113.6 0,-1027 0,-1027 0,-1027 0,-377 0,-239.06 168.36,-143.08 243.98,-106.92\"/>\n",
       "<polygon fill=\"black\" stroke=\"black\" points=\"245.59,-110.03 253.15,-102.61 242.61,-103.7 245.59,-110.03\"/>\n",
       "</g>\n",
       "<!-- ArXiv&#45;&gt;Yahoo! -->\n",
       "<g id=\"edge4\" class=\"edge\">\n",
       "<title>ArXiv-&gt;Yahoo!</title>\n",
       "<path fill=\"none\" stroke=\"black\" d=\"M732.09,-1095.1C772.7,-1091.3 838.64,-1079.6 882,-1044 920.98,-1012 982,-845.54 982,-811 982,-811 982,-811 982,-161 982,-68.44 852.18,-35.67 777.8,-24.5\"/>\n",
       "<polygon fill=\"black\" stroke=\"black\" points=\"778.08,-21 767.69,-23.06 777.1,-27.93 778.08,-21\"/>\n",
       "</g>\n",
       "<!-- Amazon -->\n",
       "<g id=\"node5\" class=\"node\">\n",
       "<title>Amazon</title>\n",
       "<ellipse fill=\"none\" stroke=\"black\" cx=\"602\" cy=\"-1026\" rx=\"47.5\" ry=\"18\"/>\n",
       "<text text-anchor=\"middle\" x=\"602\" y=\"-1022.3\" font-family=\"Times,serif\" font-size=\"14.00\">Amazon</text>\n",
       "</g>\n",
       "<!-- ArXiv&#45;&gt;Amazon -->\n",
       "<g id=\"edge5\" class=\"edge\">\n",
       "<title>ArXiv-&gt;Amazon</title>\n",
       "<path fill=\"none\" stroke=\"black\" d=\"M676.52,-1082.5C663.4,-1072.7 645.85,-1059.7 631.08,-1048.7\"/>\n",
       "<polygon fill=\"black\" stroke=\"black\" points=\"632.87,-1045.67 622.76,-1042.5 628.69,-1051.28 632.87,-1045.67\"/>\n",
       "</g>\n",
       "<!-- IMDb -->\n",
       "<g id=\"node6\" class=\"node\">\n",
       "<title>IMDb</title>\n",
       "<ellipse fill=\"none\" stroke=\"black\" cx=\"561\" cy=\"-306\" rx=\"36.5\" ry=\"18\"/>\n",
       "<text text-anchor=\"middle\" x=\"561\" y=\"-302.3\" font-family=\"Times,serif\" font-size=\"14.00\">IMDb</text>\n",
       "</g>\n",
       "<!-- ArXiv&#45;&gt;IMDb -->\n",
       "<g id=\"edge6\" class=\"edge\">\n",
       "<title>ArXiv-&gt;IMDb</title>\n",
       "<path fill=\"none\" stroke=\"black\" d=\"M729.28,-1090.6C788.49,-1076.9 906,-1039.3 906,-955 906,-955 906,-955 906,-593 906,-539.7 887.77,-396.58 849,-360 814.82,-327.74 679.76,-314.43 607.39,-309.53\"/>\n",
       "<polygon fill=\"black\" stroke=\"black\" points=\"607.39,-306.02 597.18,-308.86 606.93,-313.01 607.39,-306.02\"/>\n",
       "</g>\n",
       "<!-- Apple&#45;&gt;Yahoo! -->\n",
       "<g id=\"edge7\" class=\"edge\">\n",
       "<title>Apple-&gt;Yahoo!</title>\n",
       "<path fill=\"none\" stroke=\"black\" d=\"M314.7,-83.56C393.61,-71.21 586.68,-40.97 677.83,-26.7\"/>\n",
       "<polygon fill=\"black\" stroke=\"black\" points=\"678.56,-30.13 687.9,-25.12 677.48,-23.21 678.56,-30.13\"/>\n",
       "</g>\n",
       "<!-- Facebook -->\n",
       "<g id=\"node7\" class=\"node\">\n",
       "<title>Facebook</title>\n",
       "<ellipse fill=\"none\" stroke=\"black\" cx=\"361\" cy=\"-954\" rx=\"54\" ry=\"18\"/>\n",
       "<text text-anchor=\"middle\" x=\"361\" y=\"-950.3\" font-family=\"Times,serif\" font-size=\"14.00\">Facebook</text>\n",
       "</g>\n",
       "<!-- Apple&#45;&gt;Facebook -->\n",
       "<g id=\"edge8\" class=\"edge\">\n",
       "<title>Apple-&gt;Facebook</title>\n",
       "<path fill=\"none\" stroke=\"black\" d=\"M261.77,-106.07C250.92,-115.88 237.63,-129.52 229,-144 211.8,-172.85 214.76,-183.57 206,-216 142.08,-452.53 32.29,-519.14 95,-756 121.6,-856.47 243.38,-913.3 312.57,-938.01\"/>\n",
       "<polygon fill=\"black\" stroke=\"black\" points=\"311.79,-941.44 322.38,-941.43 314.09,-934.83 311.79,-941.44\"/>\n",
       "</g>\n",
       "<!-- YouTube -->\n",
       "<g id=\"node8\" class=\"node\">\n",
       "<title>YouTube</title>\n",
       "<ellipse fill=\"none\" stroke=\"black\" cx=\"114\" cy=\"-18\" rx=\"50.09\" ry=\"18\"/>\n",
       "<text text-anchor=\"middle\" x=\"114\" y=\"-14.3\" font-family=\"Times,serif\" font-size=\"14.00\">YouTube</text>\n",
       "</g>\n",
       "<!-- Apple&#45;&gt;YouTube -->\n",
       "<g id=\"edge9\" class=\"edge\">\n",
       "<title>Apple-&gt;YouTube</title>\n",
       "<path fill=\"none\" stroke=\"black\" d=\"M252.96,-77.6C226.35,-66.38 185.37,-49.1 154.8,-36.21\"/>\n",
       "<polygon fill=\"black\" stroke=\"black\" points=\"155.84,-32.85 145.27,-32.19 153.12,-39.3 155.84,-32.85\"/>\n",
       "</g>\n",
       "<!-- Amazon&#45;&gt;Amazon -->\n",
       "<g id=\"edge10\" class=\"edge\">\n",
       "<title>Amazon-&gt;Amazon</title>\n",
       "<path fill=\"none\" stroke=\"black\" d=\"M635,-1039C652.06,-1041 667.45,-1036.7 667.45,-1026 667.45,-1017.5 657.68,-1013 645.08,-1012.5\"/>\n",
       "<polygon fill=\"black\" stroke=\"black\" points=\"644.81,-1009.01 635,-1013 645.16,-1016 644.81,-1009.01\"/>\n",
       "</g>\n",
       "<!-- Amazon&#45;&gt;Facebook -->\n",
       "<g id=\"edge11\" class=\"edge\">\n",
       "<title>Amazon-&gt;Facebook</title>\n",
       "<path fill=\"none\" stroke=\"black\" d=\"M565.4,-1014.4C523.93,-1002.3 456.16,-982.64 410.12,-969.27\"/>\n",
       "<polygon fill=\"black\" stroke=\"black\" points=\"410.93,-965.86 400.35,-966.43 408.98,-972.58 410.93,-965.86\"/>\n",
       "</g>\n",
       "<!-- Mozilla -->\n",
       "<g id=\"node9\" class=\"node\">\n",
       "<title>Mozilla</title>\n",
       "<ellipse fill=\"none\" stroke=\"black\" cx=\"730\" cy=\"-234\" rx=\"44.39\" ry=\"18\"/>\n",
       "<text text-anchor=\"middle\" x=\"730\" y=\"-230.3\" font-family=\"Times,serif\" font-size=\"14.00\">Mozilla</text>\n",
       "</g>\n",
       "<!-- Amazon&#45;&gt;Mozilla -->\n",
       "<g id=\"edge12\" class=\"edge\">\n",
       "<title>Amazon-&gt;Mozilla</title>\n",
       "<path fill=\"none\" stroke=\"black\" d=\"M616.62,-1008.9C663.14,-956.36 808.21,-783.99 868,-612 904.83,-506.05 929.91,-461.43 882,-360 858.32,-309.88 803.6,-273.08 766.7,-252.85\"/>\n",
       "<polygon fill=\"black\" stroke=\"black\" points=\"768.2,-249.68 757.73,-248.06 764.9,-255.86 768.2,-249.68\"/>\n",
       "</g>\n",
       "<!-- IMDb&#45;&gt;IMDb -->\n",
       "<g id=\"edge13\" class=\"edge\">\n",
       "<title>IMDb-&gt;IMDb</title>\n",
       "<path fill=\"none\" stroke=\"black\" d=\"M586.74,-318.76C601.58,-321.36 615.4,-317.11 615.4,-306 615.4,-297.49 607.3,-293.01 596.84,-292.54\"/>\n",
       "<polygon fill=\"black\" stroke=\"black\" points=\"596.47,-289.06 586.74,-293.24 596.96,-296.04 596.47,-289.06\"/>\n",
       "</g>\n",
       "<!-- IMDb&#45;&gt;Mozilla -->\n",
       "<g id=\"edge16\" class=\"edge\">\n",
       "<title>IMDb-&gt;Mozilla</title>\n",
       "<path fill=\"none\" stroke=\"black\" d=\"M588.15,-293.75C615.89,-282.27 659.23,-264.31 690.71,-251.27\"/>\n",
       "<polygon fill=\"black\" stroke=\"black\" points=\"692.17,-254.46 700.07,-247.4 689.49,-247.99 692.17,-254.46\"/>\n",
       "</g>\n",
       "<!-- Twitter -->\n",
       "<g id=\"node10\" class=\"node\">\n",
       "<title>Twitter</title>\n",
       "<ellipse fill=\"none\" stroke=\"black\" cx=\"599\" cy=\"-450\" rx=\"45\" ry=\"18\"/>\n",
       "<text text-anchor=\"middle\" x=\"599\" y=\"-446.3\" font-family=\"Times,serif\" font-size=\"14.00\">Twitter</text>\n",
       "</g>\n",
       "<!-- IMDb&#45;&gt;Twitter -->\n",
       "<g id=\"edge14\" class=\"edge\">\n",
       "<title>IMDb-&gt;Twitter</title>\n",
       "<path fill=\"none\" stroke=\"black\" d=\"M565.6,-324.19C572.11,-348.53 584.09,-393.28 591.79,-422.06\"/>\n",
       "<polygon fill=\"black\" stroke=\"black\" points=\"588.45,-423.12 594.42,-431.87 595.21,-421.3 588.45,-423.12\"/>\n",
       "</g>\n",
       "<!-- Baidu -->\n",
       "<g id=\"node11\" class=\"node\">\n",
       "<title>Baidu</title>\n",
       "<ellipse fill=\"none\" stroke=\"black\" cx=\"516\" cy=\"-378\" rx=\"37.89\" ry=\"18\"/>\n",
       "<text text-anchor=\"middle\" x=\"516\" y=\"-374.3\" font-family=\"Times,serif\" font-size=\"14.00\">Baidu</text>\n",
       "</g>\n",
       "<!-- IMDb&#45;&gt;Baidu -->\n",
       "<g id=\"edge15\" class=\"edge\">\n",
       "<title>IMDb-&gt;Baidu</title>\n",
       "<path fill=\"none\" stroke=\"black\" d=\"M555.98,-323.96C551.28,-332.71 544.51,-343.53 537.8,-353.11\"/>\n",
       "<polygon fill=\"black\" stroke=\"black\" points=\"534.77,-351.32 531.71,-361.46 540.43,-355.44 534.77,-351.32\"/>\n",
       "</g>\n",
       "<!-- Facebook&#45;&gt;IMDb -->\n",
       "<g id=\"edge17\" class=\"edge\">\n",
       "<title>Facebook-&gt;IMDb</title>\n",
       "<path fill=\"none\" stroke=\"black\" d=\"M390.46,-938.92C405.5,-930.03 422.39,-917 431,-900 496.11,-771.54 423.99,-719.52 436,-576 444.1,-479.22 414.18,-440.16 469,-360 481.55,-341.65 502.7,-328.82 521.56,-320.39\"/>\n",
       "<polygon fill=\"black\" stroke=\"black\" points=\"523,-323.58 530.87,-316.49 520.29,-317.13 523,-323.58\"/>\n",
       "</g>\n",
       "<!-- Facebook&#45;&gt;YouTube -->\n",
       "<g id=\"edge18\" class=\"edge\">\n",
       "<title>Facebook-&gt;YouTube</title>\n",
       "<path fill=\"none\" stroke=\"black\" d=\"M306.94,-952.73C214.99,-949.12 38,-927.08 38,-811 38,-811 38,-811 38,-161 38,-115.13 69.2,-69.75 91.62,-43.05\"/>\n",
       "<polygon fill=\"black\" stroke=\"black\" points=\"94.36,-45.24 98.25,-35.39 89.06,-40.66 94.36,-45.24\"/>\n",
       "</g>\n",
       "<!-- WordPress -->\n",
       "<g id=\"node12\" class=\"node\">\n",
       "<title>WordPress</title>\n",
       "<ellipse fill=\"none\" stroke=\"black\" cx=\"361\" cy=\"-882\" rx=\"61.19\" ry=\"18\"/>\n",
       "<text text-anchor=\"middle\" x=\"361\" y=\"-878.3\" font-family=\"Times,serif\" font-size=\"14.00\">WordPress</text>\n",
       "</g>\n",
       "<!-- Facebook&#45;&gt;WordPress -->\n",
       "<g id=\"edge19\" class=\"edge\">\n",
       "<title>Facebook-&gt;WordPress</title>\n",
       "<path fill=\"none\" stroke=\"black\" d=\"M361,-935.7C361,-927.98 361,-918.71 361,-910.11\"/>\n",
       "<polygon fill=\"black\" stroke=\"black\" points=\"364.5,-910.1 361,-900.1 357.5,-910.1 364.5,-910.1\"/>\n",
       "</g>\n",
       "<!-- NASA -->\n",
       "<g id=\"node16\" class=\"node\">\n",
       "<title>NASA</title>\n",
       "<ellipse fill=\"none\" stroke=\"black\" cx=\"727\" cy=\"-162\" rx=\"37.89\" ry=\"18\"/>\n",
       "<text text-anchor=\"middle\" x=\"727\" y=\"-158.3\" font-family=\"Times,serif\" font-size=\"14.00\">NASA</text>\n",
       "</g>\n",
       "<!-- Mozilla&#45;&gt;NASA -->\n",
       "<g id=\"edge33\" class=\"edge\">\n",
       "<title>Mozilla-&gt;NASA</title>\n",
       "<path fill=\"none\" stroke=\"black\" d=\"M729.26,-215.7C728.93,-207.98 728.53,-198.71 728.16,-190.11\"/>\n",
       "<polygon fill=\"black\" stroke=\"black\" points=\"731.66,-189.94 727.73,-180.1 724.66,-190.24 731.66,-189.94\"/>\n",
       "</g>\n",
       "<!-- Twitter&#45;&gt;Amazon -->\n",
       "<g id=\"edge20\" class=\"edge\">\n",
       "<title>Twitter-&gt;Amazon</title>\n",
       "<path fill=\"none\" stroke=\"black\" d=\"M599.59,-468.05C600.47,-494.7 602,-547.88 602,-593 602,-883 602,-883 602,-883 602,-923 602,-969.35 602,-997.92\"/>\n",
       "<polygon fill=\"black\" stroke=\"black\" points=\"598.5,-998 602,-1008 605.5,-998 598.5,-998\"/>\n",
       "</g>\n",
       "<!-- Twitter&#45;&gt;Baidu -->\n",
       "<g id=\"edge22\" class=\"edge\">\n",
       "<title>Twitter-&gt;Baidu</title>\n",
       "<path fill=\"none\" stroke=\"black\" d=\"M580.58,-433.46C569.14,-423.82 554.27,-411.28 541.68,-400.66\"/>\n",
       "<polygon fill=\"black\" stroke=\"black\" points=\"543.7,-397.78 533.8,-394.01 539.19,-403.13 543.7,-397.78\"/>\n",
       "</g>\n",
       "<!-- Flickr -->\n",
       "<g id=\"node13\" class=\"node\">\n",
       "<title>Flickr</title>\n",
       "<ellipse fill=\"none\" stroke=\"black\" cx=\"709\" cy=\"-522\" rx=\"37.89\" ry=\"18\"/>\n",
       "<text text-anchor=\"middle\" x=\"709\" y=\"-518.3\" font-family=\"Times,serif\" font-size=\"14.00\">Flickr</text>\n",
       "</g>\n",
       "<!-- Twitter&#45;&gt;Flickr -->\n",
       "<g id=\"edge21\" class=\"edge\">\n",
       "<title>Twitter-&gt;Flickr</title>\n",
       "<path fill=\"none\" stroke=\"black\" d=\"M625.79,-464.57C643.09,-474.69 665.35,-488.69 682.57,-500.22\"/>\n",
       "<polygon fill=\"black\" stroke=\"black\" points=\"680.82,-503.26 691.06,-505.98 684.75,-497.47 680.82,-503.26\"/>\n",
       "</g>\n",
       "<!-- VKontakte -->\n",
       "<g id=\"node14\" class=\"node\">\n",
       "<title>VKontakte</title>\n",
       "<ellipse fill=\"none\" stroke=\"black\" cx=\"782\" cy=\"-378\" rx=\"58.5\" ry=\"18\"/>\n",
       "<text text-anchor=\"middle\" x=\"782\" y=\"-374.3\" font-family=\"Times,serif\" font-size=\"14.00\">VKontakte</text>\n",
       "</g>\n",
       "<!-- Twitter&#45;&gt;VKontakte -->\n",
       "<g id=\"edge23\" class=\"edge\">\n",
       "<title>Twitter-&gt;VKontakte</title>\n",
       "<path fill=\"none\" stroke=\"black\" d=\"M630.46,-436.97C659.94,-425.69 704.32,-408.71 737.44,-396.04\"/>\n",
       "<polygon fill=\"black\" stroke=\"black\" points=\"738.81,-399.27 746.9,-392.43 736.31,-392.73 738.81,-399.27\"/>\n",
       "</g>\n",
       "<!-- Baidu&#45;&gt;Apple -->\n",
       "<g id=\"edge28\" class=\"edge\">\n",
       "<title>Baidu-&gt;Apple</title>\n",
       "<path fill=\"none\" stroke=\"black\" d=\"M502.64,-360.8C463.13,-312.92 346.71,-171.84 299.86,-115.07\"/>\n",
       "<polygon fill=\"black\" stroke=\"black\" points=\"302.28,-112.51 293.22,-107.02 296.88,-116.96 302.28,-112.51\"/>\n",
       "</g>\n",
       "<!-- Baidu&#45;&gt;IMDb -->\n",
       "<g id=\"edge29\" class=\"edge\">\n",
       "<title>Baidu-&gt;IMDb</title>\n",
       "<path fill=\"none\" stroke=\"black\" d=\"M521.02,-360.05C525.79,-351.17 532.7,-340.14 539.52,-330.45\"/>\n",
       "<polygon fill=\"black\" stroke=\"black\" points=\"542.36,-332.5 545.43,-322.36 536.7,-328.37 542.36,-332.5\"/>\n",
       "</g>\n",
       "<!-- LinkedIn -->\n",
       "<g id=\"node15\" class=\"node\">\n",
       "<title>LinkedIn</title>\n",
       "<ellipse fill=\"none\" stroke=\"black\" cx=\"808\" cy=\"-594\" rx=\"51.5\" ry=\"18\"/>\n",
       "<text text-anchor=\"middle\" x=\"808\" y=\"-590.3\" font-family=\"Times,serif\" font-size=\"14.00\">LinkedIn</text>\n",
       "</g>\n",
       "<!-- Baidu&#45;&gt;LinkedIn -->\n",
       "<g id=\"edge30\" class=\"edge\">\n",
       "<title>Baidu-&gt;LinkedIn</title>\n",
       "<path fill=\"none\" stroke=\"black\" d=\"M518.85,-396.22C522.56,-415.05 530.38,-445.52 545,-468 571.07,-508.1 583.19,-516.76 625,-540 664.64,-562.03 714.31,-575.67 751.9,-583.58\"/>\n",
       "<polygon fill=\"black\" stroke=\"black\" points=\"751.66,-587.1 762.16,-585.66 753.05,-580.24 751.66,-587.1\"/>\n",
       "</g>\n",
       "<!-- WordPress&#45;&gt;Apple -->\n",
       "<g id=\"edge39\" class=\"edge\">\n",
       "<title>WordPress-&gt;Apple</title>\n",
       "<path fill=\"none\" stroke=\"black\" d=\"M349.74,-864.08C327.48,-828.94 280,-744.86 280,-667 280,-667 280,-667 280,-593 280,-411.91 280,-194.08 280,-118.45\"/>\n",
       "<polygon fill=\"black\" stroke=\"black\" points=\"283.5,-118.34 280,-108.34 276.5,-118.34 283.5,-118.34\"/>\n",
       "</g>\n",
       "<!-- Reddit -->\n",
       "<g id=\"node17\" class=\"node\">\n",
       "<title>Reddit</title>\n",
       "<ellipse fill=\"none\" stroke=\"black\" cx=\"526\" cy=\"-666\" rx=\"41.69\" ry=\"18\"/>\n",
       "<text text-anchor=\"middle\" x=\"526\" y=\"-662.3\" font-family=\"Times,serif\" font-size=\"14.00\">Reddit</text>\n",
       "</g>\n",
       "<!-- WordPress&#45;&gt;Reddit -->\n",
       "<g id=\"edge40\" class=\"edge\">\n",
       "<title>WordPress-&gt;Reddit</title>\n",
       "<path fill=\"none\" stroke=\"black\" d=\"M373.95,-864.21C402.94,-826.61 473.16,-735.53 507.07,-691.56\"/>\n",
       "<polygon fill=\"black\" stroke=\"black\" points=\"510.01,-693.48 513.34,-683.42 504.46,-689.21 510.01,-693.48\"/>\n",
       "</g>\n",
       "<!-- Wikipedia -->\n",
       "<g id=\"node18\" class=\"node\">\n",
       "<title>Wikipedia</title>\n",
       "<ellipse fill=\"none\" stroke=\"black\" cx=\"202\" cy=\"-810\" rx=\"56.59\" ry=\"18\"/>\n",
       "<text text-anchor=\"middle\" x=\"202\" y=\"-806.3\" font-family=\"Times,serif\" font-size=\"14.00\">Wikipedia</text>\n",
       "</g>\n",
       "<!-- WordPress&#45;&gt;Wikipedia -->\n",
       "<g id=\"edge41\" class=\"edge\">\n",
       "<title>WordPress-&gt;Wikipedia</title>\n",
       "<path fill=\"none\" stroke=\"black\" d=\"M328.44,-866.67C303.76,-855.8 269.68,-840.8 243.12,-829.1\"/>\n",
       "<polygon fill=\"black\" stroke=\"black\" points=\"244.26,-825.78 233.7,-824.96 241.45,-832.19 244.26,-825.78\"/>\n",
       "</g>\n",
       "<!-- GitHub -->\n",
       "<g id=\"node19\" class=\"node\">\n",
       "<title>GitHub</title>\n",
       "<ellipse fill=\"none\" stroke=\"black\" cx=\"340\" cy=\"-378\" rx=\"44.39\" ry=\"18\"/>\n",
       "<text text-anchor=\"middle\" x=\"340\" y=\"-374.3\" font-family=\"Times,serif\" font-size=\"14.00\">GitHub</text>\n",
       "</g>\n",
       "<!-- WordPress&#45;&gt;GitHub -->\n",
       "<g id=\"edge42\" class=\"edge\">\n",
       "<title>WordPress-&gt;GitHub</title>\n",
       "<path fill=\"none\" stroke=\"black\" d=\"M357.64,-864.01C349.3,-790.2 336.83,-496.99 337.87,-406.05\"/>\n",
       "<polygon fill=\"black\" stroke=\"black\" points=\"341.37,-406.05 338.06,-395.99 334.37,-405.92 341.37,-406.05\"/>\n",
       "</g>\n",
       "<!-- Flickr&#45;&gt;Apple -->\n",
       "<g id=\"edge24\" class=\"edge\">\n",
       "<title>Flickr-&gt;Apple</title>\n",
       "<path fill=\"none\" stroke=\"black\" d=\"M702.12,-504.13C688.2,-468.41 658,-382.24 658,-307 658,-307 658,-307 658,-233 658,-162.59 425.23,-115.24 325.01,-98.12\"/>\n",
       "<polygon fill=\"black\" stroke=\"black\" points=\"325.32,-94.62 314.88,-96.42 324.16,-101.53 325.32,-94.62\"/>\n",
       "</g>\n",
       "<!-- Flickr&#45;&gt;IMDb -->\n",
       "<g id=\"edge25\" class=\"edge\">\n",
       "<title>Flickr-&gt;IMDb</title>\n",
       "<path fill=\"none\" stroke=\"black\" d=\"M699.03,-504.37C688.1,-486.31 669.86,-456.74 653,-432 628.71,-396.34 598.81,-356.39 579.83,-331.46\"/>\n",
       "<polygon fill=\"black\" stroke=\"black\" points=\"582.44,-329.12 573.59,-323.3 576.88,-333.37 582.44,-329.12\"/>\n",
       "</g>\n",
       "<!-- Flickr&#45;&gt;Mozilla -->\n",
       "<g id=\"edge27\" class=\"edge\">\n",
       "<title>Flickr-&gt;Mozilla</title>\n",
       "<path fill=\"none\" stroke=\"black\" d=\"M715.08,-504.07C718.45,-493.79 722.29,-480.31 724,-468 726.2,-452.15 725.95,-447.88 724,-432 721.98,-415.63 717.02,-412.37 715,-396 713.05,-380.12 714.05,-375.97 715,-360 717.02,-326.21 722.09,-287.55 725.77,-262.29\"/>\n",
       "<polygon fill=\"black\" stroke=\"black\" points=\"729.24,-262.74 727.26,-252.33 722.32,-261.7 729.24,-262.74\"/>\n",
       "</g>\n",
       "<!-- Flickr&#45;&gt;Twitter -->\n",
       "<g id=\"edge26\" class=\"edge\">\n",
       "<title>Flickr-&gt;Twitter</title>\n",
       "<path fill=\"none\" stroke=\"black\" d=\"M684.02,-508.49C666.83,-498.51 644.18,-484.3 626.51,-472.5\"/>\n",
       "<polygon fill=\"black\" stroke=\"black\" points=\"628.01,-469.29 617.77,-466.59 624.09,-475.09 628.01,-469.29\"/>\n",
       "</g>\n",
       "<!-- VKontakte&#45;&gt;Mozilla -->\n",
       "<g id=\"edge31\" class=\"edge\">\n",
       "<title>VKontakte-&gt;Mozilla</title>\n",
       "<path fill=\"none\" stroke=\"black\" d=\"M775.73,-359.87C766.79,-335.46 750.3,-290.43 739.75,-261.64\"/>\n",
       "<polygon fill=\"black\" stroke=\"black\" points=\"743.01,-260.38 736.29,-252.19 736.44,-262.78 743.01,-260.38\"/>\n",
       "</g>\n",
       "<!-- VKontakte&#45;&gt;LinkedIn -->\n",
       "<g id=\"edge32\" class=\"edge\">\n",
       "<title>VKontakte-&gt;LinkedIn</title>\n",
       "<path fill=\"none\" stroke=\"black\" d=\"M789.25,-396.34C793.17,-406.53 797.67,-419.78 800,-432 808.82,-478.23 809.5,-533.2 808.94,-565.48\"/>\n",
       "<polygon fill=\"black\" stroke=\"black\" points=\"805.43,-565.82 808.69,-575.9 812.43,-565.99 805.43,-565.82\"/>\n",
       "</g>\n",
       "<!-- LinkedIn&#45;&gt;Google -->\n",
       "<g id=\"edge34\" class=\"edge\">\n",
       "<title>LinkedIn-&gt;Google</title>\n",
       "<path fill=\"none\" stroke=\"black\" d=\"M814.36,-611.98C834.85,-667.69 899.01,-850.41 920,-1008 926.39,-1056 909.82,-1111.1 897.91,-1142.8\"/>\n",
       "<polygon fill=\"black\" stroke=\"black\" points=\"894.62,-1141.61 894.25,-1152.2 901.14,-1144.15 894.62,-1141.61\"/>\n",
       "</g>\n",
       "<!-- LinkedIn&#45;&gt;ArXiv -->\n",
       "<g id=\"edge35\" class=\"edge\">\n",
       "<title>LinkedIn-&gt;ArXiv</title>\n",
       "<path fill=\"none\" stroke=\"black\" d=\"M804.84,-611.98C800.18,-638.55 792,-691.6 792,-737 792,-955 792,-955 792,-955 792,-1004.8 751.01,-1050.1 722.6,-1075.6\"/>\n",
       "<polygon fill=\"black\" stroke=\"black\" points=\"720.24,-1073.01 714.97,-1082.2 724.82,-1078.3 720.24,-1073.01\"/>\n",
       "</g>\n",
       "<!-- LinkedIn&#45;&gt;Twitter -->\n",
       "<g id=\"edge36\" class=\"edge\">\n",
       "<title>LinkedIn-&gt;Twitter</title>\n",
       "<path fill=\"none\" stroke=\"black\" d=\"M764.39,-584.48C733.45,-576.79 692.23,-563.06 662,-540 640.01,-523.23 622.6,-496.61 611.71,-476.85\"/>\n",
       "<polygon fill=\"black\" stroke=\"black\" points=\"614.67,-474.97 606.89,-467.78 608.49,-478.25 614.67,-474.97\"/>\n",
       "</g>\n",
       "<!-- LinkedIn&#45;&gt;Flickr -->\n",
       "<g id=\"edge37\" class=\"edge\">\n",
       "<title>LinkedIn-&gt;Flickr</title>\n",
       "<path fill=\"none\" stroke=\"black\" d=\"M786.03,-577.46C771.71,-567.34 752.87,-554.02 737.42,-543.09\"/>\n",
       "<polygon fill=\"black\" stroke=\"black\" points=\"739.41,-540.21 729.22,-537.3 735.37,-545.93 739.41,-540.21\"/>\n",
       "</g>\n",
       "<!-- LinkedIn&#45;&gt;Reddit -->\n",
       "<g id=\"edge38\" class=\"edge\">\n",
       "<title>LinkedIn-&gt;Reddit</title>\n",
       "<path fill=\"none\" stroke=\"black\" d=\"M771.82,-606.89C765.24,-608.62 758.45,-610.37 752,-612 690.48,-627.56 618.95,-644.88 572.99,-655.35\"/>\n",
       "<polygon fill=\"black\" stroke=\"black\" points=\"572,-651.99 563.02,-657.61 573.55,-658.81 572,-651.99\"/>\n",
       "</g>\n",
       "<!-- NASA&#45;&gt;Yahoo! -->\n",
       "<g id=\"edge61\" class=\"edge\">\n",
       "<title>NASA-&gt;Yahoo!</title>\n",
       "<path fill=\"none\" stroke=\"black\" d=\"M727,-143.87C727,-119.67 727,-75.21 727,-46.39\"/>\n",
       "<polygon fill=\"black\" stroke=\"black\" points=\"730.5,-46.19 727,-36.19 723.5,-46.19 730.5,-46.19\"/>\n",
       "</g>\n",
       "<!-- NASA&#45;&gt;Apple -->\n",
       "<g id=\"edge62\" class=\"edge\">\n",
       "<title>NASA-&gt;Apple</title>\n",
       "<path fill=\"none\" stroke=\"black\" d=\"M697.27,-150.83C689.15,-148.32 680.3,-145.83 672,-144 548.8,-116.83 400.54,-101.36 326.64,-94.79\"/>\n",
       "<polygon fill=\"black\" stroke=\"black\" points=\"326.56,-91.27 316.29,-93.89 325.95,-98.24 326.56,-91.27\"/>\n",
       "</g>\n",
       "<!-- NASA&#45;&gt;LinkedIn -->\n",
       "<g id=\"edge63\" class=\"edge\">\n",
       "<title>NASA-&gt;LinkedIn</title>\n",
       "<path fill=\"none\" stroke=\"black\" d=\"M745.92,-177.7C757.7,-187.58 772.56,-201.42 783,-216 823.98,-273.24 833.99,-291.22 849,-360 865.22,-434.3 836.53,-523.01 819.41,-566.42\"/>\n",
       "<polygon fill=\"black\" stroke=\"black\" points=\"816.06,-565.37 815.54,-575.95 822.55,-568 816.06,-565.37\"/>\n",
       "</g>\n",
       "<!-- NASA&#45;&gt;NASA -->\n",
       "<g id=\"edge64\" class=\"edge\">\n",
       "<title>NASA-&gt;NASA</title>\n",
       "<path fill=\"none\" stroke=\"black\" d=\"M753.65,-174.81C768.73,-177.31 782.7,-173.04 782.7,-162 782.7,-153.55 774.51,-149.06 763.9,-148.55\"/>\n",
       "<polygon fill=\"black\" stroke=\"black\" points=\"763.41,-145.07 753.65,-149.19 763.85,-152.06 763.41,-145.07\"/>\n",
       "</g>\n",
       "<!-- Reddit&#45;&gt;ArXiv -->\n",
       "<g id=\"edge43\" class=\"edge\">\n",
       "<title>Reddit-&gt;ArXiv</title>\n",
       "<path fill=\"none\" stroke=\"black\" d=\"M526,-684.05C526,-710.71 526,-763.89 526,-809 526,-955 526,-955 526,-955 526,-995.54 519.08,-1013.7 546,-1044 572.42,-1073.8 616.62,-1086.8 650.22,-1092.5\"/>\n",
       "<polygon fill=\"black\" stroke=\"black\" points=\"649.84,-1095.98 660.27,-1094.1 650.94,-1089.07 649.84,-1095.98\"/>\n",
       "</g>\n",
       "<!-- Reddit&#45;&gt;Yahoo! -->\n",
       "<g id=\"edge44\" class=\"edge\">\n",
       "<title>Reddit-&gt;Yahoo!</title>\n",
       "<path fill=\"none\" stroke=\"black\" d=\"M510.39,-649.1C479.17,-615.53 412,-533.72 412,-451 412,-451 412,-451 412,-161 412,-47.18 585.04,-24.07 674.61,-19.74\"/>\n",
       "<polygon fill=\"black\" stroke=\"black\" points=\"675,-23.23 684.84,-19.31 674.7,-16.23 675,-23.23\"/>\n",
       "</g>\n",
       "<!-- Reddit&#45;&gt;Amazon -->\n",
       "<g id=\"edge45\" class=\"edge\">\n",
       "<title>Reddit-&gt;Amazon</title>\n",
       "<path fill=\"none\" stroke=\"black\" d=\"M533.69,-684.09C544.79,-710.38 564,-762.55 564,-809 564,-883 564,-883 564,-883 564,-924.37 579.23,-970.28 590.41,-998.39\"/>\n",
       "<polygon fill=\"black\" stroke=\"black\" points=\"587.28,-999.98 594.31,-1007.9 593.75,-997.32 587.28,-999.98\"/>\n",
       "</g>\n",
       "<!-- Reddit&#45;&gt;Baidu -->\n",
       "<g id=\"edge46\" class=\"edge\">\n",
       "<title>Reddit-&gt;Baidu</title>\n",
       "<path fill=\"none\" stroke=\"black\" d=\"M525.4,-647.97C523.74,-600.29 519.01,-465.18 516.97,-406.63\"/>\n",
       "<polygon fill=\"black\" stroke=\"black\" points=\"520.46,-406.18 516.61,-396.31 513.46,-406.43 520.46,-406.18\"/>\n",
       "</g>\n",
       "<!-- Reddit&#45;&gt;VKontakte -->\n",
       "<g id=\"edge47\" class=\"edge\">\n",
       "<title>Reddit-&gt;VKontakte</title>\n",
       "<path fill=\"none\" stroke=\"black\" d=\"M561.41,-656.38C613.16,-641.81 708.44,-607.11 756,-540 784.22,-500.19 786.22,-441.01 784.52,-406.58\"/>\n",
       "<polygon fill=\"black\" stroke=\"black\" points=\"788,-406.09 783.87,-396.33 781.01,-406.53 788,-406.09\"/>\n",
       "</g>\n",
       "<!-- Reddit&#45;&gt;LinkedIn -->\n",
       "<g id=\"edge48\" class=\"edge\">\n",
       "<title>Reddit-&gt;LinkedIn</title>\n",
       "<path fill=\"none\" stroke=\"black\" d=\"M559.79,-655.33C601.06,-644.85 672.53,-627.54 734,-612 740.92,-610.25 748.24,-608.37 755.51,-606.51\"/>\n",
       "<polygon fill=\"black\" stroke=\"black\" points=\"756.5,-609.87 765.33,-604.02 754.78,-603.09 756.5,-609.87\"/>\n",
       "</g>\n",
       "<!-- Wikipedia&#45;&gt;ArXiv -->\n",
       "<g id=\"edge49\" class=\"edge\">\n",
       "<title>Wikipedia-&gt;ArXiv</title>\n",
       "<path fill=\"none\" stroke=\"black\" d=\"M207.61,-828.03C219.22,-860.71 248.99,-932.46 298,-972 404.41,-1057.8 570.3,-1085.1 650.09,-1093.4\"/>\n",
       "<polygon fill=\"black\" stroke=\"black\" points=\"650.01,-1096.91 660.3,-1094.4 650.69,-1089.94 650.01,-1096.91\"/>\n",
       "</g>\n",
       "<!-- Wikipedia&#45;&gt;Apple -->\n",
       "<g id=\"edge50\" class=\"edge\">\n",
       "<title>Wikipedia-&gt;Apple</title>\n",
       "<path fill=\"none\" stroke=\"black\" d=\"M202.4,-791.95C202.98,-765.29 204,-712.12 204,-667 204,-667 204,-667 204,-305 204,-233.4 242.25,-155.69 264.48,-116.57\"/>\n",
       "<polygon fill=\"black\" stroke=\"black\" points=\"267.76,-117.89 269.75,-107.48 261.71,-114.38 267.76,-117.89\"/>\n",
       "</g>\n",
       "<!-- Wikipedia&#45;&gt;Twitter -->\n",
       "<g id=\"edge51\" class=\"edge\">\n",
       "<title>Wikipedia-&gt;Twitter</title>\n",
       "<path fill=\"none\" stroke=\"black\" d=\"M220.09,-792.69C284.05,-735.01 499.63,-540.61 573.73,-473.78\"/>\n",
       "<polygon fill=\"black\" stroke=\"black\" points=\"576.17,-476.29 581.26,-467 571.49,-471.09 576.17,-476.29\"/>\n",
       "</g>\n",
       "<!-- Wikipedia&#45;&gt;Baidu -->\n",
       "<g id=\"edge52\" class=\"edge\">\n",
       "<title>Wikipedia-&gt;Baidu</title>\n",
       "<path fill=\"none\" stroke=\"black\" d=\"M210.09,-791.95C221.78,-765.72 242,-713.61 242,-667 242,-667 242,-667 242,-593 242,-476.75 397.09,-414.29 473.91,-390.48\"/>\n",
       "<polygon fill=\"black\" stroke=\"black\" points=\"475.2,-393.75 483.76,-387.51 473.18,-387.05 475.2,-393.75\"/>\n",
       "</g>\n",
       "<!-- UIUC -->\n",
       "<g id=\"node20\" class=\"node\">\n",
       "<title>UIUC</title>\n",
       "<ellipse fill=\"none\" stroke=\"black\" cx=\"140\" cy=\"-738\" rx=\"36.5\" ry=\"18\"/>\n",
       "<text text-anchor=\"middle\" x=\"140\" y=\"-734.3\" font-family=\"Times,serif\" font-size=\"14.00\">UIUC</text>\n",
       "</g>\n",
       "<!-- Wikipedia&#45;&gt;UIUC -->\n",
       "<g id=\"edge53\" class=\"edge\">\n",
       "<title>Wikipedia-&gt;UIUC</title>\n",
       "<path fill=\"none\" stroke=\"black\" d=\"M187.31,-792.41C179.4,-783.48 169.5,-772.31 160.81,-762.5\"/>\n",
       "<polygon fill=\"black\" stroke=\"black\" points=\"163.41,-760.16 154.16,-754.99 158.17,-764.8 163.41,-760.16\"/>\n",
       "</g>\n",
       "<!-- GitHub&#45;&gt;IMDb -->\n",
       "<g id=\"edge54\" class=\"edge\">\n",
       "<title>GitHub-&gt;IMDb</title>\n",
       "<path fill=\"none\" stroke=\"black\" d=\"M374.05,-366.22C413.84,-353.61 479.58,-332.79 521.56,-319.49\"/>\n",
       "<polygon fill=\"black\" stroke=\"black\" points=\"522.69,-322.8 531.17,-316.45 520.58,-316.13 522.69,-322.8\"/>\n",
       "</g>\n",
       "<!-- GitHub&#45;&gt;YouTube -->\n",
       "<g id=\"edge55\" class=\"edge\">\n",
       "<title>GitHub-&gt;YouTube</title>\n",
       "<path fill=\"none\" stroke=\"black\" d=\"M329.4,-360.21C293.07,-302.66 173.41,-113.11 129.95,-44.27\"/>\n",
       "<polygon fill=\"black\" stroke=\"black\" points=\"132.87,-42.34 124.57,-35.75 126.95,-46.07 132.87,-42.34\"/>\n",
       "</g>\n",
       "<!-- GitHub&#45;&gt;WordPress -->\n",
       "<g id=\"edge56\" class=\"edge\">\n",
       "<title>GitHub-&gt;WordPress</title>\n",
       "<path fill=\"none\" stroke=\"black\" d=\"M343.36,-395.95C351.69,-469.6 364.14,-762.24 363.14,-853.6\"/>\n",
       "<polygon fill=\"black\" stroke=\"black\" points=\"359.64,-853.66 362.95,-863.72 366.64,-853.79 359.64,-853.66\"/>\n",
       "</g>\n",
       "<!-- GitHub&#45;&gt;NASA -->\n",
       "<g id=\"edge57\" class=\"edge\">\n",
       "<title>GitHub-&gt;NASA</title>\n",
       "<path fill=\"none\" stroke=\"black\" d=\"M365.09,-363.12C432.56,-325.82 617.84,-223.36 693.83,-181.34\"/>\n",
       "<polygon fill=\"black\" stroke=\"black\" points=\"695.9,-184.19 702.96,-176.29 692.52,-178.07 695.9,-184.19\"/>\n",
       "</g>\n",
       "<!-- UIUC&#45;&gt;ArXiv -->\n",
       "<g id=\"edge58\" class=\"edge\">\n",
       "<title>UIUC-&gt;ArXiv</title>\n",
       "<path fill=\"none\" stroke=\"black\" d=\"M127.95,-755.08C110.17,-780.43 79,-831.9 79,-881 79,-955 79,-955 79,-955 79,-1072 505.82,-1092.6 649.47,-1096.2\"/>\n",
       "<polygon fill=\"black\" stroke=\"black\" points=\"649.61,-1099.71 659.71,-1096.5 649.82,-1092.71 649.61,-1099.71\"/>\n",
       "</g>\n",
       "<!-- UIUC&#45;&gt;YouTube -->\n",
       "<g id=\"edge59\" class=\"edge\">\n",
       "<title>UIUC-&gt;YouTube</title>\n",
       "<path fill=\"none\" stroke=\"black\" d=\"M134.76,-720.05C119.48,-669.04 76,-512.22 76,-379 76,-379 76,-379 76,-161 76,-119.63 91.23,-73.72 102.41,-45.6\"/>\n",
       "<polygon fill=\"black\" stroke=\"black\" points=\"105.75,-46.67 106.31,-36.09 99.28,-44.02 105.75,-46.67\"/>\n",
       "</g>\n",
       "<!-- UIUC&#45;&gt;Reddit -->\n",
       "<g id=\"edge60\" class=\"edge\">\n",
       "<title>UIUC-&gt;Reddit</title>\n",
       "<path fill=\"none\" stroke=\"black\" d=\"M173.58,-730.91C242.22,-718.46 398.77,-690.07 478.07,-675.69\"/>\n",
       "<polygon fill=\"black\" stroke=\"black\" points=\"479.06,-679.07 488.27,-673.84 477.81,-672.18 479.06,-679.07\"/>\n",
       "</g>\n",
       "</g>\n",
       "</svg>"
      ],
      "text/plain": [
       "<IPython.core.display.SVG object>"
      ]
     },
     "metadata": {},
     "output_type": "display_data"
    }
   ],
   "source": [
    "graph.draw_matrix(A2, labels, show_weights=False)"
   ]
  },
  {
   "cell_type": "markdown",
   "metadata": {},
   "source": [
    "Now, create the Markov matrix  ${\\bf M}$ from the adjacency matrix as you have done before.  Recall that in order to satisfy the Markov property that the column sum is equal to 1, we need to normalize columns by dividing its values by the column sum."
   ]
  },
  {
   "cell_type": "code",
   "execution_count": 28,
   "metadata": {},
   "outputs": [
    {
     "name": "stderr",
     "output_type": "stream",
     "text": [
      "<ipython-input-28-374f7abfe8b6>:1: RuntimeWarning: invalid value encountered in true_divide\n",
      "  M = A2 / la.norm(A2, 1, axis=0)\n"
     ]
    },
    {
     "data": {
      "text/plain": [
       "array([[0.        , 0.        , 0.        , 0.        , 0.        ,\n",
       "        0.        , 0.        , 0.        , 0.        , 0.        ,\n",
       "        0.        ,        nan, 0.        , 0.        , 0.        ,\n",
       "        0.        , 0.        , 0.2       ,        nan, 0.        ],\n",
       "       [0.        , 0.        , 0.        , 0.        , 0.        ,\n",
       "        0.        , 0.        , 0.        , 0.2       , 0.25      ,\n",
       "        0.        ,        nan, 0.25      , 0.        , 0.        ,\n",
       "        0.        , 0.        , 0.2       ,        nan, 0.        ],\n",
       "       [0.        , 0.        , 0.        , 0.        , 0.        ,\n",
       "        0.        , 0.33333333, 0.        , 0.        , 0.        ,\n",
       "        0.        ,        nan, 0.        , 0.33333333, 0.        ,\n",
       "        0.        , 0.        , 0.        ,        nan, 0.        ],\n",
       "       [0.        , 0.        , 0.        , 0.        , 0.25      ,\n",
       "        0.        , 0.        , 0.33333333, 0.        , 0.        ,\n",
       "        0.        ,        nan, 0.        , 0.        , 0.        ,\n",
       "        0.        , 0.        , 0.2       ,        nan, 0.        ],\n",
       "       [0.        , 0.        , 0.33333333, 0.        , 0.        ,\n",
       "        0.        , 0.        , 0.        , 0.        , 0.        ,\n",
       "        0.25      ,        nan, 0.        , 0.        , 0.        ,\n",
       "        0.        , 0.        , 0.        ,        nan, 0.        ],\n",
       "       [0.33333333, 0.        , 0.        , 0.16666667, 0.        ,\n",
       "        0.        , 0.        , 0.33333333, 0.2       , 0.        ,\n",
       "        0.        ,        nan, 0.        , 0.        , 0.        ,\n",
       "        0.        , 0.        , 0.2       ,        nan, 0.        ],\n",
       "       [0.        , 0.25      , 0.        , 0.16666667, 0.        ,\n",
       "        0.33333333, 0.33333333, 0.        , 0.        , 0.        ,\n",
       "        0.        ,        nan, 0.        , 0.        , 0.        ,\n",
       "        0.        , 0.        , 0.        ,        nan, 0.        ],\n",
       "       [0.        , 0.        , 0.        , 0.        , 0.        ,\n",
       "        0.        , 0.        , 0.        , 0.2       , 0.        ,\n",
       "        0.        ,        nan, 0.        , 0.        , 0.        ,\n",
       "        0.        , 0.        , 0.        ,        nan, 0.        ],\n",
       "       [0.        , 0.        , 0.        , 0.        , 0.25      ,\n",
       "        0.        , 0.        , 0.        , 0.        , 0.        ,\n",
       "        0.        ,        nan, 0.        , 0.        , 0.        ,\n",
       "        0.        , 0.        , 0.        ,        nan, 0.        ],\n",
       "       [0.        , 0.        , 0.33333333, 0.        , 0.        ,\n",
       "        0.33333333, 0.        , 0.        , 0.        , 0.25      ,\n",
       "        0.25      ,        nan, 0.25      , 0.        , 0.33333333,\n",
       "        0.        , 0.        , 0.        ,        nan, 0.        ],\n",
       "       [0.        , 0.        , 0.        , 0.        , 0.25      ,\n",
       "        0.        , 0.        , 0.        , 0.        , 0.        ,\n",
       "        0.        ,        nan, 0.        , 0.        , 0.        ,\n",
       "        0.        , 0.        , 0.        ,        nan, 0.        ],\n",
       "       [0.33333333, 0.        , 0.        , 0.16666667, 0.        ,\n",
       "        0.33333333, 0.        , 0.        , 0.        , 0.        ,\n",
       "        0.        ,        nan, 0.        , 0.33333333, 0.        ,\n",
       "        0.        , 0.        , 0.        ,        nan, 0.25      ],\n",
       "       [0.        , 0.25      , 0.        , 0.        , 0.        ,\n",
       "        0.        , 0.        , 0.        , 0.        , 0.        ,\n",
       "        0.        ,        nan, 0.        , 0.        , 0.        ,\n",
       "        0.        , 0.        , 0.2       ,        nan, 0.        ],\n",
       "       [0.33333333, 0.        , 0.        , 0.        , 0.25      ,\n",
       "        0.        , 0.        , 0.        , 0.2       , 0.        ,\n",
       "        0.        ,        nan, 0.25      , 0.        , 0.33333333,\n",
       "        0.        , 0.        , 0.        ,        nan, 0.25      ],\n",
       "       [0.        , 0.25      , 0.        , 0.16666667, 0.        ,\n",
       "        0.        , 0.        , 0.        , 0.2       , 0.25      ,\n",
       "        0.        ,        nan, 0.        , 0.        , 0.        ,\n",
       "        0.        , 0.        , 0.        ,        nan, 0.        ],\n",
       "       [0.        , 0.25      , 0.        , 0.16666667, 0.        ,\n",
       "        0.        , 0.        , 0.        , 0.        , 0.        ,\n",
       "        0.        ,        nan, 0.        , 0.        , 0.        ,\n",
       "        0.        , 0.        , 0.        ,        nan, 0.        ],\n",
       "       [0.        , 0.        , 0.        , 0.        , 0.        ,\n",
       "        0.        , 0.33333333, 0.        , 0.        , 0.25      ,\n",
       "        0.        ,        nan, 0.25      , 0.        , 0.        ,\n",
       "        0.5       , 0.        , 0.        ,        nan, 0.        ],\n",
       "       [0.        , 0.        , 0.        , 0.16666667, 0.        ,\n",
       "        0.        , 0.        , 0.        , 0.        , 0.        ,\n",
       "        0.        ,        nan, 0.        , 0.        , 0.33333333,\n",
       "        0.5       , 0.        , 0.        ,        nan, 0.25      ],\n",
       "       [0.        , 0.        , 0.33333333, 0.        , 0.        ,\n",
       "        0.        , 0.        , 0.33333333, 0.        , 0.        ,\n",
       "        0.25      ,        nan, 0.        , 0.33333333, 0.        ,\n",
       "        0.        , 0.        , 0.        ,        nan, 0.        ],\n",
       "       [0.        , 0.        , 0.        , 0.        , 0.        ,\n",
       "        0.        , 0.        , 0.        , 0.        , 0.        ,\n",
       "        0.25      ,        nan, 0.        , 0.        , 0.        ,\n",
       "        0.        , 1.        , 0.        ,        nan, 0.25      ]])"
      ]
     },
     "execution_count": 28,
     "metadata": {},
     "output_type": "execute_result"
    }
   ],
   "source": [
    "M = A2 / la.norm(A2, 1, axis=0)\n",
    "M"
   ]
  },
  {
   "cell_type": "markdown",
   "metadata": {},
   "source": [
    "What do you observe? Looks like you may have tried to compute divisions by zero!\n",
    "\n",
    "**What happens when there is no outgoing link from a website?**\n",
    "\n",
    "The column corresponding to that website will only have zero entries, and if we apply the above normalization, we will have a division by zero.\n",
    "\n",
    "Once the web surfer reaches a page without outgoing links, we can assume that they will probably not stay on that webpage forever.\n",
    "\n",
    "How would you model the behavior of a web-surfer that is browsing a website without outgoing links? \n",
    "\n",
    "**Discuss this with your group.** Come up with ideas first, before reading the following text."
   ]
  },
  {
   "cell_type": "markdown",
   "metadata": {},
   "source": [
    "![](brainstorming.jpg)\n",
    "\n",
    "\n"
   ]
  },
  {
   "cell_type": "markdown",
   "metadata": {},
   "source": [
    "**The PageRank algorithm proposes the following:**\n",
    "once the web surfer reaches a page without outgoing links, it assumes that the web surfer will move to any of the webpages with equal probability $1/n$, where $n$ (defined as `num_pages`) is the number of pages.\n",
    "\n",
    "**Check your answers!**\n",
    "\n",
    "Using the matrix adjacency matrix ${\\bf A}_2$, construct the Markov matrix ${\\bf M}_3$ following this proposed model and store your result in variable `M3`."
   ]
  },
  {
   "cell_type": "code",
   "execution_count": 30,
   "metadata": {},
   "outputs": [],
   "source": [
    "#grade (enter your code in this cell - DO NOT DELETE THIS LINE) \n",
    "M3 = A2.copy().astype(float)\n",
    "for i in range(len(M3)):\n",
    "    if np.sum(M3[:,i]) != 0:\n",
    "        M3[:,i] = M3[:,i]/np.sum(M3[:,i])\n",
    "    elif np.sum(M3[:,i]) == 0:\n",
    "        M3[:,i] = 1/num_pages"
   ]
  },
  {
   "cell_type": "markdown",
   "metadata": {},
   "source": [
    "**Try this!**\n",
    "\n",
    "Use your defined function `power_iteration` to find the PageRank steady-state vector and save this as `pr`."
   ]
  },
  {
   "cell_type": "code",
   "execution_count": null,
   "metadata": {},
   "outputs": [],
   "source": []
  },
  {
   "cell_type": "markdown",
   "metadata": {},
   "source": [
    "You can see the ranking of all the websites using the PageRank algorithm:"
   ]
  },
  {
   "cell_type": "code",
   "execution_count": null,
   "metadata": {
    "scrolled": true
   },
   "outputs": [],
   "source": [
    "names = np.array(labels)\n",
    "names[np.argsort(pr)[::-1]]"
   ]
  },
  {
   "cell_type": "code",
   "execution_count": null,
   "metadata": {},
   "outputs": [],
   "source": []
  }
 ],
 "metadata": {
  "kernelspec": {
   "display_name": "Python 3",
   "language": "python",
   "name": "python3"
  },
  "language_info": {
   "codemirror_mode": {
    "name": "ipython",
    "version": 3
   },
   "file_extension": ".py",
   "mimetype": "text/x-python",
   "name": "python",
   "nbconvert_exporter": "python",
   "pygments_lexer": "ipython3",
   "version": "3.8.6"
  }
 },
 "nbformat": 4,
 "nbformat_minor": 4
}
